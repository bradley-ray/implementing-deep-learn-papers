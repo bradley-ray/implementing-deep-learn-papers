{
  "nbformat": 4,
  "nbformat_minor": 0,
  "metadata": {
    "colab": {
      "provenance": [],
      "collapsed_sections": [
        "VbM8_ZmHLJlv",
        "HTAsSn4ULe8d"
      ],
      "authorship_tag": "ABX9TyMHh1bNZYZTLNrz1gLevaAf"
    },
    "kernelspec": {
      "name": "python3",
      "display_name": "Python 3"
    },
    "language_info": {
      "name": "python"
    },
    "accelerator": "GPU",
    "gpuClass": "standard"
  },
  "cells": [
    {
      "cell_type": "markdown",
      "source": [
        "# Attention is All You Need\n",
        "* [paper](https://arxiv.org/abs/1706.03762)\n",
        "* [annotated paper](http://nlp.seas.harvard.edu/annotated-transformer/#prelims) was very helpful for introduction to get familar some of the NLP specific stuff"
      ],
      "metadata": {
        "id": "67Bhk60uRf9M"
      }
    },
    {
      "cell_type": "code",
      "source": [
        "!pip install torchdata spacy\n",
        "!python -m spacy download de_core_news_sm\n",
        "!python -m spacy download en_core_web_sm"
      ],
      "metadata": {
        "id": "KE-pQpSaQzvK"
      },
      "execution_count": null,
      "outputs": []
    },
    {
      "cell_type": "code",
      "source": [
        "import torch\n",
        "import torch.nn as nn\n",
        "from torch.optim import Adam\n",
        "from torch.optim.lr_scheduler import LambdaLR\n",
        "\n",
        "import matplotlib.pyplot as plt\n",
        "\n",
        "import copy"
      ],
      "metadata": {
        "id": "5X6FbGNuTvOJ"
      },
      "execution_count": 30,
      "outputs": []
    },
    {
      "cell_type": "code",
      "source": [
        "class DummyOptimizer(torch.optim.Optimizer):\n",
        "    def __init__(self):\n",
        "        self.param_groups = [{\"lr\": 0}]\n",
        "        None\n",
        "\n",
        "    def step(self):\n",
        "        None\n",
        "\n",
        "    def zero_grad(self, set_to_none=False):\n",
        "        None\n",
        "\n",
        "\n",
        "class DummyScheduler:\n",
        "    def step(self):\n",
        "        None"
      ],
      "metadata": {
        "id": "TJNMIG1NeSr8"
      },
      "execution_count": 31,
      "outputs": []
    },
    {
      "cell_type": "code",
      "source": [
        "def subsequent_mask(d_model):\n",
        "    attn_shape = (1, d_model, d_model)\n",
        "    # annotated paper uses torch.triu and diagonal 1, but this should be equivalent\n",
        "    mask = torch.tril(torch.ones(attn_shape), diagonal=0).type(torch.uint8)\n",
        "    return mask == 1\n",
        "\n",
        "# annotated paper also made display of mask overly complicated\n",
        "mask = subsequent_mask(20)\n",
        "plt.imshow(mask[0])"
      ],
      "metadata": {
        "colab": {
          "base_uri": "https://localhost:8080/",
          "height": 282
        },
        "id": "6LNGvRqLXbiG",
        "outputId": "d96248ee-72ae-47cc-893e-d16c6aa2f63a"
      },
      "execution_count": 3,
      "outputs": [
        {
          "output_type": "execute_result",
          "data": {
            "text/plain": [
              "<matplotlib.image.AxesImage at 0x7f88213f9d10>"
            ]
          },
          "metadata": {},
          "execution_count": 3
        },
        {
          "output_type": "display_data",
          "data": {
            "text/plain": [
              "<Figure size 432x288 with 1 Axes>"
            ],
            "image/png": "[encoded data removed]"
          },
          "metadata": {
            "needs_background": "light"
          }
        }
      ]
    },
    {
      "cell_type": "code",
      "source": [
        "def scaled_dot_attention(q, k, v, mask=None, dropout=None):\n",
        "    d_k = q.size(-1)\n",
        "    scores = (d_k ** 0.5) * q @ k.transpose(-2, -1)\n",
        "    if mask != None:\n",
        "        scores = scores.masked_fill(mask == 0, -1e9)\n",
        "    out = scores.softmax(dim=-1)\n",
        "    if dropout:\n",
        "        out = dropout(out)\n",
        "    return out @ v, out\n",
        "\n",
        "def get_heads(inp, w, bs, h, d_k):\n",
        "    # (bs, seq_len, d_model) -> (bs, num_heads, seq_len, d_k)\n",
        "    out = w(inp).view(bs, -1, h, d_k).transpose(1, 2)\n",
        "    return out\n",
        "\n",
        "def concat(inp, bs, h, d_k):\n",
        "    # does being contiguous help with speed? if not, then why care? is dumb question?\n",
        "    out = inp.transpose(1,2).contiguous().view(bs, -1, h*d_k)\n",
        "    return out\n",
        "\n",
        "class MultiHeadAttn(nn.Module):\n",
        "    def __init__(self, h, d_model, dropout=0.1):\n",
        "        super().__init__()\n",
        "        assert d_model % h == 0\n",
        "        self.d_k = d_model // h\n",
        "        self.h = h\n",
        "        self.w_q = nn.Linear(d_model, d_model)\n",
        "        self.w_k = nn.Linear(d_model, d_model)\n",
        "        self.w_v = nn.Linear(d_model, d_model)\n",
        "        self.w_o = nn.Linear(d_model, d_model)\n",
        "        self.dropout = nn.Dropout(p=dropout)\n",
        "    \n",
        "    def forward(self, q, k, v, mask):\n",
        "        if mask != None:\n",
        "            mask = mask.unsqueeze(1)\n",
        "        bs = q.size(0)\n",
        "\n",
        "        # split into multi headed q, k, v\n",
        "        q = get_heads(q, self.w_q, bs, self.h, self.d_k)\n",
        "        k = get_heads(k, self.w_k, bs, self.h, self.d_k)\n",
        "        v = get_heads(v, self.w_v, bs, self.h, self.d_k)\n",
        "\n",
        "        attn, _ = scaled_dot_attention(q, k, v, mask, self.dropout)\n",
        "\n",
        "        attn = concat(attn, bs, self.h, self.d_k)\n",
        "\n",
        "        del q\n",
        "        del k\n",
        "        del v\n",
        "\n",
        "        out = self.w_o(attn)\n",
        "\n",
        "        return out"
      ],
      "metadata": {
        "id": "lZxic4X7bhIP"
      },
      "execution_count": 48,
      "outputs": []
    },
    {
      "cell_type": "code",
      "source": [
        "class EncoderLayer(nn.Module):\n",
        "    def __init__(self, h, d_model, dropout=.1):\n",
        "        super().__init__()\n",
        "        self.d_model = d_model\n",
        "        self.self_attn = MultiHeadAttn(h, d_model)\n",
        "        self.ff = nn.Sequential(\n",
        "            nn.Linear(d_model, d_model*4),\n",
        "            nn.Dropout(.1),\n",
        "            nn.Linear(d_model*4, d_model),\n",
        "        )\n",
        "        self.norm_1 = nn.LayerNorm(d_model)\n",
        "        self.dropout_1 = nn.Dropout(dropout)\n",
        "        self.norm_2 = nn.LayerNorm(d_model)\n",
        "        self.dropout_2 = nn.Dropout(dropout)\n",
        "    \n",
        "    def forward(self, x, mask):\n",
        "        # apply self attn\n",
        "        out = self.self_attn(x, x, x, mask)\n",
        "        # apply normalize and dropout on residual conn\n",
        "        out = self.norm_1(x + out)\n",
        "        out_norm_1 = self.dropout_1(out)\n",
        "        # apply feedforward\n",
        "        out = self.ff(out_norm_1)\n",
        "        # apply normalize and dropout on residual conn\n",
        "        out = self.norm_2(out_norm_1 + out)\n",
        "        out = self.dropout_2(out)\n",
        "        return out"
      ],
      "metadata": {
        "id": "VBnTd9IwUn93"
      },
      "execution_count": 98,
      "outputs": []
    },
    {
      "cell_type": "code",
      "source": [
        "class Encoder(nn.Module):\n",
        "\n",
        "    def __init__(self, h, d_model, N):\n",
        "        super().__init__()\n",
        "        self.enc_layer = EncoderLayer(h, d_model)\n",
        "        self.enc_layers = nn.ModuleList([copy.deepcopy(self.enc_layer)] * N)\n",
        "        # TODO: how big a difference?\n",
        "        # self.enc_layers = [nn.EncoderLayer() for _ in range(N)]\n",
        "        self.norm = nn.LayerNorm(d_model)\n",
        "\n",
        "    def forward(self, x, mask):\n",
        "        out = x\n",
        "        for layer in self.enc_layers:\n",
        "            out = layer(x, mask)\n",
        "        \n",
        "        out = self.norm(out)\n",
        "\n",
        "        return out"
      ],
      "metadata": {
        "id": "-nFRaL0yS3l5"
      },
      "execution_count": 6,
      "outputs": []
    },
    {
      "cell_type": "code",
      "source": [
        "class DecoderLayer(nn.Module):\n",
        "    def __init__(self, h, d_model, dropout=.1):\n",
        "        super().__init__()\n",
        "        self.d_model = d_model\n",
        "        self.attn_1 = MultiHeadAttn(h, d_model)\n",
        "        self.attn_2 = MultiHeadAttn(h, d_model)\n",
        "        self.ff = nn.Sequential(\n",
        "            nn.Linear(d_model, d_model*4),\n",
        "            nn.Dropout(p=.1),\n",
        "            nn.Linear(d_model*4, d_model),\n",
        "        )\n",
        "        self.norm_1 = nn.LayerNorm(d_model)\n",
        "        self.dropout_1 = nn.Dropout(dropout)\n",
        "\n",
        "        self.norm_2 = nn.LayerNorm(d_model)\n",
        "        self.dropout_2 = nn.Dropout(dropout)\n",
        "\n",
        "        self.norm_3 = nn.LayerNorm(d_model)\n",
        "        self.dropout_3 = nn.Dropout(dropout)\n",
        "\n",
        "    def forward(self, x, mem, src_mask, tgt_mask):\n",
        "        \n",
        "        out = self.attn_1(x, x, x, tgt_mask)\n",
        "        # pretty sure annotated paper gets this backwards\n",
        "        # also prob change name from mem (don't really think it conveys point very well)\n",
        "        resid_1 = self.norm_1(x + self.dropout_1(out))\n",
        "        out = self.attn_2(resid_1, mem, mem, src_mask)\n",
        "        resid_2 = self.norm_2(resid_1 + self.dropout_2(out))\n",
        "        out = self.ff(resid_2)\n",
        "        resid_3 = self.norm_3(resid_2 + self.dropout_3(out))\n",
        "        out = resid_3\n",
        "\n",
        "        return out\n"
      ],
      "metadata": {
        "id": "J2eDuptR102A"
      },
      "execution_count": 64,
      "outputs": []
    },
    {
      "cell_type": "code",
      "source": [
        "class Decoder(nn.Module):\n",
        "    def __init__(self, h, d_model, N):\n",
        "        super().__init__()\n",
        "        self.decode_layer = DecoderLayer(h, d_model)\n",
        "        self.decode_layers = nn.ModuleList([copy.deepcopy(self.decode_layer)] * N)\n",
        "        self.norm = nn.LayerNorm(d_model)\n",
        "\n",
        "    def forward(self, x, mem, src_mask, tgt_mask):\n",
        "        # print('x', x.shape)\n",
        "        # print('mem', mem.shape)\n",
        "        # print('src_mask', src_mask.shape)\n",
        "        # print('tgt_mask', tgt_mask.shape)\n",
        "        out = x\n",
        "        for layer in self.decode_layers:\n",
        "            out = layer(out, mem, src_mask, tgt_mask)\n",
        "        \n",
        "        out = self.norm(out)\n",
        "\n",
        "        return out"
      ],
      "metadata": {
        "id": "wV6ifdVa0zrz"
      },
      "execution_count": 72,
      "outputs": []
    },
    {
      "cell_type": "code",
      "source": [
        "class PositionalEncoding(nn.Module):\n",
        "    def __init__(self, d_model, dropout=0.1, max_len=5000):\n",
        "        super().__init__()\n",
        "        self.pe = torch.zeros(max_len, d_model)\n",
        "        position = torch.arange(0, max_len).unsqueeze(1)\n",
        "        div = torch.exp(torch.arange(0, d_model, 2) * -(torch.log(torch.tensor(1e4)) / d_model))\n",
        "        self.pe[:, 0::2] = torch.sin(position * div)\n",
        "        self.pe[:, 1::2] = torch.cos(position * div)\n",
        "        self.pe = self.pe.unsqueeze(0)\n",
        "        self.dropout = nn.Dropout(p=dropout)\n",
        "\n",
        "    def forward(self, x):\n",
        "        out = x + self.pe[:, :x.size(1)].requires_grad_(False)\n",
        "        # return out\n",
        "        return self.dropout(out)"
      ],
      "metadata": {
        "id": "Rka_MFfzANQC"
      },
      "execution_count": 9,
      "outputs": []
    },
    {
      "cell_type": "code",
      "source": [
        "pe = PositionalEncoding(20, 0)\n",
        "y = pe(torch.zeros(1, 100, 20))\n",
        "plt.plot(y[0, :, 4])\n",
        "plt.plot(y[0, :, 5])\n",
        "plt.plot(y[0, :, 6])\n",
        "plt.plot(y[0, :, 7])"
      ],
      "metadata": {
        "id": "fJV7LmbOCLRE",
        "colab": {
          "base_uri": "https://localhost:8080/",
          "height": 282
        },
        "outputId": "b03ee91d-758e-4b61-eee2-60a19a6f720f"
      },
      "execution_count": 10,
      "outputs": [
        {
          "output_type": "execute_result",
          "data": {
            "text/plain": [
              "[<matplotlib.lines.Line2D at 0x7f8820e92650>]"
            ]
          },
          "metadata": {},
          "execution_count": 10
        },
        {
          "output_type": "display_data",
          "data": {
            "text/plain": [
              "<Figure size 432x288 with 1 Axes>"
            ],
            "image/png": "[encoded data removed]"
          },
          "metadata": {
            "needs_background": "light"
          }
        }
      ]
    },
    {
      "cell_type": "code",
      "source": [
        "class Embedding(nn.Module):\n",
        "    def __init__(self, d_model, vocab):\n",
        "        super().__init__()\n",
        "        self.lut = nn.Embedding(vocab, d_model)\n",
        "        self.d_model = d_model\n",
        "\n",
        "    def forward(self, x):\n",
        "        return self.lut(x) * (self.d_model ** .5)"
      ],
      "metadata": {
        "id": "vuoNtDvyT0Jx"
      },
      "execution_count": 11,
      "outputs": []
    },
    {
      "cell_type": "code",
      "source": [
        "class Transformer(nn.Module):\n",
        "    def __init__(self, src_vocab, tgt_vocab, N=6, d_model=512, d_ff = 2048, h=8, dropout=.1):\n",
        "        super().__init__()\n",
        "        self.dropout = nn.Dropout(p=dropout)\n",
        "        position = PositionalEncoding(d_model, dropout)\n",
        "        self.src_emb = nn.Sequential(\n",
        "            Embedding(d_model, src_vocab),\n",
        "            copy.deepcopy(position),\n",
        "        )\n",
        "        self.tgt_emb = nn.Sequential(\n",
        "            Embedding(d_model, tgt_vocab),\n",
        "            copy.deepcopy(position),\n",
        "        )\n",
        "        self.encoder = Encoder(h, d_model, N)\n",
        "        self.decoder = Decoder(h, d_model, N)\n",
        "        self.generator = nn.Sequential(\n",
        "            nn.Linear(d_model, tgt_vocab),\n",
        "            nn.LogSoftmax(dim=-1),\n",
        "        )\n",
        "\n",
        "        self.init_weights()\n",
        "\n",
        "    def init_weights(self):\n",
        "        for p in self.parameters():\n",
        "            if p.dim() > 1:\n",
        "                nn.init.xavier_uniform_(p)\n",
        "\n",
        "    def forward(self, src, tgt, src_mask, tgt_mask):\n",
        "        mem = self.encode(src, src_mask)\n",
        "        dec = self.decode(tgt, mem, src_mask, tgt_mask)\n",
        "        return dec\n",
        "        # out = self.generate(dec)\n",
        "        # return out\n",
        "\n",
        "    def encode(self, x, src_mask):\n",
        "        return self.encoder(self.src_emb(x), src_mask)\n",
        "\n",
        "    def decode(self, x, mem, src_mask, tgt_mask):\n",
        "        return self.decoder(self.tgt_emb(x), mem, src_mask, tgt_mask)\n",
        "    \n",
        "    def generate(self, x):\n",
        "        return self.generator(x)"
      ],
      "metadata": {
        "id": "Yxl0u_BLTHqa"
      },
      "execution_count": 102,
      "outputs": []
    },
    {
      "cell_type": "code",
      "source": [
        "def inference_test():\n",
        "    # vocab size = 11 (numbers 0-10), stack size of 2 encoders and 2 decoders\n",
        "    test_model = Transformer(11, 11, 2)\n",
        "    test_model.eval()\n",
        "\n",
        "    # seq len of 10\n",
        "    src = torch.cuda.LongTensor([[1, 2, 3, 4, 5, 6, 7, 8, 9, 10]])\n",
        "    # identity mask\n",
        "    src_mask = torch.ones(1,1,10)\n",
        "    # encode the input phrase\n",
        "    mem = test_model.encode(src, src_mask)\n",
        "    \n",
        "    # inital word in phrase\n",
        "    ys = torch.zeros(1,1).type_as(src)\n",
        "\n",
        "    for i in range(9):\n",
        "        # run decoder using previous words in phrase and the encoded phrase\n",
        "        # with tgt_mask that only selects words \n",
        "        out = test_model.decode(ys, mem, src_mask, subsequent_mask(ys.size(1)).type_as(src.data))\n",
        "        # predict next work in phrase\n",
        "        prob = test_model.generate(out[:, -1])\n",
        "        print('prob.shape', prob.shape)\n",
        "        _, next_word = torch.max(prob, dim=1)\n",
        "        next_word = next_word.data[0]\n",
        "\n",
        "        # add predicted word to predictd phrase\n",
        "        ys = torch.cat(\n",
        "            [ys, torch.empty(1,1).type_as(src.data).fill_(next_word)], dim=1\n",
        "        )\n",
        "\n",
        "    print(\"untrained model prediction:\", ys)\n",
        "\n",
        "# for _ in range(10):\n",
        "inference_test()"
      ],
      "metadata": {
        "colab": {
          "base_uri": "https://localhost:8080/"
        },
        "id": "DLrypNleWhAY",
        "outputId": "9e7bb2d1-8024-40d9-b22e-ba364b34ae48"
      },
      "execution_count": 86,
      "outputs": [
        {
          "output_type": "stream",
          "name": "stdout",
          "text": [
            "prob.shape torch.Size([1, 11])\n",
            "prob.shape torch.Size([1, 11])\n",
            "prob.shape torch.Size([1, 11])\n",
            "prob.shape torch.Size([1, 11])\n",
            "prob.shape torch.Size([1, 11])\n",
            "prob.shape torch.Size([1, 11])\n",
            "prob.shape torch.Size([1, 11])\n",
            "prob.shape torch.Size([1, 11])\n",
            "prob.shape torch.Size([1, 11])\n",
            "untrained model prediction: tensor([[ 0, 10, 10, 10,  8,  8,  8,  2, 10,  6]])\n"
          ]
        }
      ]
    },
    {
      "cell_type": "code",
      "source": [
        "class Batch:\n",
        "    def __init__(self, src, tgt=None, pad=2):\n",
        "        # 2 = <BLANK> token, so for masks ignore <BLANK> stokens\n",
        "        self.src = src.cuda()\n",
        "        self.src_mask = (src != pad).unsqueeze(-2).cuda()\n",
        "        if tgt is not None:\n",
        "            # ditch last word\n",
        "            self.tgt = tgt[:, :-1].cuda()\n",
        "            # grab everything shifted over one\n",
        "            self.tgt_y = tgt[:,1:].cuda()\n",
        "\n",
        "            self.tgt_mask = self.make_std_mask(self.tgt, pad).cuda()\n",
        "            self.num_tokens = (self.tgt_y != pad).data.sum().cuda()\n",
        "\n",
        "    @staticmethod\n",
        "    def make_std_mask(tgt, pad):\n",
        "        tgt_mask = (tgt != pad).unsqueeze(-2)\n",
        "        tgt_mask = tgt_mask & subsequent_mask(tgt.size(-1)).type_as(tgt_mask.data)\n",
        "        return tgt_mask"
      ],
      "metadata": {
        "id": "Fp-2YQEYutK6"
      },
      "execution_count": 109,
      "outputs": []
    },
    {
      "cell_type": "code",
      "source": [
        "class TrainState:\n",
        "    step = 0 # steps taken current epoch\n",
        "    accum_step = 0 # number of grad accum steps\n",
        "    samples = 0 # examples used\n",
        "    tokens = 0 # tokens processed"
      ],
      "metadata": {
        "id": "zLJyw7MRwplt"
      },
      "execution_count": 16,
      "outputs": []
    },
    {
      "cell_type": "code",
      "source": [
        "import time\n",
        "\n",
        "def run_epoch(data_iter, model, loss_func, optim, scheduler, \n",
        "                    mode='train', accum_iter=1, train_state=TrainState()):\n",
        "    start = time.time()\n",
        "    total_tokens = 0\n",
        "    total_loss = 0\n",
        "    tokens = 0\n",
        "    num_accum = 0\n",
        "    for i, batch in enumerate(data_iter):\n",
        "        out = model(batch.src, batch.tgt, batch.src_mask, batch.tgt_mask)\n",
        "        loss, loss_node = loss_func(out, batch.tgt_y, batch.num_tokens)\n",
        "\n",
        "        if mode == 'train' or mode == 'train+log':\n",
        "            loss_node.backward()\n",
        "            train_state.step += 1\n",
        "            train_state.samples += batch.src.shape[0]\n",
        "            train_state.tokens += batch.num_tokens\n",
        "            if i % accum_iter == 0:\n",
        "                optim.step()\n",
        "                optim.zero_grad()\n",
        "                num_accum += 1\n",
        "                train_state.accum_step += 1\n",
        "            scheduler.step()\n",
        "\n",
        "        \n",
        "        total_loss += loss\n",
        "        total_tokens += batch.num_tokens\n",
        "        tokens += batch.num_tokens\n",
        "\n",
        "        if i % 40 == 1 and (mode == 'train' or mode == 'train+log'):\n",
        "            lr = optim.param_groups[0]['lr']\n",
        "            elapsed = time.time() - start\n",
        "            print(f'Epohc Step: {i:6d} | Accumulation Step: {num_accum:3d} | Loss: {loss / batch.num_tokens:6.2f} | Tokens/s: {tokens/elapsed:7.1f} | Learning Rate: {lr:6.1e}')"
      ],
      "metadata": {
        "id": "r-9qUZNAWHX8"
      },
      "execution_count": 118,
      "outputs": []
    },
    {
      "cell_type": "code",
      "source": [
        "def rate(step, d_model, factor, warmup):\n",
        "    if step == 0:\n",
        "        step = 1\n",
        "    \n",
        "    return factor * (d_model ** -.5 * min(step ** -.5, step * warmup ** -1.5))"
      ],
      "metadata": {
        "id": "5kXxyKiVYJ_U"
      },
      "execution_count": 18,
      "outputs": []
    },
    {
      "cell_type": "code",
      "source": [
        "# need to investigate this more later to better understand\n",
        "class LabelSmoothing(nn.Module):\n",
        "    def __init__(self, size, padding_idx, smoothing=0.):\n",
        "        super().__init__()\n",
        "        self.criterion = nn.KLDivLoss(reduction='sum') # why sum? and not mean?\n",
        "        self.padding_idx = padding_idx\n",
        "        self.smoothing = smoothing\n",
        "        self.confidence = 1.0 - smoothing\n",
        "        self.size = size\n",
        "        self.true_dist = None\n",
        "\n",
        "    def forward(self, x, tgt):\n",
        "        assert x.size(1) == self.size\n",
        "\n",
        "        true_dist = x.data.clone() # why clone just to fill with new values?\n",
        "        true_dist.fill_(self.smoothing / (self.size - 2))\n",
        "        true_dist.scatter_(1, tgt.data.unsqueeze(1), self.confidence)\n",
        "        true_dist[:, self.padding_idx] = 0\n",
        "        mask = torch.nonzero(tgt.data == self.padding_idx)\n",
        "        if mask.dim() > 0:\n",
        "            true_dist.index_fill(0, mask.squeeze(), 0.)\n",
        "        self.true_dist = true_dist\n",
        "        return self.criterion(x, true_dist.clone().detach())"
      ],
      "metadata": {
        "id": "W5m9GH2MY5z5"
      },
      "execution_count": 89,
      "outputs": []
    },
    {
      "cell_type": "code",
      "source": [
        "def data_gen(vocab, bs, num_batches):\n",
        "    for i in range(num_batches):\n",
        "        data = torch.randint(1, vocab, size=(bs, 10))\n",
        "        data[:, 0] = 1\n",
        "        src = data.requires_grad_(False).clone().detach()\n",
        "        tgt = data.requires_grad_(False).clone().detach()\n",
        "        yield Batch(src, tgt, 0)"
      ],
      "metadata": {
        "id": "Bi4K5-F7axfD"
      },
      "execution_count": 33,
      "outputs": []
    },
    {
      "cell_type": "code",
      "source": [
        "class SimpleLossCompute:\n",
        "    def __init__(self, generator, criterion):\n",
        "        self.generator = generator\n",
        "        self.criterion = criterion\n",
        "\n",
        "    def __call__(self, x, y, norm):\n",
        "        x = self.generator(x)\n",
        "        # again, is contiguous here for performance gains? or am i dumb?\n",
        "        criterion = self.criterion(x.contiguous().view(-1, x.size(-1)), y.contiguous().view(-1))\n",
        "        sloss = criterion / norm\n",
        "        return sloss.data * norm, sloss"
      ],
      "metadata": {
        "id": "tNX0-iVZbLYj"
      },
      "execution_count": 91,
      "outputs": []
    },
    {
      "cell_type": "code",
      "source": [
        "def greedy_decode(model, src, src_mask, max_len, start_symbol):\n",
        "    mem = model.encode(src, src_mask)\n",
        "    ys = torch.zeros(1, 1).fill_(start_symbol).type_as(src.data)\n",
        "\n",
        "    for i in range(max_len - 1):\n",
        "        out = model.decode(ys, mem, src_mask, subsequent_mask(ys.size(1)).type_as(src.data))\n",
        "        prob = model.generator(out[:, -1])\n",
        "        _, next_word = torch.max(prob, dim=1)\n",
        "        next_word = next_word.data[0]\n",
        "        ys = torch.cat([ys, torch.zeros(1,1).type_as(src.data).fill_(next_word)], dim=1)\n",
        "   \n",
        "    return ys"
      ],
      "metadata": {
        "id": "ZUX2i4QIbwN2"
      },
      "execution_count": 115,
      "outputs": []
    },
    {
      "cell_type": "code",
      "source": [
        "def simple_model():\n",
        "    vocab_size = 11\n",
        "    criterion = LabelSmoothing(size=vocab_size, padding_idx=0, smoothing=0.0).cuda()\n",
        "    model = Transformer(vocab_size, vocab_size, N=2).cuda()\n",
        "\n",
        "    optimizer = torch.optim.Adam(model.parameters(), lr=0.5, betas=(.9, .98), eps=1e-9)\n",
        "    lr_scheduler = LambdaLR(\n",
        "        optimizer=optimizer,\n",
        "        lr_lambda=lambda step: rate(step, d_model=model.src_emb[0].d_model, factor=1., warmup=400),\n",
        "    )\n",
        "\n",
        "    batch_size = 80\n",
        "    for epoch in range(20):\n",
        "        model.train()\n",
        "        run_epoch(data_gen(vocab_size, batch_size, 20), model, \n",
        "                  SimpleLossCompute(model.generator, criterion),\n",
        "                  optimizer,\n",
        "                  lr_scheduler,\n",
        "                  mode='train')\n",
        "        model.eval()\n",
        "        run_epoch(data_gen(vocab_size, batch_size, 5), model, \n",
        "                  SimpleLossCompute(model.generator, criterion),\n",
        "                  DummyOptimizer(),\n",
        "                  DummyOptimizer(),\n",
        "                  mode='eval')\n",
        "    \n",
        "    model.eval()\n",
        "    src = torch.cuda.LongTensor([list(range(10))])\n",
        "    max_len= src.shape[1]\n",
        "    src_mask = torch.ones(1,1,max_len)\n",
        "    print(greedy_decode(model, src, src_mask, max_len=max_len, start_symbol=0))\n",
        "\n",
        "# something be wrong. loss no go down \n",
        "# TODO: check loss func and label smoothing \n",
        "simple_model()\n"
      ],
      "metadata": {
        "colab": {
          "base_uri": "https://localhost:8080/"
        },
        "id": "B2oR1gAmcf0H",
        "outputId": "c835817f-4ce4-4a1d-e83f-096d4c224b9b"
      },
      "execution_count": 123,
      "outputs": [
        {
          "output_type": "stream",
          "name": "stdout",
          "text": [
            "Epohc Step:      1 | Accumulation Step:   2 | Loss:   3.21 | Tokens/s: 14107.4 | Learning Rate: 5.5e-06\n",
            "Epohc Step:      1 | Accumulation Step:   2 | Loss:   2.88 | Tokens/s: 23807.6 | Learning Rate: 6.1e-05\n",
            "Epohc Step:      1 | Accumulation Step:   2 | Loss:   2.56 | Tokens/s: 24803.4 | Learning Rate: 1.2e-04\n",
            "Epohc Step:      1 | Accumulation Step:   2 | Loss:   2.34 | Tokens/s: 25861.7 | Learning Rate: 1.7e-04\n",
            "Epohc Step:      1 | Accumulation Step:   2 | Loss:   2.26 | Tokens/s: 25863.4 | Learning Rate: 2.3e-04\n",
            "Epohc Step:      1 | Accumulation Step:   2 | Loss:   2.18 | Tokens/s: 24147.6 | Learning Rate: 2.8e-04\n",
            "Epohc Step:      1 | Accumulation Step:   2 | Loss:   2.10 | Tokens/s: 25692.6 | Learning Rate: 3.4e-04\n",
            "Epohc Step:      1 | Accumulation Step:   2 | Loss:   2.06 | Tokens/s: 26064.6 | Learning Rate: 3.9e-04\n",
            "Epohc Step:      1 | Accumulation Step:   2 | Loss:   2.12 | Tokens/s: 24977.9 | Learning Rate: 4.5e-04\n",
            "Epohc Step:      1 | Accumulation Step:   2 | Loss:   2.10 | Tokens/s: 25309.6 | Learning Rate: 5.0e-04\n",
            "Epohc Step:      1 | Accumulation Step:   2 | Loss:   2.09 | Tokens/s: 26627.4 | Learning Rate: 5.6e-04\n",
            "Epohc Step:      1 | Accumulation Step:   2 | Loss:   2.05 | Tokens/s: 25895.3 | Learning Rate: 6.1e-04\n",
            "Epohc Step:      1 | Accumulation Step:   2 | Loss:   2.08 | Tokens/s: 24825.0 | Learning Rate: 6.7e-04\n",
            "Epohc Step:      1 | Accumulation Step:   2 | Loss:   2.06 | Tokens/s: 24781.8 | Learning Rate: 7.2e-04\n",
            "Epohc Step:      1 | Accumulation Step:   2 | Loss:   2.13 | Tokens/s: 25447.8 | Learning Rate: 7.8e-04\n",
            "Epohc Step:      1 | Accumulation Step:   2 | Loss:   2.11 | Tokens/s: 26247.6 | Learning Rate: 8.3e-04\n",
            "Epohc Step:      1 | Accumulation Step:   2 | Loss:   2.12 | Tokens/s: 23928.8 | Learning Rate: 8.9e-04\n",
            "Epohc Step:      1 | Accumulation Step:   2 | Loss:   2.05 | Tokens/s: 25096.9 | Learning Rate: 9.4e-04\n",
            "Epohc Step:      1 | Accumulation Step:   2 | Loss:   2.06 | Tokens/s: 25577.6 | Learning Rate: 1.0e-03\n",
            "Epohc Step:      1 | Accumulation Step:   2 | Loss:   2.11 | Tokens/s: 24803.9 | Learning Rate: 1.1e-03\n",
            "tensor([[0, 7, 9, 7, 7, 7, 7, 7, 9, 7]])\n"
          ]
        }
      ]
    }
  ]
}