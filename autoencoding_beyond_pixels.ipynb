{
  "nbformat": 4,
  "nbformat_minor": 0,
  "metadata": {
    "colab": {
      "provenance": [],
      "authorship_tag": "ABX9TyM5saN0MgWoDP5BaaoQ5Sch"
    },
    "kernelspec": {
      "name": "python3",
      "display_name": "Python 3"
    },
    "language_info": {
      "name": "python"
    }
  },
  "cells": [
    {
      "cell_type": "markdown",
      "source": [
        "# Autoencoding beyond pixels using a learned similarity metric\n",
        "* paper: [Autoencoding beyond pixels using a learned similarity metric](https://arxiv.org/pdf/1512.09300.pdf)\n",
        "\n",
        "## Implementation Details\n",
        "* **Training Data**: `FGVC-Aircraft`\n",
        "* **Goal**: Generate Random New Images of Aircraft\n",
        "* **Encoder Layers**: *In progress*\n",
        "* **Decoder Layers**: *In progress*\n",
        "\n",
        "## Notes\n",
        "* using the results of this to compare against results from basic implementation of vanilla [VAE](https://github.com/bradley-ray/implementing-deep-learn-papers/blob/master/variational_autoencoder.ipynb)"
      ],
      "metadata": {
        "id": "LrG2ZZdbtEES"
      }
    }
  ]
}