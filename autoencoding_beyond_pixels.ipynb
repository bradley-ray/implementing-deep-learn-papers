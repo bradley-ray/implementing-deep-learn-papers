{
  "nbformat": 4,
  "nbformat_minor": 0,
  "metadata": {
    "colab": {
      "provenance": [],
      "collapsed_sections": [
        "LrG2ZZdbtEES",
        "lN6uF_TNMIdr"
      ],
      "authorship_tag": "ABX9TyMzyt8pf5J5Gl1eBdjMP+p0"
    },
    "kernelspec": {
      "name": "python3",
      "display_name": "Python 3"
    },
    "language_info": {
      "name": "python"
    },
    "widgets": {
      "application/vnd.jupyter.widget-state+json": {
        "3955bfaabbce4297a1aa0c70194e22be": {
          "model_module": "@jupyter-widgets/controls",
          "model_name": "HBoxModel",
          "model_module_version": "1.5.0",
          "state": {
            "_dom_classes": [],
            "_model_module": "@jupyter-widgets/controls",
            "_model_module_version": "1.5.0",
            "_model_name": "HBoxModel",
            "_view_count": null,
            "_view_module": "@jupyter-widgets/controls",
            "_view_module_version": "1.5.0",
            "_view_name": "HBoxView",
            "box_style": "",
            "children": [
              "IPY_MODEL_38bb1d2024484f0196392ecf5b4878aa",
              "IPY_MODEL_2788c3f0a2234f8b983efa99cdbbdce2",
              "IPY_MODEL_bd1207f1ca2046dfbb1165dfe6262d04"
            ],
            "layout": "IPY_MODEL_9c51398d951d4a4b8813a8f1af5a6de5"
          }
        },
        "38bb1d2024484f0196392ecf5b4878aa": {
          "model_module": "@jupyter-widgets/controls",
          "model_name": "HTMLModel",
          "model_module_version": "1.5.0",
          "state": {
            "_dom_classes": [],
            "_model_module": "@jupyter-widgets/controls",
            "_model_module_version": "1.5.0",
            "_model_name": "HTMLModel",
            "_view_count": null,
            "_view_module": "@jupyter-widgets/controls",
            "_view_module_version": "1.5.0",
            "_view_name": "HTMLView",
            "description": "",
            "description_tooltip": null,
            "layout": "IPY_MODEL_cb26e32ec307416b97fce07da71b1f5c",
            "placeholder": "​",
            "style": "IPY_MODEL_ec7f4dc1b3bf44989acd24f3cf0b3e0b",
            "value": "100%"
          }
        },
        "2788c3f0a2234f8b983efa99cdbbdce2": {
          "model_module": "@jupyter-widgets/controls",
          "model_name": "FloatProgressModel",
          "model_module_version": "1.5.0",
          "state": {
            "_dom_classes": [],
            "_model_module": "@jupyter-widgets/controls",
            "_model_module_version": "1.5.0",
            "_model_name": "FloatProgressModel",
            "_view_count": null,
            "_view_module": "@jupyter-widgets/controls",
            "_view_module_version": "1.5.0",
            "_view_name": "ProgressView",
            "bar_style": "success",
            "description": "",
            "description_tooltip": null,
            "layout": "IPY_MODEL_8c24e80579434f2d899f62090433c657",
            "max": 2753340328,
            "min": 0,
            "orientation": "horizontal",
            "style": "IPY_MODEL_59fb38097f2e4fa486d52eef95b4ace1",
            "value": 2753340328
          }
        },
        "bd1207f1ca2046dfbb1165dfe6262d04": {
          "model_module": "@jupyter-widgets/controls",
          "model_name": "HTMLModel",
          "model_module_version": "1.5.0",
          "state": {
            "_dom_classes": [],
            "_model_module": "@jupyter-widgets/controls",
            "_model_module_version": "1.5.0",
            "_model_name": "HTMLModel",
            "_view_count": null,
            "_view_module": "@jupyter-widgets/controls",
            "_view_module_version": "1.5.0",
            "_view_name": "HTMLView",
            "description": "",
            "description_tooltip": null,
            "layout": "IPY_MODEL_af89abe5a02b405495a1447df069deb3",
            "placeholder": "​",
            "style": "IPY_MODEL_8250a8e8084a4e4690778071a9a29c4d",
            "value": " 2753340328/2753340328 [01:34&lt;00:00, 26328618.51it/s]"
          }
        },
        "9c51398d951d4a4b8813a8f1af5a6de5": {
          "model_module": "@jupyter-widgets/base",
          "model_name": "LayoutModel",
          "model_module_version": "1.2.0",
          "state": {
            "_model_module": "@jupyter-widgets/base",
            "_model_module_version": "1.2.0",
            "_model_name": "LayoutModel",
            "_view_count": null,
            "_view_module": "@jupyter-widgets/base",
            "_view_module_version": "1.2.0",
            "_view_name": "LayoutView",
            "align_content": null,
            "align_items": null,
            "align_self": null,
            "border": null,
            "bottom": null,
            "display": null,
            "flex": null,
            "flex_flow": null,
            "grid_area": null,
            "grid_auto_columns": null,
            "grid_auto_flow": null,
            "grid_auto_rows": null,
            "grid_column": null,
            "grid_gap": null,
            "grid_row": null,
            "grid_template_areas": null,
            "grid_template_columns": null,
            "grid_template_rows": null,
            "height": null,
            "justify_content": null,
            "justify_items": null,
            "left": null,
            "margin": null,
            "max_height": null,
            "max_width": null,
            "min_height": null,
            "min_width": null,
            "object_fit": null,
            "object_position": null,
            "order": null,
            "overflow": null,
            "overflow_x": null,
            "overflow_y": null,
            "padding": null,
            "right": null,
            "top": null,
            "visibility": null,
            "width": null
          }
        },
        "cb26e32ec307416b97fce07da71b1f5c": {
          "model_module": "@jupyter-widgets/base",
          "model_name": "LayoutModel",
          "model_module_version": "1.2.0",
          "state": {
            "_model_module": "@jupyter-widgets/base",
            "_model_module_version": "1.2.0",
            "_model_name": "LayoutModel",
            "_view_count": null,
            "_view_module": "@jupyter-widgets/base",
            "_view_module_version": "1.2.0",
            "_view_name": "LayoutView",
            "align_content": null,
            "align_items": null,
            "align_self": null,
            "border": null,
            "bottom": null,
            "display": null,
            "flex": null,
            "flex_flow": null,
            "grid_area": null,
            "grid_auto_columns": null,
            "grid_auto_flow": null,
            "grid_auto_rows": null,
            "grid_column": null,
            "grid_gap": null,
            "grid_row": null,
            "grid_template_areas": null,
            "grid_template_columns": null,
            "grid_template_rows": null,
            "height": null,
            "justify_content": null,
            "justify_items": null,
            "left": null,
            "margin": null,
            "max_height": null,
            "max_width": null,
            "min_height": null,
            "min_width": null,
            "object_fit": null,
            "object_position": null,
            "order": null,
            "overflow": null,
            "overflow_x": null,
            "overflow_y": null,
            "padding": null,
            "right": null,
            "top": null,
            "visibility": null,
            "width": null
          }
        },
        "ec7f4dc1b3bf44989acd24f3cf0b3e0b": {
          "model_module": "@jupyter-widgets/controls",
          "model_name": "DescriptionStyleModel",
          "model_module_version": "1.5.0",
          "state": {
            "_model_module": "@jupyter-widgets/controls",
            "_model_module_version": "1.5.0",
            "_model_name": "DescriptionStyleModel",
            "_view_count": null,
            "_view_module": "@jupyter-widgets/base",
            "_view_module_version": "1.2.0",
            "_view_name": "StyleView",
            "description_width": ""
          }
        },
        "8c24e80579434f2d899f62090433c657": {
          "model_module": "@jupyter-widgets/base",
          "model_name": "LayoutModel",
          "model_module_version": "1.2.0",
          "state": {
            "_model_module": "@jupyter-widgets/base",
            "_model_module_version": "1.2.0",
            "_model_name": "LayoutModel",
            "_view_count": null,
            "_view_module": "@jupyter-widgets/base",
            "_view_module_version": "1.2.0",
            "_view_name": "LayoutView",
            "align_content": null,
            "align_items": null,
            "align_self": null,
            "border": null,
            "bottom": null,
            "display": null,
            "flex": null,
            "flex_flow": null,
            "grid_area": null,
            "grid_auto_columns": null,
            "grid_auto_flow": null,
            "grid_auto_rows": null,
            "grid_column": null,
            "grid_gap": null,
            "grid_row": null,
            "grid_template_areas": null,
            "grid_template_columns": null,
            "grid_template_rows": null,
            "height": null,
            "justify_content": null,
            "justify_items": null,
            "left": null,
            "margin": null,
            "max_height": null,
            "max_width": null,
            "min_height": null,
            "min_width": null,
            "object_fit": null,
            "object_position": null,
            "order": null,
            "overflow": null,
            "overflow_x": null,
            "overflow_y": null,
            "padding": null,
            "right": null,
            "top": null,
            "visibility": null,
            "width": null
          }
        },
        "59fb38097f2e4fa486d52eef95b4ace1": {
          "model_module": "@jupyter-widgets/controls",
          "model_name": "ProgressStyleModel",
          "model_module_version": "1.5.0",
          "state": {
            "_model_module": "@jupyter-widgets/controls",
            "_model_module_version": "1.5.0",
            "_model_name": "ProgressStyleModel",
            "_view_count": null,
            "_view_module": "@jupyter-widgets/base",
            "_view_module_version": "1.2.0",
            "_view_name": "StyleView",
            "bar_color": null,
            "description_width": ""
          }
        },
        "af89abe5a02b405495a1447df069deb3": {
          "model_module": "@jupyter-widgets/base",
          "model_name": "LayoutModel",
          "model_module_version": "1.2.0",
          "state": {
            "_model_module": "@jupyter-widgets/base",
            "_model_module_version": "1.2.0",
            "_model_name": "LayoutModel",
            "_view_count": null,
            "_view_module": "@jupyter-widgets/base",
            "_view_module_version": "1.2.0",
            "_view_name": "LayoutView",
            "align_content": null,
            "align_items": null,
            "align_self": null,
            "border": null,
            "bottom": null,
            "display": null,
            "flex": null,
            "flex_flow": null,
            "grid_area": null,
            "grid_auto_columns": null,
            "grid_auto_flow": null,
            "grid_auto_rows": null,
            "grid_column": null,
            "grid_gap": null,
            "grid_row": null,
            "grid_template_areas": null,
            "grid_template_columns": null,
            "grid_template_rows": null,
            "height": null,
            "justify_content": null,
            "justify_items": null,
            "left": null,
            "margin": null,
            "max_height": null,
            "max_width": null,
            "min_height": null,
            "min_width": null,
            "object_fit": null,
            "object_position": null,
            "order": null,
            "overflow": null,
            "overflow_x": null,
            "overflow_y": null,
            "padding": null,
            "right": null,
            "top": null,
            "visibility": null,
            "width": null
          }
        },
        "8250a8e8084a4e4690778071a9a29c4d": {
          "model_module": "@jupyter-widgets/controls",
          "model_name": "DescriptionStyleModel",
          "model_module_version": "1.5.0",
          "state": {
            "_model_module": "@jupyter-widgets/controls",
            "_model_module_version": "1.5.0",
            "_model_name": "DescriptionStyleModel",
            "_view_count": null,
            "_view_module": "@jupyter-widgets/base",
            "_view_module_version": "1.2.0",
            "_view_name": "StyleView",
            "description_width": ""
          }
        }
      }
    }
  },
  "cells": [
    {
      "cell_type": "markdown",
      "source": [
        "# Autoencoding beyond pixels using a learned similarity metric\n",
        "* paper: [Autoencoding beyond pixels using a learned similarity metric](https://arxiv.org/pdf/1512.09300.pdf)\n",
        "\n",
        "## Implementation Details\n",
        "* **Training Data**: `FGVC-Aircraft`\n",
        "* **Goal**: Generate Random New Images of Aircraft\n",
        "* **Encoder Layers**: *In progress*\n",
        "* **Decoder Layers**: *In progress*\n",
        "\n",
        "## Notes\n",
        "* using the results of this to compare against results from basic implementation of vanilla [VAE](https://github.com/bradley-ray/implementing-deep-learn-papers/blob/master/variational_autoencoder.ipynb)"
      ],
      "metadata": {
        "id": "LrG2ZZdbtEES"
      }
    },
    {
      "cell_type": "code",
      "source": [
        "import torch\n",
        "import torch.nn as nn\n",
        "import torchvision.transforms as T\n",
        "\n",
        "from torchvision import datasets\n",
        "from torch.utils.data import DataLoader, Subset\n"
      ],
      "metadata": {
        "id": "6FqGcoI0LKuP"
      },
      "execution_count": 1,
      "outputs": []
    },
    {
      "cell_type": "code",
      "source": [
        "BS = 64\n",
        "EPOCHS = 10"
      ],
      "metadata": {
        "id": "-c0Fkh1jN2S0"
      },
      "execution_count": 2,
      "outputs": []
    },
    {
      "cell_type": "markdown",
      "source": [
        "# Get Dataset"
      ],
      "metadata": {
        "id": "lN6uF_TNMIdr"
      }
    },
    {
      "cell_type": "code",
      "source": [
        "# FGVC-Aircraft Dataset\n",
        "\n",
        "img_size = (64, 64)\n",
        "ts = [T.ToTensor(), T.Resize(img_size)]\n",
        "train = datasets.FGVCAircraft(\n",
        "    root='data',\n",
        "    split='train',\n",
        "    download=True,\n",
        "    transform=T.Compose(ts) \n",
        ")\n",
        "\n",
        "test = datasets.FGVCAircraft(\n",
        "    root='data',\n",
        "    split='test',\n",
        "    download=True,\n",
        "    transform=T.Compose(ts)\n",
        ")\n",
        "\n",
        "\n",
        "use_subset = True\n",
        "if use_subset:\n",
        "    subset = Subset(train, range(750))\n",
        "    train_loader = DataLoader(subset, batch_size=BS, shuffle=True)\n",
        "else:\n",
        "    train_loader = DataLoader(train, batch_size=BS, shuffle=True)"
      ],
      "metadata": {
        "colab": {
          "base_uri": "https://localhost:8080/",
          "height": 84,
          "referenced_widgets": [
            "3955bfaabbce4297a1aa0c70194e22be",
            "38bb1d2024484f0196392ecf5b4878aa",
            "2788c3f0a2234f8b983efa99cdbbdce2",
            "bd1207f1ca2046dfbb1165dfe6262d04",
            "9c51398d951d4a4b8813a8f1af5a6de5",
            "cb26e32ec307416b97fce07da71b1f5c",
            "ec7f4dc1b3bf44989acd24f3cf0b3e0b",
            "8c24e80579434f2d899f62090433c657",
            "59fb38097f2e4fa486d52eef95b4ace1",
            "af89abe5a02b405495a1447df069deb3",
            "8250a8e8084a4e4690778071a9a29c4d"
          ]
        },
        "id": "FXWEmqyNMOEl",
        "outputId": "f3e3637d-3414-4ba0-a65b-b036edfe55e1"
      },
      "execution_count": 3,
      "outputs": [
        {
          "output_type": "stream",
          "name": "stdout",
          "text": [
            "Downloading https://www.robots.ox.ac.uk/~vgg/data/fgvc-aircraft/archives/fgvc-aircraft-2013b.tar.gz to data/fgvc-aircraft-2013b.tar.gz\n"
          ]
        },
        {
          "output_type": "display_data",
          "data": {
            "text/plain": [
              "  0%|          | 0/2753340328 [00:00<?, ?it/s]"
            ],
            "application/vnd.jupyter.widget-view+json": {
              "version_major": 2,
              "version_minor": 0,
              "model_id": "3955bfaabbce4297a1aa0c70194e22be"
            }
          },
          "metadata": {}
        },
        {
          "output_type": "stream",
          "name": "stdout",
          "text": [
            "Extracting data/fgvc-aircraft-2013b.tar.gz to data\n"
          ]
        }
      ]
    },
    {
      "cell_type": "markdown",
      "source": [
        "# Network"
      ],
      "metadata": {
        "id": "BrTT8nFCLM3X"
      }
    },
    {
      "cell_type": "code",
      "source": [
        "# currently just using architecture used in paper w/ LeakyReLU instead of ReLU\n",
        "class Encoder(nn.Module):\n",
        "    def __init__(self, img_channels: int=3, z_dim: int=2048, flat_size: int=8*8*256):\n",
        "        super().__init__()\n",
        "        self.downsamples = nn.Sequential(\n",
        "            nn.Conv2d(in_channels=img_channels, out_channels=64, kernel_size=5, stride=2, padding=2),\n",
        "            nn.BatchNorm2d(64),\n",
        "            nn.LeakyReLU(.2),\n",
        "\n",
        "            nn.Conv2d(in_channels=64, out_channels=128, kernel_size=5, stride=2, padding=2),\n",
        "            nn.BatchNorm2d(128),\n",
        "            nn.LeakyReLU(.2),\n",
        "\n",
        "            nn.Conv2d(in_channels=128, out_channels=256, kernel_size=5, stride=2, padding=2),\n",
        "            nn.BatchNorm2d(256),\n",
        "            nn.LeakyReLU(.2),\n",
        "        )\n",
        "\n",
        "        self.mean = nn.Linear(flat_size, z_dim)\n",
        "        \n",
        "        self.log_var = nn.Sequential(\n",
        "            nn.Linear(flat_size, z_dim),\n",
        "            nn.Tanh(),\n",
        "        )\n",
        "    \n",
        "    def forward(self, X):\n",
        "        flatten = torch.flatten(self.downsamples(X), 1, 3)\n",
        "        print('flatten:\\t', flatten.shape)\n",
        "        mean = self.mean(flatten)\n",
        "        log_var = self.log_var(flatten)\n",
        "        return mean, log_var\n",
        "\n",
        "class Generator(nn.Module):\n",
        "    def __init__(self, img_channels: int=3, z_dim: int=2048, flat_size: int=8*8*256):\n",
        "        super().__init__()\n",
        "\n",
        "        self.fc = nn.Sequential(\n",
        "            nn.Linear(z_dim, flat_size),\n",
        "            nn.BatchNorm1d(flat_size),\n",
        "            nn.LeakyReLU(.2),\n",
        "        )\n",
        "\n",
        "        # TODO: experiment with tanh on last layer with some other activation func\n",
        "        # TODO: investigate convtranspose dim calculations (had to lookup to figure out how to get dim to match)\n",
        "        self.upsamples = nn.Sequential(\n",
        "            nn.ConvTranspose2d(in_channels=256, out_channels=256, kernel_size=5, stride=2, padding=2, output_padding=1),\n",
        "            nn.BatchNorm2d(256),\n",
        "            nn.LeakyReLU(.2),\n",
        "\n",
        "            nn.ConvTranspose2d(in_channels=256, out_channels=128, kernel_size=5, stride=2, padding=2, output_padding=1),\n",
        "            nn.BatchNorm2d(128),\n",
        "            nn.LeakyReLU(.2),\n",
        "\n",
        "            nn.ConvTranspose2d(in_channels=128, out_channels=32, kernel_size=5, stride=2, padding=2, output_padding=1),\n",
        "            nn.BatchNorm2d(32),\n",
        "            nn.LeakyReLU(.2),\n",
        "\n",
        "            nn.ConvTranspose2d(in_channels=32, out_channels=img_channels, kernel_size=5, padding=2),\n",
        "            nn.Tanh(),\n",
        "        )\n",
        "\n",
        "    def forward(self, X, size=(256,8,8)):\n",
        "        fc_out = self.fc(X)\n",
        "        print('fc_out:\\t', fc_out.shape)\n",
        "        reshape = fc_out.view(-1, size[0], size[1], size[2])\n",
        "        out = self.upsamples(reshape)\n",
        "        return out\n",
        "\n",
        "class Discriminator(nn.Module):\n",
        "    def __init__(self, img_channels: int=3, z_dim: int=2048, flat_size: int=8*8*256):\n",
        "        super().__init__()\n",
        "        self.initial = nn.Sequential(\n",
        "            nn.Conv2d(in_channels=img_channels, out_channels=32, kernel_size=5, padding=2),\n",
        "            nn.LeakyReLU(.2),\n",
        "        )\n",
        "\n",
        "        # l layer for dis_l loss is choosen for after 3 downsamples in discriminator\n",
        "        self.downsamples = nn.Sequential(\n",
        "            nn.Conv2d(in_channels=32, out_channels=128, kernel_size=5, stride=2, padding=2),\n",
        "            nn.BatchNorm2d(128),\n",
        "            nn.LeakyReLU(.2),\n",
        "\n",
        "            nn.Conv2d(in_channels=128, out_channels=256, kernel_size=5, stride=2, padding=2),\n",
        "            nn.BatchNorm2d(256),\n",
        "            nn.LeakyReLU(.2),\n",
        "\n",
        "            nn.Conv2d(in_channels=256, out_channels=256, kernel_size=5, stride=2, padding=2),\n",
        "            nn.BatchNorm2d(256),\n",
        "            nn.LeakyReLU(.2),\n",
        "        )\n",
        "\n",
        "        self.fc = nn.Sequential(\n",
        "            nn.Linear(flat_size, 512),\n",
        "            nn.BatchNorm1d(512),\n",
        "            nn.LeakyReLU(.2),\n",
        "\n",
        "            nn.Linear(512, 1),\n",
        "            nn.Sigmoid()\n",
        "        )\n",
        "\n",
        "\n",
        "    def forward(self, z):\n",
        "        init_out = self.initial(z)\n",
        "        # downsamples_out needed for dis_l loss\n",
        "        downsamples_out = self.downsamples(init_out)\n",
        "        flatten = torch.flatten(downsamples_out, 1, 3)\n",
        "        out = self.fc(flatten)\n",
        "        return out, downsamples_out"
      ],
      "metadata": {
        "id": "PsGwl4uTLObI"
      },
      "execution_count": 5,
      "outputs": []
    },
    {
      "cell_type": "markdown",
      "source": [
        "# Training"
      ],
      "metadata": {
        "id": "IQpjbLElOo3m"
      }
    },
    {
      "cell_type": "code",
      "source": [
        "# Loss functions\n",
        "def kl_loss():\n",
        "    ...\n",
        "\n",
        "def loss_gan():\n",
        "    ...\n",
        "\n",
        "def like_loss():\n",
        "    ...\n",
        "\n",
        "def get_sample():\n",
        "    ...\n",
        "\n",
        "# Training function\n",
        "def train_model():\n",
        "    ..."
      ],
      "metadata": {
        "id": "TozV6Ro_OvkO"
      },
      "execution_count": null,
      "outputs": []
    },
    {
      "cell_type": "code",
      "source": [
        "train_model(...)"
      ],
      "metadata": {
        "id": "CZ52vPjmPIjw"
      },
      "execution_count": null,
      "outputs": []
    },
    {
      "cell_type": "markdown",
      "source": [
        "# Testing"
      ],
      "metadata": {
        "id": "hIcgAoG5OqXL"
      }
    }
  ]
}