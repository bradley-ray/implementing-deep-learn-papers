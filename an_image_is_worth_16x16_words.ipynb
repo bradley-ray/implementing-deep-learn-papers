{
  "nbformat": 4,
  "nbformat_minor": 0,
  "metadata": {
    "colab": {
      "provenance": [],
      "authorship_tag": "ABX9TyNXYihZhAutlCKyeCHl4IGF"
    },
    "kernelspec": {
      "name": "python3",
      "display_name": "Python 3"
    },
    "language_info": {
      "name": "python"
    }
  },
  "cells": [
    {
      "cell_type": "markdown",
      "source": [
        "# Vision Transformer\n",
        "\n",
        "[An Image is Worth 16x16 Words](https://arxiv.org/abs/2010.11929v2)\n",
        "\n",
        "[Vision Transformer for Small-Size Datasets](https://arxiv.org/pdf/2112.13492.pdf) *todo*\n",
        "\n",
        "[Training Vision Transformers with Only 2040 Images](https://arxiv.org/abs/2201.10728) *todo*\n",
        "\n"
      ],
      "metadata": {
        "id": "J1pAeEEVBLCQ"
      }
    },
    {
      "cell_type": "markdown",
      "source": [
        "## Model Notes\n",
        "* P = patch size\n",
        "* N = number of patches\n",
        "* transform image from (H,W,C) to (N,P\\*\\*2 \\*C) where\n",
        "* also prepend a class token\n",
        "* GeLU activation in MLP layers"
      ],
      "metadata": {
        "id": "5kqM6kgSIz8l"
      }
    },
    {
      "cell_type": "markdown",
      "source": [
        "## TODO\n",
        "* fix always predicting same class"
      ],
      "metadata": {
        "id": "hvkKMsjxtqWB"
      }
    },
    {
      "cell_type": "code",
      "source": [
        "# download pretrained weights for Cifar100 trained model\n",
        "!wget https://storage.googleapis.com/vit_models/augreg/B_16-i1k-300ep-lr_0.001-aug_light0-wd_0.03-do_0.0-sd_0.0--cifar100-steps_10k-lr_0.003-res_224.npz"
      ],
      "metadata": {
        "colab": {
          "base_uri": "https://localhost:8080/"
        },
        "id": "_ZWieqSzNZ-3",
        "outputId": "f98f0f01-5d61-4c51-fbf2-bec63802da28"
      },
      "execution_count": 23,
      "outputs": [
        {
          "output_type": "stream",
          "name": "stdout",
          "text": [
            "--2023-01-14 02:46:42--  https://storage.googleapis.com/vit_models/augreg/B_16-i1k-300ep-lr_0.001-aug_light0-wd_0.03-do_0.0-sd_0.0--cifar100-steps_10k-lr_0.003-res_224.npz\n",
            "Resolving storage.googleapis.com (storage.googleapis.com)... 142.250.141.128, 142.251.2.128, 2607:f8b0:4023:c0d::80, ...\n",
            "Connecting to storage.googleapis.com (storage.googleapis.com)|142.250.141.128|:443... connected.\n",
            "HTTP request sent, awaiting response... 200 OK\n",
            "Length: 343567142 (328M) [application/octet-stream]\n",
            "Saving to: ‘B_16-i1k-300ep-lr_0.001-aug_light0-wd_0.03-do_0.0-sd_0.0--cifar100-steps_10k-lr_0.003-res_224.npz’\n",
            "\n",
            "B_16-i1k-300ep-lr_0 100%[===================>] 327.65M  26.1MB/s    in 14s     \n",
            "\n",
            "2023-01-14 02:46:57 (23.2 MB/s) - ‘B_16-i1k-300ep-lr_0.001-aug_light0-wd_0.03-do_0.0-sd_0.0--cifar100-steps_10k-lr_0.003-res_224.npz’ saved [343567142/343567142]\n",
            "\n"
          ]
        }
      ]
    },
    {
      "cell_type": "code",
      "source": [
        "# CIFAR100 class names\n",
        "class_names  = [\n",
        "    'apple',\n",
        "    'aquarium_fish',\n",
        "    'baby',\n",
        "    'bear',\n",
        "    'beaver',\n",
        "    'bed',\n",
        "    'bee',\n",
        "    'beetle',\n",
        "    'bicycle',\n",
        "    'bottle',\n",
        "    'bowl',\n",
        "    'boy',\n",
        "    'bridge',\n",
        "    'bus',\n",
        "    'butterfly',\n",
        "    'camel',\n",
        "    'can',\n",
        "    'castle',\n",
        "    'caterpillar',\n",
        "    'cattle',\n",
        "    'chair',\n",
        "    'chimpanzee',\n",
        "    'clock',\n",
        "    'cloud',\n",
        "    'cockroach',\n",
        "    'couch',\n",
        "    'crab',\n",
        "    'crocodile',\n",
        "    'cup',\n",
        "    'dinosaur',\n",
        "    'dolphin',\n",
        "    'elephant',\n",
        "    'flatfish',\n",
        "    'forest',\n",
        "    'fox',\n",
        "    'girl',\n",
        "    'hamster',\n",
        "    'house',\n",
        "    'kangaroo',\n",
        "    'computer_keyboard',\n",
        "    'lamp',\n",
        "    'lawn_mower',\n",
        "    'leopard',\n",
        "    'lion',\n",
        "    'lizard',\n",
        "    'lobster',\n",
        "    'man',\n",
        "    'maple_tree',\n",
        "    'motorcycle',\n",
        "    'mountain',\n",
        "    'mouse',\n",
        "    'mushroom',\n",
        "    'oak_tree',\n",
        "    'orange',\n",
        "    'orchid',\n",
        "    'otter',\n",
        "    'palm_tree',\n",
        "    'pear',\n",
        "    'pickup_truck',\n",
        "    'pine_tree',\n",
        "    'plain',\n",
        "    'plate',\n",
        "    'poppy',\n",
        "    'porcupine',\n",
        "    'possum',\n",
        "    'rabbit',\n",
        "    'raccoon',\n",
        "    'ray',\n",
        "    'road',\n",
        "    'rocket',\n",
        "    'rose',\n",
        "    'sea',\n",
        "    'seal',\n",
        "    'shark',\n",
        "    'shrew',\n",
        "    'skunk',\n",
        "    'skyscraper',\n",
        "    'snail',\n",
        "    'snake',\n",
        "    'spider',\n",
        "    'squirrel',\n",
        "    'streetcar',\n",
        "    'sunflower',\n",
        "    'sweet_pepper',\n",
        "    'table',\n",
        "    'tank',\n",
        "    'telephone',\n",
        "    'television',\n",
        "    'tiger',\n",
        "    'tractor',\n",
        "    'train',\n",
        "    'trout',\n",
        "    'tulip',\n",
        "    'turtle',\n",
        "    'wardrobe',\n",
        "    'whale',\n",
        "    'willow_tree',\n",
        "    'wolf',\n",
        "    'woman',\n",
        "    'worm',\n",
        "]\n",
        "print(len(class_names))"
      ],
      "metadata": {
        "colab": {
          "base_uri": "https://localhost:8080/"
        },
        "id": "7MA8b2wIz8zp",
        "outputId": "0dc207d5-09c2-4a61-f47f-46d0b7a273dc"
      },
      "execution_count": 24,
      "outputs": [
        {
          "output_type": "stream",
          "name": "stdout",
          "text": [
            "100\n"
          ]
        }
      ]
    },
    {
      "cell_type": "code",
      "execution_count": 25,
      "metadata": {
        "id": "8kFlpEx9A_50"
      },
      "outputs": [],
      "source": [
        "import torch\n",
        "import torch.nn as nn\n",
        "import torchvision.transforms as T\n",
        "import torch.nn.functional as F\n",
        "from torchvision import datasets\n",
        "from torch.utils.data import DataLoader\n",
        "\n",
        "import numpy as np\n",
        "import matplotlib.pyplot as plt"
      ]
    },
    {
      "cell_type": "code",
      "source": [
        "transforms = T.Compose([T.ToTensor(), T.Resize(224)])\n",
        "\n",
        "test_ds = datasets.CIFAR100(\n",
        "    root='data',\n",
        "    train=False,\n",
        "    transform=transforms,\n",
        "    download=True,\n",
        ")\n",
        "test_dl = DataLoader(\n",
        "    test_ds, batch_size=1, shuffle=True,\n",
        ")"
      ],
      "metadata": {
        "colab": {
          "base_uri": "https://localhost:8080/"
        },
        "id": "wynFEa5MGVit",
        "outputId": "84aa67cf-063a-4df2-d5b7-e4d2148c44d8"
      },
      "execution_count": 26,
      "outputs": [
        {
          "output_type": "stream",
          "name": "stdout",
          "text": [
            "Files already downloaded and verified\n"
          ]
        }
      ]
    },
    {
      "cell_type": "code",
      "source": [
        "# full base ViT\n",
        "class VisionTransformer(nn.Module):\n",
        "    def __init__(self, emb_dim, num_classes):\n",
        "        super().__init__()\n",
        "        self.embedding = nn.Conv2d(3, emb_dim, 16, 16, padding='valid')\n",
        "        # 197 = (224/16) ** 2\n",
        "        self.pos_embedding = nn.Parameter(torch.ones(1, 197, emb_dim))\n",
        "        self.cls = nn.Parameter(torch.ones((1, 1, emb_dim)))\n",
        "        self.ln = nn.LayerNorm(emb_dim)\n",
        "        self.emb_dim = emb_dim\n",
        "        self.encoder = nn.Sequential(*[\n",
        "            nn.TransformerEncoderLayer(emb_dim, 12, 3072, activation=F.gelu,\n",
        "                                       batch_first=True) for _ in range(12)\n",
        "        ])\n",
        "        # self.pre_logits = nn.Parameter(torch.rand(emb_dim))\n",
        "        self.head = nn.Linear(emb_dim, num_classes)\n",
        "\n",
        "    def forward(self, x):\n",
        "        x = self.embedding(x)\n",
        "        # (bs, seq_len,emb_dim)\n",
        "        x = x.reshape(x.shape[0], x.shape[1], -1).permute(0, 2, 1)\n",
        "        # prepend class embedding token\n",
        "        # (bs, 1, emb_dim)\n",
        "        cls_emb = self.cls + torch.zeros(x.shape[0], 1, 1)\n",
        "        x = torch.cat((cls_emb, x), dim=1)\n",
        "        x = self.encoder(x + self.pos_embedding)\n",
        "        x = self.ln(x)\n",
        "        x = x[:, 0]\n",
        "        x = self.head(x)\n",
        "        return x\n",
        "\n",
        "    def load_from_pretrained(self, path):\n",
        "        with np.load(path) as data:\n",
        "            params = self.state_dict()\n",
        "            params['pos_embedding'] = torch.from_numpy(data['Transformer/posembed_input/pos_embedding'])\n",
        "            params['cls'] = torch.from_numpy(data['cls'])\n",
        "            params['embedding.weight'] = torch.from_numpy(data['embedding/kernel']).permute(3, 2, 0, 1)\n",
        "            params['embedding.bias'] = torch.from_numpy(data['embedding/bias'])\n",
        "            params['ln.weight'] = torch.from_numpy(data['Transformer/encoder_norm/scale'])\n",
        "            params['ln.bias'] = torch.from_numpy(data['Transformer/encoder_norm/bias'])\n",
        "            # params['pre_logits.weight'] = torch.from_numpy(data['pre_logits/kernel']).T\n",
        "            # params['pre_logits.bias'] = torch.from_numpy(data['pre_logits/bias'])\n",
        "            params['head.weight'] = torch.from_numpy(data['head/kernel']).T\n",
        "            params['head.bias'] = torch.from_numpy(data['head/bias'])\n",
        "            for i in range(12):\n",
        "                # TODO: I am assuming these attention weights are part of issue?\n",
        "                #       probably just need to write transformer encoder manually\n",
        "                #       so that I can know attention weights go where they should\n",
        "                q = torch.from_numpy(data[f'Transformer/encoderblock_{i}/MultiHeadDotProductAttention_1/query/kernel']).reshape(768, -1)\n",
        "                q_bias = torch.from_numpy(data[f'Transformer/encoderblock_{i}/MultiHeadDotProductAttention_1/query/bias']).reshape(-1)\n",
        "                k = torch.from_numpy(data[f'Transformer/encoderblock_{i}/MultiHeadDotProductAttention_1/key/kernel']).reshape(768, -1)\n",
        "                k_bias = torch.from_numpy(data[f'Transformer/encoderblock_{i}/MultiHeadDotProductAttention_1/key/bias']).reshape(-1)\n",
        "                v = torch.from_numpy(data[f'Transformer/encoderblock_{i}/MultiHeadDotProductAttention_1/value/kernel']).reshape(768, -1)\n",
        "                v_bias = torch.from_numpy(data[f'Transformer/encoderblock_{i}/MultiHeadDotProductAttention_1/value/bias']).reshape(-1)\n",
        "                params[f'encoder.{i}.self_attn.in_proj_weight'] = torch.cat([q,k, v], dim=0)\n",
        "                params[f'encoder.{i}.self_attn.in_proj_bias'] = torch.cat([q_bias, k_bias, v_bias])\n",
        "                params[f'encoder.{i}.self_attn.out_proj.weight'] = torch.from_numpy(data[f'Transformer/encoderblock_{i}/MultiHeadDotProductAttention_1/out/kernel']).reshape(-1, 768)\n",
        "                params[f'encoder.{i}.self_attn.out_proj.bias'] = torch.from_numpy(data[f'Transformer/encoderblock_{i}/MultiHeadDotProductAttention_1/out/bias'])\n",
        "                params[f'encoder.{i}.linear1.weight'] = torch.from_numpy(data[f'Transformer/encoderblock_{i}/MlpBlock_3/Dense_0/kernel']).T\n",
        "                params[f'encoder.{i}.linear1.bias'] = torch.from_numpy(data[f'Transformer/encoderblock_{i}/MlpBlock_3/Dense_0/bias'])\n",
        "                params[f'encoder.{i}.linear2.weight'] = torch.from_numpy(data[f'Transformer/encoderblock_{i}/MlpBlock_3/Dense_1/kernel']).T\n",
        "                params[f'encoder.{i}.linear2.bias'] = torch.from_numpy(data[f'Transformer/encoderblock_{i}/MlpBlock_3/Dense_1/bias'])\n",
        "                params[f'encoder.{i}.norm1.weight'] = torch.from_numpy(data[f'Transformer/encoderblock_{i}/LayerNorm_0/scale'])\n",
        "                params[f'encoder.{i}.norm1.bias'] = torch.from_numpy(data[f'Transformer/encoderblock_{i}/LayerNorm_0/bias'])\n",
        "                params[f'encoder.{i}.norm2.weight'] = torch.from_numpy(data[f'Transformer/encoderblock_{i}/LayerNorm_2/scale']).T\n",
        "                params[f'encoder.{i}.norm2.bias'] = torch.from_numpy(data[f'Transformer/encoderblock_{i}/LayerNorm_2/bias'])\n",
        "            self.load_state_dict(params)"
      ],
      "metadata": {
        "id": "tpOhkQI48haZ"
      },
      "execution_count": 36,
      "outputs": []
    },
    {
      "cell_type": "code",
      "source": [
        "path = 'B_16-i1k-300ep-lr_0.001-aug_light0-wd_0.03-do_0.0-sd_0.0--cifar100-steps_10k-lr_0.003-res_224.npz'\n",
        "# path = 'B_16-i21k-300ep-lr_0.001-aug_medium1-wd_0.1-do_0.0-sd_0.0--imagenet2012-steps_20k-lr_0.01-res_224.npz'\n",
        "model = VisionTransformer(768, 100)\n",
        "model.load_from_pretrained(path)"
      ],
      "metadata": {
        "id": "8XEbW6mf9mjT"
      },
      "execution_count": 44,
      "outputs": []
    },
    {
      "cell_type": "code",
      "source": [
        "model.eval()\n",
        "# always predicting cls=3?\n",
        "for (i, (x, _)) in enumerate(test_dl):\n",
        "    plt.imshow(x.squeeze(0)[0])\n",
        "    if i > 0: break\n",
        "    out = model(x)\n",
        "    print(out)\n",
        "    cls = out.argmax(dim=-1).item()\n",
        "    print(cls, class_names[cls])"
      ],
      "metadata": {
        "colab": {
          "base_uri": "https://localhost:8080/",
          "height": 525
        },
        "id": "LYJWaNyR04er",
        "outputId": "f263cecc-e105-478a-e7bb-fea7aaf167aa"
      },
      "execution_count": 45,
      "outputs": [
        {
          "output_type": "stream",
          "name": "stdout",
          "text": [
            "tensor([[-0.9344,  1.0525, -2.5580,  5.5676,  2.2720, -0.5395,  1.3572,  2.3273,\n",
            "         -2.9378, -1.3514,  0.3068, -1.1027, -1.1754,  1.0177,  1.5607,  2.6056,\n",
            "         -2.1659, -1.2474,  1.6185,  2.8689, -0.0394,  2.0165,  1.4952, -2.5294,\n",
            "          0.1566, -1.8240,  1.8465, -0.4419, -1.0130,  1.4246, -0.0429,  2.2779,\n",
            "          0.9367,  2.9989,  4.1155, -2.0527, -0.4591, -1.7541,  1.4396, -1.1997,\n",
            "          1.2147, -1.4765,  2.3152,  2.0967,  2.6526,  1.0901,  0.5773, -3.4538,\n",
            "         -2.1276, -0.7719, -0.0924,  1.3692, -4.0860, -0.7761, -4.2330,  2.0630,\n",
            "         -2.1803, -0.6639, -2.1861, -0.4474,  0.1820, -3.3162, -2.5275,  0.0369,\n",
            "          1.1024,  2.2096,  0.4799,  0.9320, -3.3137,  0.2386, -2.3949, -1.5800,\n",
            "          2.3835,  0.7720,  0.4546,  0.7860, -3.1598,  0.9374,  1.9043,  1.6941,\n",
            "          2.1497, -1.7835, -1.6743,  0.6044, -0.3533, -1.5473, -0.6159,  1.1399,\n",
            "          0.2991, -0.5559,  0.2247, -1.8835, -1.3806,  1.1984, -1.9631,  1.5470,\n",
            "         -1.6026,  1.0614, -0.7354,  1.2334]], grad_fn=<AddmmBackward0>)\n",
            "3 bear\n"
          ]
        },
        {
          "output_type": "display_data",
          "data": {
            "text/plain": [
              "<Figure size 432x288 with 1 Axes>"
            ],
            "image/png": "[encoded data removed]"
          },
          "metadata": {
            "needs_background": "light"
          }
        }
      ]
    }
  ]
}