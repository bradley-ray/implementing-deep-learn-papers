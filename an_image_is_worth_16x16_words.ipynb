{
  "nbformat": 4,
  "nbformat_minor": 0,
  "metadata": {
    "colab": {
      "provenance": [],
      "authorship_tag": "ABX9TyPHOD0UduCIitySKgpxeAm/"
    },
    "kernelspec": {
      "name": "python3",
      "display_name": "Python 3"
    },
    "language_info": {
      "name": "python"
    }
  },
  "cells": [
    {
      "cell_type": "markdown",
      "source": [
        "# Vision Transformer\n",
        "\n",
        "[An Image is Worth 16x16 Words](https://arxiv.org/abs/2010.11929v2)\n",
        "[Vision Transformer for Small-Size Datasets](https://arxiv.org/pdf/2112.13492.pdf)"
      ],
      "metadata": {
        "id": "J1pAeEEVBLCQ"
      }
    },
    {
      "cell_type": "code",
      "execution_count": null,
      "metadata": {
        "id": "8kFlpEx9A_50"
      },
      "outputs": [],
      "source": [
        "import torch\n",
        "from torchvision import datasets as ds"
      ]
    }
  ]
}