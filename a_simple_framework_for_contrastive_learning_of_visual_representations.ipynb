{
  "nbformat": 4,
  "nbformat_minor": 0,
  "metadata": {
    "colab": {
      "provenance": [],
      "authorship_tag": "ABX9TyOf5WXaHt0Xzy0J4etR0p4p",
      "include_colab_link": true
    },
    "kernelspec": {
      "name": "python3",
      "display_name": "Python 3"
    },
    "language_info": {
      "name": "python"
    }
  },
  "cells": [
    {
      "cell_type": "markdown",
      "metadata": {
        "id": "view-in-github",
        "colab_type": "text"
      },
      "source": [
        "<a href=\"https://colab.research.google.com/github/bradley-ray/implementing-deep-learn-papers/blob/master/a_simple_framework_for_contrastive_learning_of_visual_representations.ipynb\" target=\"_parent\"><img src=\"https://colab.research.google.com/assets/colab-badge.svg\" alt=\"Open In Colab\"/></a>"
      ]
    },
    {
      "cell_type": "markdown",
      "source": [
        "# A Simple Framework for Contrastive Learning of Visual Representations\n",
        "* [paper](https://arxiv.org/abs/2002.05709)\n",
        "* [weights](https://console.cloud.google.com/storage/browser/simclr-checkpoints/simclrv1?pageState=(%22StorageObjectListTable%22:(%22f%22:%22%255B%255D%22))&prefix=&forceOnObjectsSortingFiltering=false)"
      ],
      "metadata": {
        "id": "RpCrlep7Ov5R"
      }
    },
    {
      "cell_type": "markdown",
      "source": [
        "SimCLR uses ResNet-50 for the encoder model."
      ],
      "metadata": {
        "id": "TdCiHC9I6EHc"
      }
    },
    {
      "cell_type": "code",
      "execution_count": null,
      "metadata": {
        "id": "HtLYWt_iOsc0"
      },
      "outputs": [],
      "source": [
        "class ResNetBlock(nn.Module):\n",
        "    def __init__(self, num_channels: int, out_channels: int block_idx: int):\n",
        "        super().__init__()\n",
        "        stride = 2 if block_idx == 0 else 1\n",
        "        self.conv1 = nn.Conv2d(in_channels=num_channels*4, \n",
        "                               out_channels=num_channels, kernel_size=1,\n",
        "                               stride=stride)\n",
        "        self.conv2 = nn.Conv2d(in_channels=num_channels, \n",
        "                               out_channels=num_channels, kernel_size=3)\n",
        "        self.conv3 = nn.Conv2d(in_channels=num_channels, \n",
        "                               out_channels=num_channels*4, kernel_size=1)\n",
        "\n",
        "    def forward(self, x):\n",
        "        out = x\n",
        "        res = out\n",
        "        out = self.conv1(out)\n",
        "        out = self.conv2(out)\n",
        "        out = self.conv3(out)\n",
        "        out += res\n",
        "        return out\n",
        "\n",
        "    def load_weights(self, weights):\n",
        "        ...\n",
        "\n",
        "class ResNet50(nn.Module):\n",
        "    def __init__(self):\n",
        "        super().__init__()\n",
        "        self.conv1 = nn.Conv2d(in_channels=3, out_channels64, \n",
        "                              kernel_size=7, stride=2)\n",
        "        self.max_pool = nn.MaxPool2d(kernel_size=3, stride=2)\n",
        "        self.avg_pool = nn.AvgPool2d(kernel_size=7)\n",
        "        self.conv2_x = nn.Sequntial(*[ResNetBlock(64, i) for i in range(3)])\n",
        "        self.conv3_x = nn.Sequntial(*[ResNetBlock(128, i) for i in range(4)])\n",
        "        self.conv4_x = nn.Sequntial(*[ResNetBlock(256, i) for i in range(6)])\n",
        "        self.conv5_x = nn.Sequntial(*[ResNetBlock(512, i) for i in range(3)])\n",
        "\n",
        "    def forward(self, x):\n",
        "        out = self.conv1(x)\n",
        "        out = self.max_pool(out)\n",
        "        out = self.conv2_x(out)\n",
        "        out = self.conv3_x(out)\n",
        "        out = self.conv4_x(out)\n",
        "        out = self.conv5_x(out)\n",
        "        out = self.avg_pool(out)\n",
        "        return out\n",
        "\n",
        "    def load_weights(self, weights):\n",
        "        ..."
      ]
    }
  ]
}