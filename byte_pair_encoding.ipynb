{
  "nbformat": 4,
  "nbformat_minor": 0,
  "metadata": {
    "colab": {
      "provenance": [],
      "authorship_tag": "ABX9TyMFSlshb7b69MJ6wrCUH7Ll"
    },
    "kernelspec": {
      "name": "python3",
      "display_name": "Python 3"
    },
    "language_info": {
      "name": "python"
    }
  },
  "cells": [
    {
      "cell_type": "markdown",
      "source": [
        "# Byte Pair Encoding\n",
        "\n",
        "Use implemetation of BPE from gpt 2 paper.\n",
        "\n",
        "Links:\n",
        "* bpe: https://aclanthology.org/P16-1162.pdf\n",
        "\n",
        "* gpt2: https://d4mucfpksywv.cloudfront.net/better-language-models/language-models.pdf\n",
        "\n"
      ],
      "metadata": {
        "id": "CQVC3yDKrqS8"
      }
    },
    {
      "cell_type": "code",
      "execution_count": null,
      "metadata": {
        "id": "EX2cHPJ8ro5w"
      },
      "outputs": [],
      "source": []
    }
  ]
}