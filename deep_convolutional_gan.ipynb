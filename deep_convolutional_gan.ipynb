{
  "nbformat": 4,
  "nbformat_minor": 0,
  "metadata": {
    "colab": {
      "provenance": [],
      "collapsed_sections": [],
      "authorship_tag": "ABX9TyN9oXc5AI9Pd4qZh2KrwPXw"
    },
    "kernelspec": {
      "name": "python3",
      "display_name": "Python 3"
    },
    "language_info": {
      "name": "python"
    },
    "accelerator": "GPU",
    "gpuClass": "standard",
    "widgets": {
      "application/vnd.jupyter.widget-state+json": {
        "b3eff2920e0340d7b226653e94e242ed": {
          "model_module": "@jupyter-widgets/controls",
          "model_name": "HBoxModel",
          "model_module_version": "1.5.0",
          "state": {
            "_dom_classes": [],
            "_model_module": "@jupyter-widgets/controls",
            "_model_module_version": "1.5.0",
            "_model_name": "HBoxModel",
            "_view_count": null,
            "_view_module": "@jupyter-widgets/controls",
            "_view_module_version": "1.5.0",
            "_view_name": "HBoxView",
            "box_style": "",
            "children": [
              "IPY_MODEL_13e47d74bbd2457e9163f5bd1d4f71f1",
              "IPY_MODEL_694bcac597b9452f9fd528096a4ff407",
              "IPY_MODEL_487b295647974a9299f72a374a7dd0bf"
            ],
            "layout": "IPY_MODEL_92d51e1188214935a658e0d7c086ec24"
          }
        },
        "13e47d74bbd2457e9163f5bd1d4f71f1": {
          "model_module": "@jupyter-widgets/controls",
          "model_name": "HTMLModel",
          "model_module_version": "1.5.0",
          "state": {
            "_dom_classes": [],
            "_model_module": "@jupyter-widgets/controls",
            "_model_module_version": "1.5.0",
            "_model_name": "HTMLModel",
            "_view_count": null,
            "_view_module": "@jupyter-widgets/controls",
            "_view_module_version": "1.5.0",
            "_view_name": "HTMLView",
            "description": "",
            "description_tooltip": null,
            "layout": "IPY_MODEL_5b264b8ee3984cf086acd4cb5cccfeb5",
            "placeholder": "​",
            "style": "IPY_MODEL_3fb2b25885404d3eb2c4f4ce934d14cf",
            "value": "100%"
          }
        },
        "694bcac597b9452f9fd528096a4ff407": {
          "model_module": "@jupyter-widgets/controls",
          "model_name": "FloatProgressModel",
          "model_module_version": "1.5.0",
          "state": {
            "_dom_classes": [],
            "_model_module": "@jupyter-widgets/controls",
            "_model_module_version": "1.5.0",
            "_model_name": "FloatProgressModel",
            "_view_count": null,
            "_view_module": "@jupyter-widgets/controls",
            "_view_module_version": "1.5.0",
            "_view_name": "ProgressView",
            "bar_style": "success",
            "description": "",
            "description_tooltip": null,
            "layout": "IPY_MODEL_692a5b038dd74e169294ff4730ddd7eb",
            "max": 2753340328,
            "min": 0,
            "orientation": "horizontal",
            "style": "IPY_MODEL_41444b4cf8404f3aa60a9f5d0449d7f5",
            "value": 2753340328
          }
        },
        "487b295647974a9299f72a374a7dd0bf": {
          "model_module": "@jupyter-widgets/controls",
          "model_name": "HTMLModel",
          "model_module_version": "1.5.0",
          "state": {
            "_dom_classes": [],
            "_model_module": "@jupyter-widgets/controls",
            "_model_module_version": "1.5.0",
            "_model_name": "HTMLModel",
            "_view_count": null,
            "_view_module": "@jupyter-widgets/controls",
            "_view_module_version": "1.5.0",
            "_view_name": "HTMLView",
            "description": "",
            "description_tooltip": null,
            "layout": "IPY_MODEL_6cad066c8b4442b0a9fe679800d89465",
            "placeholder": "​",
            "style": "IPY_MODEL_a6ef14a94b764dd089fa742bdb2fb2af",
            "value": " 2753340328/2753340328 [03:08&lt;00:00, 14712146.67it/s]"
          }
        },
        "92d51e1188214935a658e0d7c086ec24": {
          "model_module": "@jupyter-widgets/base",
          "model_name": "LayoutModel",
          "model_module_version": "1.2.0",
          "state": {
            "_model_module": "@jupyter-widgets/base",
            "_model_module_version": "1.2.0",
            "_model_name": "LayoutModel",
            "_view_count": null,
            "_view_module": "@jupyter-widgets/base",
            "_view_module_version": "1.2.0",
            "_view_name": "LayoutView",
            "align_content": null,
            "align_items": null,
            "align_self": null,
            "border": null,
            "bottom": null,
            "display": null,
            "flex": null,
            "flex_flow": null,
            "grid_area": null,
            "grid_auto_columns": null,
            "grid_auto_flow": null,
            "grid_auto_rows": null,
            "grid_column": null,
            "grid_gap": null,
            "grid_row": null,
            "grid_template_areas": null,
            "grid_template_columns": null,
            "grid_template_rows": null,
            "height": null,
            "justify_content": null,
            "justify_items": null,
            "left": null,
            "margin": null,
            "max_height": null,
            "max_width": null,
            "min_height": null,
            "min_width": null,
            "object_fit": null,
            "object_position": null,
            "order": null,
            "overflow": null,
            "overflow_x": null,
            "overflow_y": null,
            "padding": null,
            "right": null,
            "top": null,
            "visibility": null,
            "width": null
          }
        },
        "5b264b8ee3984cf086acd4cb5cccfeb5": {
          "model_module": "@jupyter-widgets/base",
          "model_name": "LayoutModel",
          "model_module_version": "1.2.0",
          "state": {
            "_model_module": "@jupyter-widgets/base",
            "_model_module_version": "1.2.0",
            "_model_name": "LayoutModel",
            "_view_count": null,
            "_view_module": "@jupyter-widgets/base",
            "_view_module_version": "1.2.0",
            "_view_name": "LayoutView",
            "align_content": null,
            "align_items": null,
            "align_self": null,
            "border": null,
            "bottom": null,
            "display": null,
            "flex": null,
            "flex_flow": null,
            "grid_area": null,
            "grid_auto_columns": null,
            "grid_auto_flow": null,
            "grid_auto_rows": null,
            "grid_column": null,
            "grid_gap": null,
            "grid_row": null,
            "grid_template_areas": null,
            "grid_template_columns": null,
            "grid_template_rows": null,
            "height": null,
            "justify_content": null,
            "justify_items": null,
            "left": null,
            "margin": null,
            "max_height": null,
            "max_width": null,
            "min_height": null,
            "min_width": null,
            "object_fit": null,
            "object_position": null,
            "order": null,
            "overflow": null,
            "overflow_x": null,
            "overflow_y": null,
            "padding": null,
            "right": null,
            "top": null,
            "visibility": null,
            "width": null
          }
        },
        "3fb2b25885404d3eb2c4f4ce934d14cf": {
          "model_module": "@jupyter-widgets/controls",
          "model_name": "DescriptionStyleModel",
          "model_module_version": "1.5.0",
          "state": {
            "_model_module": "@jupyter-widgets/controls",
            "_model_module_version": "1.5.0",
            "_model_name": "DescriptionStyleModel",
            "_view_count": null,
            "_view_module": "@jupyter-widgets/base",
            "_view_module_version": "1.2.0",
            "_view_name": "StyleView",
            "description_width": ""
          }
        },
        "692a5b038dd74e169294ff4730ddd7eb": {
          "model_module": "@jupyter-widgets/base",
          "model_name": "LayoutModel",
          "model_module_version": "1.2.0",
          "state": {
            "_model_module": "@jupyter-widgets/base",
            "_model_module_version": "1.2.0",
            "_model_name": "LayoutModel",
            "_view_count": null,
            "_view_module": "@jupyter-widgets/base",
            "_view_module_version": "1.2.0",
            "_view_name": "LayoutView",
            "align_content": null,
            "align_items": null,
            "align_self": null,
            "border": null,
            "bottom": null,
            "display": null,
            "flex": null,
            "flex_flow": null,
            "grid_area": null,
            "grid_auto_columns": null,
            "grid_auto_flow": null,
            "grid_auto_rows": null,
            "grid_column": null,
            "grid_gap": null,
            "grid_row": null,
            "grid_template_areas": null,
            "grid_template_columns": null,
            "grid_template_rows": null,
            "height": null,
            "justify_content": null,
            "justify_items": null,
            "left": null,
            "margin": null,
            "max_height": null,
            "max_width": null,
            "min_height": null,
            "min_width": null,
            "object_fit": null,
            "object_position": null,
            "order": null,
            "overflow": null,
            "overflow_x": null,
            "overflow_y": null,
            "padding": null,
            "right": null,
            "top": null,
            "visibility": null,
            "width": null
          }
        },
        "41444b4cf8404f3aa60a9f5d0449d7f5": {
          "model_module": "@jupyter-widgets/controls",
          "model_name": "ProgressStyleModel",
          "model_module_version": "1.5.0",
          "state": {
            "_model_module": "@jupyter-widgets/controls",
            "_model_module_version": "1.5.0",
            "_model_name": "ProgressStyleModel",
            "_view_count": null,
            "_view_module": "@jupyter-widgets/base",
            "_view_module_version": "1.2.0",
            "_view_name": "StyleView",
            "bar_color": null,
            "description_width": ""
          }
        },
        "6cad066c8b4442b0a9fe679800d89465": {
          "model_module": "@jupyter-widgets/base",
          "model_name": "LayoutModel",
          "model_module_version": "1.2.0",
          "state": {
            "_model_module": "@jupyter-widgets/base",
            "_model_module_version": "1.2.0",
            "_model_name": "LayoutModel",
            "_view_count": null,
            "_view_module": "@jupyter-widgets/base",
            "_view_module_version": "1.2.0",
            "_view_name": "LayoutView",
            "align_content": null,
            "align_items": null,
            "align_self": null,
            "border": null,
            "bottom": null,
            "display": null,
            "flex": null,
            "flex_flow": null,
            "grid_area": null,
            "grid_auto_columns": null,
            "grid_auto_flow": null,
            "grid_auto_rows": null,
            "grid_column": null,
            "grid_gap": null,
            "grid_row": null,
            "grid_template_areas": null,
            "grid_template_columns": null,
            "grid_template_rows": null,
            "height": null,
            "justify_content": null,
            "justify_items": null,
            "left": null,
            "margin": null,
            "max_height": null,
            "max_width": null,
            "min_height": null,
            "min_width": null,
            "object_fit": null,
            "object_position": null,
            "order": null,
            "overflow": null,
            "overflow_x": null,
            "overflow_y": null,
            "padding": null,
            "right": null,
            "top": null,
            "visibility": null,
            "width": null
          }
        },
        "a6ef14a94b764dd089fa742bdb2fb2af": {
          "model_module": "@jupyter-widgets/controls",
          "model_name": "DescriptionStyleModel",
          "model_module_version": "1.5.0",
          "state": {
            "_model_module": "@jupyter-widgets/controls",
            "_model_module_version": "1.5.0",
            "_model_name": "DescriptionStyleModel",
            "_view_count": null,
            "_view_module": "@jupyter-widgets/base",
            "_view_module_version": "1.2.0",
            "_view_name": "StyleView",
            "description_width": ""
          }
        }
      }
    }
  },
  "cells": [
    {
      "cell_type": "markdown",
      "source": [
        "# Unsupervised Representation Learning With Deep Convolutional Generative Adversial Networks\n",
        "* [paper](https://arxiv.org/pdf/1511.06434v2.pdf)"
      ],
      "metadata": {
        "id": "fbnU9ZrqM11F"
      }
    },
    {
      "cell_type": "code",
      "source": [
        "import torch\n",
        "import torch.nn as nn\n",
        "import torchvision.transforms as T\n",
        "import torch.optim as optim\n",
        "\n",
        "import matplotlib.pyplot as plt\n",
        "\n",
        "from torchvision import datasets\n",
        "from torch.utils.data import DataLoader, Subset, Dataset\n",
        "\n",
        "from tqdm import tqdm\n",
        "from typing import List,Tuple\n",
        "\n",
        "\n",
        "DEVICE = 'cuda' if torch.cuda.is_available() else 'cpu'"
      ],
      "metadata": {
        "id": "Rqi6eTlnR4Yb"
      },
      "execution_count": 1,
      "outputs": []
    },
    {
      "cell_type": "markdown",
      "source": [
        "# Network"
      ],
      "metadata": {
        "id": "vv4jK2VuR2ky"
      }
    },
    {
      "cell_type": "markdown",
      "source": [
        "## Useful Submodules"
      ],
      "metadata": {
        "id": "OoOJB2pLw1Nt"
      }
    },
    {
      "cell_type": "code",
      "source": [
        "# experimented with how i created network to have more flexibility based on \n",
        "# what i've seen with other code\n",
        "\n",
        "class DownsampleBlock(nn.Module):\n",
        "    def __init__(self, in_channels: int, out_channels: int, kernel_size: int=5, \n",
        "                 stride: int=2, padding: int=2):\n",
        "        super().__init__()\n",
        "        self.use_batchnorm = True\n",
        "        self.conv = nn.Conv2d(in_channels, out_channels, kernel_size, stride,\n",
        "                              padding)\n",
        "        self.bn = nn.BatchNorm2d(out_channels)\n",
        "        self.act = nn.LeakyReLU(.2)\n",
        "\n",
        "    def forward(self, X):\n",
        "        out = self.conv(X)\n",
        "        if self.use_batchnorm:\n",
        "            out = self.bn(out)\n",
        "        out = self.act(out)\n",
        "        return out\n",
        "\n",
        "class UpsampleBlock(nn.Module):\n",
        "    def __init__(self, in_channels: int, out_channels: int, \n",
        "                 kernel_size: int=5, stride: int=2, padding: int=2,\n",
        "                 out_padding: int=1):\n",
        "        super().__init__()\n",
        "        self.use_batchnorm = True\n",
        "        self.convT = nn.ConvTranspose2d(in_channels, out_channels, kernel_size,\n",
        "                                        stride, padding, out_padding)\n",
        "        self.bn = nn.BatchNorm2d(out_channels)\n",
        "        # self.act = nn.ReLU()\n",
        "        self.act = nn.LeakyReLU(.2)\n",
        "\n",
        "    def forward(self, X):\n",
        "        out = self.convT(X)\n",
        "        if self.use_batchnorm:\n",
        "            out = self.bn(out)\n",
        "        out = self.act(out)\n",
        "        return out"
      ],
      "metadata": {
        "id": "rWqXKwMTxF74"
      },
      "execution_count": null,
      "outputs": []
    },
    {
      "cell_type": "markdown",
      "source": [
        "## Generator Network"
      ],
      "metadata": {
        "id": "2b9Ke-UGw5WM"
      }
    },
    {
      "cell_type": "code",
      "source": [
        "class Generator(nn.Module):\n",
        "    def __init__(self, channel_sizes: List[int], img_size: int=64, \n",
        "                 z_dim: int=100):\n",
        "        super().__init__()\n",
        "        num_samples = len(channel_sizes)-1\n",
        "        self.z_dim = z_dim\n",
        "        # dimensions of input volume for upsampling network\n",
        "        # every time downsample, img_size halves\n",
        "        self.in_dim = img_size//(2**num_samples)\n",
        "        # depth of input volume for upsamling network\n",
        "        self.in_channels = channel_sizes[0]\n",
        "        # size of input volume to upsampling network flattend\n",
        "        flat_size = channel_sizes[0] * self.in_dim * self.in_dim\n",
        "        up_layers = []\n",
        "        for i in range(num_samples):\n",
        "            up_layers.append(UpsampleBlock(channel_sizes[i],\n",
        "                                           channel_sizes[i+1]))\n",
        "        self.img_size = img_size\n",
        "        # final layer no batchnorm and use Tanh activation\n",
        "        up_layers[-1].use_batchnorm = False\n",
        "        up_layers[-1].act = nn.Tanh()\n",
        "        self.upsample = nn.Sequential(*up_layers)\n",
        "        self.fc = nn.Sequential(\n",
        "            nn.Linear(z_dim, flat_size),\n",
        "            nn.ReLU()\n",
        "        )\n",
        "\n",
        "    def forward(self, z: torch.Tensor):\n",
        "        out = self.fc(z)\n",
        "        out = out.view(-1, self.in_channels, self.in_dim, self.in_dim)\n",
        "        out = self.upsample(out)\n",
        "        return out\n",
        "    \n",
        "    def train_model(self, dis: nn.Module, bs: int, loss: nn.Module,\n",
        "                    opt: torch.optim.Optimizer):\n",
        "        opt.zero_grad()\n",
        "        z = torch.randn((bs, self.z_dim)).to(DEVICE)\n",
        "        gen_z = self(z)\n",
        "        dis_z = dis(gen_z)\n",
        "        # dis_z = dis(gen_z).detach()\n",
        "        loss_gen = loss(dis_z, torch.full_like(dis_z, 0.9))\n",
        "        loss_gen.backward()\n",
        "        opt.step()\n",
        "        return loss_gen\n"
      ],
      "metadata": {
        "id": "U9iQBpgOxGXB"
      },
      "execution_count": null,
      "outputs": []
    },
    {
      "cell_type": "markdown",
      "source": [
        "## Discriminator Network"
      ],
      "metadata": {
        "id": "z3l_80Xzw7wJ"
      }
    },
    {
      "cell_type": "code",
      "source": [
        "class Discriminator(nn.Module):\n",
        "    def __init__(self, channel_sizes: List[int], img_size: int=64, \n",
        "                 z_dim: int=100):\n",
        "        super().__init__()\n",
        "        self.z_dim = z_dim\n",
        "        num_samples = len(channel_sizes)-1\n",
        "        # dimensions of output volume from downsampling network\n",
        "        # everytime downsample, img_size halves\n",
        "        out_dim = img_size//(2**num_samples)\n",
        "        # depth of output volume from downsampling network\n",
        "        out_channels = channel_sizes[-1]\n",
        "        # size of output volume from downsampling network flattend\n",
        "        flat_size = out_channels * out_dim * out_dim\n",
        "        down_layers = []\n",
        "        for i in range(num_samples):\n",
        "            down_layers.append(DownsampleBlock(channel_sizes[i],\n",
        "                                               channel_sizes[i+1]))\n",
        "        # no batchnorm on input layer\n",
        "        down_layers[0].use_batchnorm = False\n",
        "        self.downsample = nn.Sequential(*down_layers)\n",
        "        self.fc = nn.Sequential(\n",
        "            nn.Linear(flat_size, 1),\n",
        "            nn.Sigmoid()\n",
        "        )\n",
        "\n",
        "    def forward(self, X: torch.Tensor):\n",
        "        out = self.downsample(X)\n",
        "        out = torch.flatten(out, 1, 3)\n",
        "        out = self.fc(out)\n",
        "        return out\n",
        "\n",
        "    def train_model(self, gen: nn.Module, batch: torch.Tensor, loss: nn.Module,\n",
        "                    opt: torch.optim.Optimizer):\n",
        "        opt.zero_grad()\n",
        "        z = torch.randn((batch.shape[0], self.z_dim)).to(DEVICE)\n",
        "        gen_z = gen(z).detach()\n",
        "        dis_z = self(gen_z)\n",
        "        loss_fake = loss(dis_z, torch.full_like(dis_z, 0.1))\n",
        "        dis_x = self(batch)\n",
        "        loss_real = loss(dis_x, torch.full_like(dis_x, 0.9))\n",
        "        \n",
        "        loss_total = loss_fake + loss_real\n",
        "        loss_total.backward()\n",
        "        opt.step()\n",
        "        \n",
        "        return  loss_fake, loss_real\n"
      ],
      "metadata": {
        "id": "CnUBhq0xxG__"
      },
      "execution_count": null,
      "outputs": []
    },
    {
      "cell_type": "markdown",
      "source": [
        "## GAN"
      ],
      "metadata": {
        "id": "KZHh7yvJw_S1"
      }
    },
    {
      "cell_type": "code",
      "source": [
        "def weights_init(m):\n",
        "    classname = m.__class__.__name__\n",
        "    if classname.find('Conv') != -1:\n",
        "        nn.init.normal_(m.weight.data, 0.0, 0.02)\n",
        "    elif classname.find('BatchNorm') != -1:\n",
        "        nn.init.normal_(m.weight.data, 1.0, 0.02)\n",
        "        nn.init.constant_(m.bias.data, 0)"
      ],
      "metadata": {
        "id": "H6j_10eK-Ygp"
      },
      "execution_count": 33,
      "outputs": []
    },
    {
      "cell_type": "code",
      "execution_count": 62,
      "metadata": {
        "id": "_Uz53mceMwn_"
      },
      "outputs": [],
      "source": [
        "class GAN:\n",
        "    def __init__(self, channel_sizes: List[int], img_size: int=64,\n",
        "                 z_dim: int=100, device: str='cuda'):\n",
        "        super().__init__()\n",
        "        self.img_size = img_size\n",
        "        self.img_channels = channel_sizes[0]\n",
        "        self.gen = Generator(channel_sizes[::-1], img_size, z_dim).to(device)\n",
        "        self.dis = Discriminator(channel_sizes, img_size, z_dim).to(device)\n",
        "        self.d_loss_real = []\n",
        "        self.d_loss_fake = []\n",
        "        self.g_loss = []\n",
        "        \n",
        "    def train_model(self, ds: Dataset, fixed: torch.Tensor, epochs: int, \n",
        "                    bs: int=64, lr: float=1e-3, beta_1: float=.5, beta_2=.999, \n",
        "                    z_dim: int=100, train_ratio: Tuple[int,int]=(1,2)):\n",
        "        dl = DataLoader(ds, batch_size=bs, shuffle=True)\n",
        "        opt_gen = optim.Adam(self.gen.parameters(), betas=(beta_1, beta_1), \n",
        "                             lr=lr)\n",
        "        opt_dis = optim.Adam(self.dis.parameters(), betas=(beta_1, beta_2), \n",
        "                             lr=lr)\n",
        "        \n",
        "        bce = nn.BCELoss()\n",
        "        d_train_num = train_ratio[0]\n",
        "        g_train_num = train_ratio[1]\n",
        "\n",
        "        for i in tqdm(range(epochs)):\n",
        "            self.gen.train()\n",
        "            self.dis.train()\n",
        "            for j, (X,_) in enumerate(dl):\n",
        "                X = X.to(DEVICE)\n",
        "                batch_size = X.shape[0]\n",
        "                # train discriminator\n",
        "                for _ in range(d_train_num):\n",
        "                    losses = self.dis.train_model(self.gen, X, bce, opt_dis)\n",
        "                    loss_dis_fake, loss_dis_real = losses\n",
        "                    self.d_loss_fake.append(loss_dis_fake.detach().cpu())\n",
        "                    self.d_loss_real.append(loss_dis_real.detach().cpu())\n",
        "                # train generator\n",
        "                for _ in range(g_train_num):\n",
        "                    loss_gen = self.gen.train_model(self.dis, X.shape[0], bce,\n",
        "                                                    opt_gen)\n",
        "                    self.g_loss.append(loss_gen.detach().cpu())\n",
        "            if i % 5 == 0 or i == epochs-1:\n",
        "                self.gen.eval()\n",
        "                out = self.gen(fixed).detach().cpu()\n",
        "                img = T.ToPILImage()(out.view(self.img_channels, self.img_size,\n",
        "                                              self.img_size))\n",
        "                display(img)"
      ]
    },
    {
      "cell_type": "markdown",
      "source": [
        "# Getting Data"
      ],
      "metadata": {
        "id": "HVZMvfJ_Ljy9"
      }
    },
    {
      "cell_type": "code",
      "source": [
        "train = None\n",
        "\n",
        "dataset = 'fgvc-aircraft'"
      ],
      "metadata": {
        "id": "wYehMStLy-z4"
      },
      "execution_count": null,
      "outputs": []
    },
    {
      "cell_type": "code",
      "source": [
        "if dataset == 'fgvc-aircraft':\n",
        "    # FGVC-Aircraft Dataset\n",
        "    img_size = (64, 64)\n",
        "    ts = [T.ToTensor(), T.Resize(img_size)]\n",
        "\n",
        "    train = datasets.FGVCAircraft(\n",
        "        root='data',\n",
        "        split='train',\n",
        "        download=True,\n",
        "        transform=T.Compose(ts) \n",
        "    )\n",
        "\n",
        "if dataset == 'mnist':\n",
        "    # MNIST Dataset\n",
        "    ...\n"
      ],
      "metadata": {
        "id": "_d-Wu1AYLiwX",
        "colab": {
          "base_uri": "https://localhost:8080/",
          "height": 84,
          "referenced_widgets": [
            "b3eff2920e0340d7b226653e94e242ed",
            "13e47d74bbd2457e9163f5bd1d4f71f1",
            "694bcac597b9452f9fd528096a4ff407",
            "487b295647974a9299f72a374a7dd0bf",
            "92d51e1188214935a658e0d7c086ec24",
            "5b264b8ee3984cf086acd4cb5cccfeb5",
            "3fb2b25885404d3eb2c4f4ce934d14cf",
            "692a5b038dd74e169294ff4730ddd7eb",
            "41444b4cf8404f3aa60a9f5d0449d7f5",
            "6cad066c8b4442b0a9fe679800d89465",
            "a6ef14a94b764dd089fa742bdb2fb2af"
          ]
        },
        "outputId": "377acbd5-c8cd-46ba-a16e-24414e4fe3d3"
      },
      "execution_count": 4,
      "outputs": [
        {
          "output_type": "stream",
          "name": "stdout",
          "text": [
            "Downloading https://www.robots.ox.ac.uk/~vgg/data/fgvc-aircraft/archives/fgvc-aircraft-2013b.tar.gz to data/fgvc-aircraft-2013b.tar.gz\n"
          ]
        },
        {
          "output_type": "display_data",
          "data": {
            "text/plain": [
              "  0%|          | 0/2753340328 [00:00<?, ?it/s]"
            ],
            "application/vnd.jupyter.widget-view+json": {
              "version_major": 2,
              "version_minor": 0,
              "model_id": "b3eff2920e0340d7b226653e94e242ed"
            }
          },
          "metadata": {}
        },
        {
          "output_type": "stream",
          "name": "stdout",
          "text": [
            "Extracting data/fgvc-aircraft-2013b.tar.gz to data\n"
          ]
        }
      ]
    },
    {
      "cell_type": "markdown",
      "source": [
        "# Training"
      ],
      "metadata": {
        "id": "HDC7SoaxL6AB"
      }
    },
    {
      "cell_type": "code",
      "source": [
        "channel_sizes = [3, 128, 256, 512, 1024]\n",
        "\n",
        "data = train\n",
        "subset_size = 500\n",
        "use_subset = True\n",
        "if use_subset:\n",
        "    data = Subset(train, range(subset_size))"
      ],
      "metadata": {
        "id": "8njtTDxPL-x2"
      },
      "execution_count": 63,
      "outputs": []
    },
    {
      "cell_type": "code",
      "source": [
        "EPOCHS = 20\n",
        "BS = 64\n",
        "BETA_1 = 0.5\n",
        "BETA_2 = 0.999\n",
        "LR = 1e-4\n",
        "Z_DIM = 100"
      ],
      "metadata": {
        "id": "LCyRHE9AwujZ"
      },
      "execution_count": 54,
      "outputs": []
    },
    {
      "cell_type": "code",
      "source": [
        "fixed = torch.randn([1, Z_DIM]).to(DEVICE)"
      ],
      "metadata": {
        "id": "w_btcrSmnFoj"
      },
      "execution_count": 60,
      "outputs": []
    },
    {
      "cell_type": "code",
      "source": [
        "gan = GAN(channel_sizes)"
      ],
      "metadata": {
        "id": "d0PpmTLhxjJo"
      },
      "execution_count": null,
      "outputs": []
    },
    {
      "cell_type": "code",
      "source": [
        "gan.train_model(\n",
        "    ds=data,\n",
        "    fixed=fixed,\n",
        "    epochs=EPOCHS,\n",
        "    bs=BS,\n",
        "    lr=LR,\n",
        "    beta_1=BETA_1,\n",
        "    beta_2=BETA_2,\n",
        "    z_dim=Z_DIM\n",
        ")"
      ],
      "metadata": {
        "colab": {
          "base_uri": "https://localhost:8080/",
          "height": 441
        },
        "id": "WQy4fH_PuzND",
        "outputId": "9024e80f-7972-401f-af91-047b4ede0103"
      },
      "execution_count": 64,
      "outputs": [
        {
          "output_type": "stream",
          "name": "stderr",
          "text": [
            "\r  0%|          | 0/20 [00:00<?, ?it/s]"
          ]
        },
        {
          "output_type": "display_data",
          "data": {
            "text/plain": [
              "<PIL.Image.Image image mode=RGB size=64x64 at 0x7F0C39772190>"
            ],
            "image/png": "[encoded data removed]"
          },
          "metadata": {}
        },
        {
          "output_type": "stream",
          "name": "stderr",
          "text": [
            " 25%|██▌       | 5/20 [01:41<05:06, 20.46s/it]"
          ]
        },
        {
          "output_type": "display_data",
          "data": {
            "text/plain": [
              "<PIL.Image.Image image mode=RGB size=64x64 at 0x7F0C3948EF90>"
            ],
            "image/png": "[encoded data removed]"
          },
          "metadata": {}
        },
        {
          "output_type": "stream",
          "name": "stderr",
          "text": [
            " 50%|█████     | 10/20 [03:19<03:16, 19.70s/it]"
          ]
        },
        {
          "output_type": "display_data",
          "data": {
            "text/plain": [
              "<PIL.Image.Image image mode=RGB size=64x64 at 0x7F0DA536B650>"
            ],
            "image/png": "[encoded data removed]"
          },
          "metadata": {}
        },
        {
          "output_type": "stream",
          "name": "stderr",
          "text": [
            " 75%|███████▌  | 15/20 [04:54<01:35, 19.20s/it]"
          ]
        },
        {
          "output_type": "display_data",
          "data": {
            "text/plain": [
              "<PIL.Image.Image image mode=RGB size=64x64 at 0x7F0C397F6D90>"
            ],
            "image/png": "[encoded data removed]"
          },
          "metadata": {}
        },
        {
          "output_type": "stream",
          "name": "stderr",
          "text": [
            " 95%|█████████▌| 19/20 [06:17<00:20, 20.20s/it]"
          ]
        },
        {
          "output_type": "display_data",
          "data": {
            "text/plain": [
              "<PIL.Image.Image image mode=RGB size=64x64 at 0x7F0C3980C150>"
            ],
            "image/png": "[encoded data removed]"
          },
          "metadata": {}
        },
        {
          "output_type": "stream",
          "name": "stderr",
          "text": [
            "100%|██████████| 20/20 [06:37<00:00, 19.88s/it]\n"
          ]
        }
      ]
    },
    {
      "cell_type": "code",
      "source": [
        "plt.plot(gan.d_loss_real)"
      ],
      "metadata": {
        "colab": {
          "base_uri": "https://localhost:8080/",
          "height": 282
        },
        "id": "2M9tVUe33rmI",
        "outputId": "eb40caac-f8a9-44d2-bff5-0e9bb66ad48a"
      },
      "execution_count": 28,
      "outputs": [
        {
          "output_type": "execute_result",
          "data": {
            "text/plain": [
              "[<matplotlib.lines.Line2D at 0x7f0c39855950>]"
            ]
          },
          "metadata": {},
          "execution_count": 28
        },
        {
          "output_type": "display_data",
          "data": {
            "text/plain": [
              "<Figure size 432x288 with 1 Axes>"
            ],
            "image/png": "[encoded data removed]"
          },
          "metadata": {
            "needs_background": "light"
          }
        }
      ]
    },
    {
      "cell_type": "code",
      "source": [
        "plt.plot(gan.d_loss_fake)"
      ],
      "metadata": {
        "colab": {
          "base_uri": "https://localhost:8080/",
          "height": 282
        },
        "id": "XpL2RUU4ih-o",
        "outputId": "1cd9c0c9-4d86-4fc1-fa30-ca1c0e82bebf"
      },
      "execution_count": 27,
      "outputs": [
        {
          "output_type": "execute_result",
          "data": {
            "text/plain": [
              "[<matplotlib.lines.Line2D at 0x7f0c39871050>]"
            ]
          },
          "metadata": {},
          "execution_count": 27
        },
        {
          "output_type": "display_data",
          "data": {
            "text/plain": [
              "<Figure size 432x288 with 1 Axes>"
            ],
            "image/png": "[encoded data removed]"
          },
          "metadata": {
            "needs_background": "light"
          }
        }
      ]
    },
    {
      "cell_type": "code",
      "source": [
        "plt.plot(gan.g_loss)"
      ],
      "metadata": {
        "colab": {
          "base_uri": "https://localhost:8080/",
          "height": 282
        },
        "id": "Oy_l9LHLZsNH",
        "outputId": "8d99bc84-d8e0-4384-eb3e-aa1c4319925f"
      },
      "execution_count": 26,
      "outputs": [
        {
          "output_type": "execute_result",
          "data": {
            "text/plain": [
              "[<matplotlib.lines.Line2D at 0x7f0c39938a10>]"
            ]
          },
          "metadata": {},
          "execution_count": 26
        },
        {
          "output_type": "display_data",
          "data": {
            "text/plain": [
              "<Figure size 432x288 with 1 Axes>"
            ],
            "image/png": "[encoded data removed]"
          },
          "metadata": {
            "needs_background": "light"
          }
        }
      ]
    },
    {
      "cell_type": "markdown",
      "source": [
        "# Testing"
      ],
      "metadata": {
        "id": "v6D4BFmUzmel"
      }
    },
    {
      "cell_type": "code",
      "source": [
        "to_img = T.ToPILImage()\n",
        "\n",
        "real_img = to_img(train[100][0])\n",
        "display(real_img)\n",
        "\n",
        "gan.gen.eval()\n",
        "gan.dis.eval()\n",
        "\n",
        "out = gan.gen(torch.randn((64, 100)).to(DEVICE)).detach()\n",
        "\n",
        "mean = 0\n",
        "for i in Subset(train, range(64)):\n",
        "    a = gan.dis(i[0].view(-1, 3, 64, 64).to(DEVICE)).detach().item()\n",
        "    mean += a\n",
        "    \n",
        "mean /= 64\n",
        "print('real', mean)\n",
        "print('gen', gan.dis(out).detach().view(64).mean())\n",
        "gen_img = to_img(out[0].view(-1, 64, 64))\n",
        "display(gen_img)\n",
        "# dis(out)\n",
        "\n",
        "out = gan.gen(fixed.to(DEVICE)).detach()\n",
        "gen_img = to_img(out.view(-1, 64, 64))\n",
        "display(gen_img)"
      ],
      "metadata": {
        "colab": {
          "base_uri": "https://localhost:8080/",
          "height": 244
        },
        "id": "_McLSMZfYqBl",
        "outputId": "01b9adce-7581-429b-d8ba-4f86d35bb39b"
      },
      "execution_count": 65,
      "outputs": [
        {
          "output_type": "display_data",
          "data": {
            "text/plain": [
              "<PIL.Image.Image image mode=RGB size=64x64 at 0x7F0C393C13D0>"
            ],
            "image/png": "[encoded data removed]"
          },
          "metadata": {}
        },
        {
          "output_type": "stream",
          "name": "stdout",
          "text": [
            "real 0.3388707102276385\n",
            "gen tensor(0.3542, device='cuda:0')\n"
          ]
        },
        {
          "output_type": "display_data",
          "data": {
            "text/plain": [
              "<PIL.Image.Image image mode=RGB size=64x64 at 0x7F0C3988F2D0>"
            ],
            "image/png": "[encoded data removed]"
          },
          "metadata": {}
        },
        {
          "output_type": "display_data",
          "data": {
            "text/plain": [
              "<PIL.Image.Image image mode=RGB size=64x64 at 0x7F0D29524250>"
            ],
            "image/png": "[encoded data removed]"
          },
          "metadata": {}
        }
      ]
    }
  ]
}