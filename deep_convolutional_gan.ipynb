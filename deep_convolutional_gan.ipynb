{
  "nbformat": 4,
  "nbformat_minor": 0,
  "metadata": {
    "colab": {
      "provenance": [],
      "collapsed_sections": [],
      "authorship_tag": "ABX9TyO+OWY90br0Zpo9z8hcXH9u"
    },
    "kernelspec": {
      "name": "python3",
      "display_name": "Python 3"
    },
    "language_info": {
      "name": "python"
    }
  },
  "cells": [
    {
      "cell_type": "markdown",
      "source": [
        "# Unsupervised Representation Learning With Deep Convolutional Generative Adversial Networks\n",
        "* [paper](https://arxiv.org/pdf/1511.06434v2.pdf)"
      ],
      "metadata": {
        "id": "fbnU9ZrqM11F"
      }
    },
    {
      "cell_type": "code",
      "source": [
        "import torch\n",
        "import torch.nn as nn\n",
        "\n",
        "DEVICE = 'cuda' if torch.cuda.is_available() else 'cpu'"
      ],
      "metadata": {
        "id": "Rqi6eTlnR4Yb"
      },
      "execution_count": 43,
      "outputs": []
    },
    {
      "cell_type": "markdown",
      "source": [
        "# Network"
      ],
      "metadata": {
        "id": "vv4jK2VuR2ky"
      }
    },
    {
      "cell_type": "code",
      "execution_count": 42,
      "metadata": {
        "id": "_Uz53mceMwn_"
      },
      "outputs": [],
      "source": [
        "from typing import List\n",
        "\n",
        "# experimented with how i created network to have more flexibility based on \n",
        "# what i've seen with other code\n",
        "\n",
        "class DownsampleBlock(nn.Module):\n",
        "    def __init__(self, in_channels: int, out_channels: int, kernel_size: int=5, \n",
        "                 stride: int=2, padding: int=2):\n",
        "        super().__init__()\n",
        "        self.use_batchnorm = True\n",
        "        self.conv = nn.Conv2d(in_channels, out_channels, kernel_size, stride,\n",
        "                              padding)\n",
        "        self.bn = nn.BatchNorm2d(out_channels)\n",
        "        self.act = nn.LeakyReLU(.2)\n",
        "\n",
        "    def forward(self, X):\n",
        "        out = self.conv(X)\n",
        "        if self.use_batchnorm:\n",
        "            out = self.bn(out)\n",
        "        out = self.act(out)\n",
        "        return out\n",
        "\n",
        "class UpsampleBlock(nn.Module):\n",
        "    def __init__(self, in_channels: int, out_channels: int, \n",
        "                 kernel_size: int=5, stride: int=2, padding: int=2,\n",
        "                 out_padding: int=1):\n",
        "        super().__init__()\n",
        "        self.use_batchnorm = True\n",
        "        self.convT = nn.ConvTranspose2d(in_channels, out_channels, kernel_size,\n",
        "                                        stride, padding, out_padding)\n",
        "        self.bn = nn.BatchNorm2d(out_channels)\n",
        "        self.act = nn.ReLU()\n",
        "\n",
        "    def forward(self, X):\n",
        "        out = self.convT(X)\n",
        "        if self.use_batchnorm:\n",
        "            out = self.bn(out)\n",
        "        out = self.act(out)\n",
        "        return out\n",
        "\n",
        "class Generator(nn.Module):\n",
        "    def __init__(self, channel_sizes: List[int], z_dim: int=100,\n",
        "                 img_size: int=64):\n",
        "        super().__init__()\n",
        "        num_samples = len(channel_sizes)-1\n",
        "        # dimensions of input volume for upsampling network\n",
        "        # every time downsample, img_size halves\n",
        "        self.in_dim = img_size//(2**num_samples)\n",
        "        # depth of input volume for upsamling network\n",
        "        self.in_channels = channel_sizes[0]\n",
        "        # size of input volume to upsampling network flattend\n",
        "        flat_size = channel_sizes[0] * self.in_dim * self.in_dim\n",
        "        up_layers = []\n",
        "        for i in range(num_samples):\n",
        "            up_layers.append(UpsampleBlock(channel_sizes[i],\n",
        "                                           channel_sizes[i+1]))\n",
        "        self.img_size = img_size\n",
        "        # final layer no batchnorm and use Tanh activation\n",
        "        up_layers[-1].use_batchnorm = False\n",
        "        up_layers[-1].act = nn.Tanh()\n",
        "        self.upsample = nn.Sequential(*up_layers)\n",
        "        self.fc = nn.Sequential(\n",
        "            nn.Linear(z_dim, flat_size),\n",
        "            nn.ReLU()\n",
        "        )\n",
        "\n",
        "    def forward(self, z: torch.Tensor):\n",
        "        out = self.fc(z)\n",
        "        out = out.view(-1, self.in_channels, self.in_dim, self.in_dim)\n",
        "        out = self.upsample(out)\n",
        "        return out\n",
        "\n",
        "class Discriminator(nn.Module):\n",
        "    def __init__(self, channel_sizes: List[int], img_size: int=64):\n",
        "        super().__init__()\n",
        "        num_samples = len(channel_sizes)-1\n",
        "        # dimensions of output volume from downsampling network\n",
        "        # everytime downsample, img_size halves\n",
        "        out_dim = img_size//(2**num_samples)\n",
        "        # depth of output volume from downsampling network\n",
        "        out_channels = channel_sizes[-1]\n",
        "        # size of output volume from downsampling network flattend\n",
        "        flat_size = out_channels * out_dim * out_dim\n",
        "        down_layers = []\n",
        "        for i in range(num_samples):\n",
        "            down_layers.append(DownsampleBlock(channel_sizes[i],\n",
        "                                               channel_sizes[i+1]))\n",
        "        # no batchnorm on input layer\n",
        "        down_layers[0].use_batchnorm = False\n",
        "        self.downsample = nn.Sequential(*down_layers)\n",
        "        self.fc = nn.Sequential(\n",
        "            nn.Linear(flat_size, 1),\n",
        "            nn.Sigmoid()\n",
        "        )\n",
        "\n",
        "    def forward(self, X: torch.Tensor):\n",
        "        out = self.downsample(X)\n",
        "        out = torch.flatten(out, 1, 3)\n",
        "        out = self.fc(out)\n",
        "        return out"
      ]
    }
  ]
}