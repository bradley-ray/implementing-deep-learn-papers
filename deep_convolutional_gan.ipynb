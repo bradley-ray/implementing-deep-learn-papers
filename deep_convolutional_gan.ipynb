{
  "cells": [
    {
      "cell_type": "code",
      "execution_count": null,
      "metadata": {
        "id": "WQxdUwcv51Qo",
        "outputId": "0aeed82b-6eca-4988-9410-9def80f10bc7"
      },
      "outputs": [
        {
          "name": "stderr",
          "output_type": "stream",
          "text": [
            "/home/bradley/.local/lib/python3.9/site-packages/tqdm/auto.py:22: TqdmWarning: IProgress not found. Please update jupyter and ipywidgets. See https://ipywidgets.readthedocs.io/en/stable/user_install.html\n",
            "  from .autonotebook import tqdm as notebook_tqdm\n"
          ]
        }
      ],
      "source": [
        "import torch\n",
        "import torch.nn as nn\n",
        "import torchvision.transforms as T\n",
        "import torch.optim as optim\n",
        "\n",
        "import matplotlib.pyplot as plt\n",
        "\n",
        "from torchvision import datasets\n",
        "from torch.utils.data import DataLoader, Subset, Dataset\n",
        "\n",
        "from tqdm import tqdm\n",
        "from typing import List,Tuple\n",
        "\n",
        "\n",
        "DEVICE = 'cuda' if torch.cuda.is_available() else 'cpu'"
      ]
    },
    {
      "cell_type": "code",
      "execution_count": null,
      "metadata": {
        "id": "QYu8cAOX56pP"
      },
      "outputs": [],
      "source": [
        "ts = [T.ToTensor(), T.Resize((32, 32)), T.Normalize([0.5], [0.5])]\n",
        "mnist_train = datasets.MNIST(\n",
        "    root='dat',\n",
        "    train=True,\n",
        "    download=True,\n",
        "    transform=T.Compose(ts)\n",
        ")"
      ]
    },
    {
      "cell_type": "code",
      "execution_count": null,
      "metadata": {
        "id": "HxRCYuL86Hqm"
      },
      "outputs": [],
      "source": [
        "class Discriminator(nn.Module):\n",
        "    def __init__(self):\n",
        "        super(Discriminator, self).__init__()\n",
        "        self.dis = nn.Sequential(\n",
        "            nn.Conv2d(1, 128, 5, 2, 2),\n",
        "            nn.LeakyReLU(.2),\n",
        "\n",
        "            nn.Conv2d(128, 256, 5, 2, 2),\n",
        "            nn.BatchNorm2d(256),\n",
        "            nn.LeakyReLU(.2),\n",
        "\n",
        "            nn.Conv2d(256, 512, 5, 2, 2),\n",
        "            nn.BatchNorm2d(512),\n",
        "            nn.LeakyReLU(.2),\n",
        "\n",
        "            nn.Conv2d(512, 1024, 5, 2, 2),\n",
        "            nn.BatchNorm2d(1024),\n",
        "            nn.LeakyReLU(.2),\n",
        "\n",
        "            nn.Flatten(),\n",
        "            nn.Linear(2*2*1024, 1),\n",
        "            nn.Sigmoid()\n",
        "        )\n",
        "\n",
        "    def forward(self, X):\n",
        "        out = self.dis(X)\n",
        "        return out\n",
        "\n",
        "class Generator(nn.Module):\n",
        "    def __init__(self):\n",
        "        super(Generator, self).__init__()\n",
        "        self.gen = nn.Sequential(\n",
        "            nn.Linear(100, 2*2*1024),\n",
        "            nn.BatchNorm1d(2*2*1024),\n",
        "            nn.ReLU(),\n",
        "\n",
        "            nn.Unflatten(1, (1024, 2, 2)),\n",
        "            nn.ConvTranspose2d(1024, 512, 5, 2, 2, 1),\n",
        "            nn.BatchNorm2d(512),\n",
        "            nn.ReLU(),\n",
        "\n",
        "            nn.ConvTranspose2d(512, 256, 5, 2, 2, 1),\n",
        "            nn.BatchNorm2d(256),\n",
        "            nn.ReLU(),\n",
        "\n",
        "            nn.ConvTranspose2d(256, 128, 5, 2, 2, 1),\n",
        "            nn.BatchNorm2d(128),\n",
        "            nn.ReLU(),\n",
        "\n",
        "            nn.ConvTranspose2d(128, 1, 5, 2, 2, 1),\n",
        "            nn.Tanh(),\n",
        "        )\n",
        "\n",
        "    def forward(self, z):\n",
        "        out = self.gen(z)\n",
        "        return out"
      ]
    },
    {
      "cell_type": "code",
      "execution_count": null,
      "metadata": {
        "id": "Zx996GBl_b9m"
      },
      "outputs": [],
      "source": [
        "fixed = torch.randn([1, 100]).to(DEVICE)"
      ]
    },
    {
      "cell_type": "code",
      "execution_count": null,
      "metadata": {
        "id": "VxXmYvTU8vPK"
      },
      "outputs": [],
      "source": [
        "def train(gen, dis, opt_gen, opt_dis, dl, epochs):\n",
        "    bce = nn.BCELoss()\n",
        "\n",
        "    for i in tqdm(range(epochs)):\n",
        "        gen.train()\n",
        "        dis.train()\n",
        "        for j, (X, _) in enumerate(dl):\n",
        "            X = X.to(DEVICE)\n",
        "\n",
        "            \n",
        "            # train discriminator\n",
        "            # real batch\n",
        "            opt_dis.zero_grad()\n",
        "            out = dis(X)\n",
        "            real_label = torch.full_like(out, 1)\n",
        "            loss_real = bce(out, real_label)\n",
        "            loss_real.backward()\n",
        "            \n",
        "            l_real.append(loss_real.detach().cpu())\n",
        "            \n",
        "            z = torch.randn((X.shape[0], 100)).to(DEVICE)\n",
        "            fake_gen = gen(z)\n",
        "\n",
        "            # fake batch\n",
        "            out = dis(fake_gen.detach())\n",
        "            fake_label = torch.full_like(out, 0)\n",
        "            loss_fake = bce(out, fake_label)\n",
        "            loss_fake.backward()\n",
        "            opt_dis.step()\n",
        "            \n",
        "            l_fake.append(loss_fake.detach().cpu())\n",
        "            loss_dis = loss_real + loss_fake\n",
        "            l_dis.append(loss_dis.detach().cpu())\n",
        "\n",
        "            # train generator\n",
        "            opt_gen.zero_grad()\n",
        "            out = dis(fake_gen)\n",
        "            loss_gen = bce(out, real_label)\n",
        "            loss_gen.backward()\n",
        "            opt_gen.step()\n",
        "\n",
        "            l_gen.append(loss_gen.detach().cpu())\n",
        "        \n",
        "        # print updates\n",
        "        if i % 2 == 0:\n",
        "            to_img = T.ToPILImage()\n",
        "            gen.eval()\n",
        "            dis.eval()\n",
        "            out = gen(fixed)\n",
        "            print()\n",
        "            print(dis(out).item())\n",
        "            display(to_img(out.view(-1, 32, 32)))"
      ]
    },
    {
      "cell_type": "code",
      "execution_count": null,
      "metadata": {
        "id": "EsDPOiTiAU-0"
      },
      "outputs": [],
      "source": [
        "l_real = []\n",
        "l_fake = []\n",
        "l_dis = []\n",
        "l_gen = []\n",
        "\n",
        "gen = Generator().to(DEVICE)\n",
        "dis = Discriminator().to(DEVICE)\n",
        "\n",
        "opt_gen = optim.Adam(gen.parameters(), lr=2e-4, betas=(0.5,.999))\n",
        "opt_dis = optim.Adam(dis.parameters(), lr=2e-4, betas=(0.5,.999))\n",
        "\n",
        "if False:\n",
        "    dl = DataLoader(Subset(mnist_train, range(500)), batch_size=64, shuffle=True)\n",
        "elif False:\n",
        "    dl = DataLoader(Subset(mnist_train, range(5000)), batch_size=64, shuffle=True)\n",
        "else:\n",
        "    dl = DataLoader(mnist_train, batch_size=64, shuffle=True)"
      ]
    },
    {
      "cell_type": "code",
      "execution_count": null,
      "metadata": {
        "colab": {
          "base_uri": "https://localhost:8080/",
          "height": 514
        },
        "id": "WTZhtowECdmU",
        "outputId": "a0b50e86-b457-4672-c6cf-f34f076bd7f7"
      },
      "outputs": [
        {
          "name": "stderr",
          "output_type": "stream",
          "text": [
            "  0%|          | 0/10 [00:00<?, ?it/s]"
          ]
        },
        {
          "name": "stdout",
          "output_type": "stream",
          "text": [
            "\n",
            "0.1488572061061859\n"
          ]
        },
        {
          "data": {
            "image/png": "[encoded data removed]",
            "text/plain": [
              "<PIL.Image.Image image mode=L size=32x32>"
            ]
          },
          "metadata": {},
          "output_type": "display_data"
        },
        {
          "name": "stderr",
          "output_type": "stream",
          "text": [
            " 20%|██        | 2/10 [11:02<44:07, 330.93s/it]"
          ]
        },
        {
          "name": "stdout",
          "output_type": "stream",
          "text": [
            "\n",
            "0.027157967910170555\n"
          ]
        },
        {
          "data": {
            "image/png": "[encoded data removed]",
            "text/plain": [
              "<PIL.Image.Image image mode=L size=32x32>"
            ]
          },
          "metadata": {},
          "output_type": "display_data"
        },
        {
          "name": "stderr",
          "output_type": "stream",
          "text": [
            " 40%|████      | 4/10 [22:00<32:57, 329.50s/it]"
          ]
        },
        {
          "name": "stdout",
          "output_type": "stream",
          "text": [
            "\n",
            "0.192057803273201\n"
          ]
        },
        {
          "data": {
            "image/png": "[encoded data removed]",
            "text/plain": [
              "<PIL.Image.Image image mode=L size=32x32>"
            ]
          },
          "metadata": {},
          "output_type": "display_data"
        },
        {
          "name": "stderr",
          "output_type": "stream",
          "text": [
            " 60%|██████    | 6/10 [32:57<21:55, 328.97s/it]"
          ]
        },
        {
          "name": "stdout",
          "output_type": "stream",
          "text": [
            "\n",
            "0.07435236126184464\n"
          ]
        },
        {
          "data": {
            "image/png": "[encoded data removed]",
            "text/plain": [
              "<PIL.Image.Image image mode=L size=32x32>"
            ]
          },
          "metadata": {},
          "output_type": "display_data"
        },
        {
          "name": "stderr",
          "output_type": "stream",
          "text": [
            " 80%|████████  | 8/10 [43:55<10:57, 328.88s/it]"
          ]
        },
        {
          "name": "stdout",
          "output_type": "stream",
          "text": [
            "\n",
            "0.06834069639444351\n"
          ]
        },
        {
          "data": {
            "image/png": "[encoded data removed]",
            "text/plain": [
              "<PIL.Image.Image image mode=L size=32x32>"
            ]
          },
          "metadata": {},
          "output_type": "display_data"
        },
        {
          "name": "stderr",
          "output_type": "stream",
          "text": [
            "100%|██████████| 10/10 [54:55<00:00, 329.55s/it]\n"
          ]
        }
      ],
      "source": [
        "train(\n",
        "    gen,\n",
        "    dis,\n",
        "    opt_gen,\n",
        "    opt_dis,\n",
        "    dl,\n",
        "    10,\n",
        ")"
      ]
    },
    {
      "cell_type": "code",
      "execution_count": null,
      "metadata": {
        "id": "yBMjrdW65V5f"
      },
      "outputs": [],
      "source": [
        "torch.save(gen.state_dict(), 'gen.pth')\n",
        "torch.save(dis.state_dict(), 'dis.pth')"
      ]
    },
    {
      "cell_type": "code",
      "execution_count": null,
      "metadata": {
        "colab": {
          "base_uri": "https://localhost:8080/",
          "height": 282
        },
        "id": "KcWj9oDlGFUK",
        "outputId": "3062eafe-c600-4d44-d4ea-04a2c0fa9320"
      },
      "outputs": [
        {
          "data": {
            "text/plain": [
              "[<matplotlib.lines.Line2D at 0x7fccb39e6a60>]"
            ]
          },
          "execution_count": 396,
          "metadata": {},
          "output_type": "execute_result"
        },
        {
          "data": {
            "image/png": "[encoded data removed]",
            "text/plain": [
              "<Figure size 432x288 with 1 Axes>"
            ]
          },
          "metadata": {
            "needs_background": "light"
          },
          "output_type": "display_data"
        }
      ],
      "source": [
        "plt.plot(l_gen)"
      ]
    },
    {
      "cell_type": "code",
      "execution_count": null,
      "metadata": {
        "id": "KBtBu0iN5V5g",
        "outputId": "3accb3dc-7466-4262-859d-78294b1183cd"
      },
      "outputs": [
        {
          "data": {
            "text/plain": [
              "[<matplotlib.lines.Line2D at 0x7fccb3bcb7f0>]"
            ]
          },
          "execution_count": 397,
          "metadata": {},
          "output_type": "execute_result"
        },
        {
          "data": {
            "image/png": "[encoded data removed]",
            "text/plain": [
              "<Figure size 432x288 with 1 Axes>"
            ]
          },
          "metadata": {
            "needs_background": "light"
          },
          "output_type": "display_data"
        }
      ],
      "source": [
        "plt.plot(l_dis)"
      ]
    },
    {
      "cell_type": "code",
      "execution_count": null,
      "metadata": {
        "id": "klIg5j-Y5V5g",
        "outputId": "9d0ede3a-4f5f-4455-ec9d-57c787429ab8"
      },
      "outputs": [
        {
          "data": {
            "image/png": "[encoded data removed]",
            "text/plain": [
              "<PIL.Image.Image image mode=L size=32x32>"
            ]
          },
          "metadata": {},
          "output_type": "display_data"
        },
        {
          "name": "stdout",
          "output_type": "stream",
          "text": [
            "tensor([[0.1729]], device='cuda:0', grad_fn=<SigmoidBackward0>)\n"
          ]
        }
      ],
      "source": [
        "z = torch.randn((1, 100)).to(DEVICE)\n",
        "gen.eval()\n",
        "img = gen(z).view(-1, 32, 32)\n",
        "display(T.ToPILImage()(img))\n",
        "\n",
        "dis.eval()\n",
        "print(dis(gen(z)))"
      ]
    },
    {
      "cell_type": "code",
      "execution_count": null,
      "metadata": {
        "id": "9SW4rzfl5V5h",
        "outputId": "5c199345-1c20-45b3-debe-04f0760e80a6"
      },
      "outputs": [
        {
          "data": {
            "image/png": "[encoded data removed]",
            "text/plain": [
              "<PIL.Image.Image image mode=L size=32x32>"
            ]
          },
          "metadata": {},
          "output_type": "display_data"
        }
      ],
      "source": [
        "display(T.ToPILImage()(gen(fixed).view(-1, 32, 32)))"
      ]
    }
  ],
  "metadata": {
    "accelerator": "GPU",
    "colab": {
      "collapsed_sections": [],
      "provenance": []
    },
    "kernelspec": {
      "display_name": "Python 3.9.12 ('base')",
      "language": "python",
      "name": "python3"
    },
    "language_info": {
      "codemirror_mode": {
        "name": "ipython",
        "version": 3
      },
      "file_extension": ".py",
      "mimetype": "text/x-python",
      "name": "python",
      "nbconvert_exporter": "python",
      "pygments_lexer": "ipython3",
      "version": "3.9.12"
    },
    "vscode": {
      "interpreter": {
        "hash": "ef56069535830057fa586f6d9e77e62372c22ce36e7ccc2183387fa2f65d7a27"
      }
    }
  },
  "nbformat": 4,
  "nbformat_minor": 0
}