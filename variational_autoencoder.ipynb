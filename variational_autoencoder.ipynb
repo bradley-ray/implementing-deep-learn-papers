{
  "nbformat": 4,
  "nbformat_minor": 0,
  "metadata": {
    "colab": {
      "provenance": [],
      "collapsed_sections": [],
      "authorship_tag": "ABX9TyNFMmFsn6FKBN7Glb+mG2rW"
    },
    "kernelspec": {
      "name": "python3",
      "display_name": "Python 3"
    },
    "language_info": {
      "name": "python"
    }
  },
  "cells": [
    {
      "cell_type": "markdown",
      "source": [
        "# Variational Autoencoder\n",
        "* paper: [Auto-Encoding Variational Bayes](https://arxiv.org/abs/1312.6114)\n",
        "\n",
        "## Implementation Details\n",
        "* **Training Data**: `FGVC-Aircraft`\n",
        "* **Goal**: Generate Random New Image of Aircraft\n",
        "* **Encoder Layers**: *in progress*\n",
        "* **Decoder Layers**: *in progress*"
      ],
      "metadata": {
        "id": "jRJSvkVfnOeK"
      }
    }
  ]
}