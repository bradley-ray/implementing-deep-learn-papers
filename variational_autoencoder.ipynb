{
  "nbformat": 4,
  "nbformat_minor": 0,
  "metadata": {
    "colab": {
      "provenance": [],
      "collapsed_sections": [
        "jRJSvkVfnOeK",
        "FlNq52FUDyrL"
      ],
      "authorship_tag": "ABX9TyMTVWzoAsBHmLTmF47FijXH"
    },
    "kernelspec": {
      "name": "python3",
      "display_name": "Python 3"
    },
    "language_info": {
      "name": "python"
    },
    "accelerator": "GPU",
    "gpuClass": "standard"
  },
  "cells": [
    {
      "cell_type": "markdown",
      "source": [
        "# Variational Autoencoder\n",
        "* paper: [Auto-Encoding Variational Bayes](https://arxiv.org/abs/1312.6114)\n",
        "\n",
        "## Implementation Details\n",
        "* **Training Data**: `FGVC-Aircraft`\n",
        "* **Goal**: Generate Random New Image of Aircraft\n",
        "* **Encoder Layers**: *in progress*\n",
        "* **Decoder Layers**: *in progress*\n",
        "\n",
        "## Notes\n",
        "* currently images still very noisy and not very good\n",
        "    - will do more research and return to try to improve"
      ],
      "metadata": {
        "id": "jRJSvkVfnOeK"
      }
    },
    {
      "cell_type": "code",
      "source": [
        "import torch"
      ],
      "metadata": {
        "id": "_WDuJyvIhFg9"
      },
      "execution_count": 126,
      "outputs": []
    },
    {
      "cell_type": "markdown",
      "source": [
        "# Network"
      ],
      "metadata": {
        "id": "FlNq52FUDyrL"
      }
    },
    {
      "cell_type": "code",
      "source": [
        "import torch.nn as nn\n",
        "\n",
        "# TODO: right now sizes hardcoded, need paramters to control dimensions instead\n",
        "# TODO: experiment in training with different variations of current model\n",
        "\n",
        "class Encoder(nn.Module):\n",
        "    def __init__(self, img_channels, z_dim, flat_size):\n",
        "        super().__init__()\n",
        "        self.f = nn.Sequential(\n",
        "            nn.Conv2d(img_channels, 32, 6, 2),\n",
        "            nn.LeakyReLU(0.2),\n",
        "            nn.Conv2d(32, 64, 6),\n",
        "            nn.BatchNorm2d(64),\n",
        "            nn.LeakyReLU(0.2),\n",
        "            nn.Conv2d(64, 64, 3),\n",
        "            nn.BatchNorm2d(64),\n",
        "            nn.LeakyReLU(0.2),\n",
        "        )\n",
        "        self.mu = nn.Linear(flat_size, z_dim)\n",
        "        # # TODO: need to experiment with this more\n",
        "        # self.log_sigma = nn.Linear(flat_size, z_dim)\n",
        "        # seems to sort of help with image noise by limiting variance\n",
        "        self.log_sigma = nn.Sequential(\n",
        "            nn.Linear(flat_size, z_dim),\n",
        "            nn.Tanh()\n",
        "        )\n",
        "\n",
        "    def forward(self, X):\n",
        "        f = self.f(X)\n",
        "        flat = torch.flatten(f, 1, 3)\n",
        "        mean = self.mu(flat)\n",
        "        log_var = self.log_sigma(flat)\n",
        "        return mean, log_var\n",
        "\n",
        "class Decoder(nn.Module):\n",
        "    def __init__(self, img_channels, z_dim, flat_size):\n",
        "        super().__init__()\n",
        "        self.start = nn.Sequential(\n",
        "            nn.Linear(z_dim, flat_size),\n",
        "            nn.BatchNorm1d(flat_size),\n",
        "            nn.LeakyReLU(0.2),\n",
        "        )\n",
        "        self.f = nn.Sequential(\n",
        "            nn.ConvTranspose2d(64, 64, 3),\n",
        "            nn.BatchNorm2d(64),\n",
        "            nn.LeakyReLU(0.2),\n",
        "            nn.ConvTranspose2d(64, 32, 6),\n",
        "            nn.BatchNorm2d(32),\n",
        "            nn.LeakyReLU(0.2),\n",
        "            nn.ConvTranspose2d(32, img_channels, 6, 2)\n",
        "        )\n",
        "    \n",
        "    def forward(self, z, flat_size):\n",
        "        size = int((flat_size//64)**0.5)\n",
        "        start = self.start(z)\n",
        "        out = self.f(start.view(-1, 64, size, size))\n",
        "        return out\n",
        "\n",
        "\n",
        "class VAE(nn.Module):\n",
        "    def __init__(self, img_channels, z_dim, flat_size):\n",
        "        super().__init__()\n",
        "        self.flat_size = flat_size\n",
        "        self.enc = Encoder(img_channels, z_dim, flat_size)\n",
        "        self.dec = Decoder(img_channels, z_dim, flat_size)\n",
        "\n",
        "    def forward(self, X):\n",
        "        mu, log_sig = self.enc(X)\n",
        "        z = get_sample(mu, log_sig)\n",
        "        out = self.dec(z, self.flat_size)\n",
        "        return out, mu, log_sig"
      ],
      "metadata": {
        "id": "0UEvpo3v8nVM"
      },
      "execution_count": 349,
      "outputs": []
    },
    {
      "cell_type": "markdown",
      "source": [
        "# Getting Dataset"
      ],
      "metadata": {
        "id": "DEERLyc2C2iT"
      }
    },
    {
      "cell_type": "code",
      "source": [
        "from torchvision import datasets\n",
        "import torchvision.transforms as transforms\n",
        "size = (64, 64)\n",
        "train = datasets.FGVCAircraft(\n",
        "    root = 'data',\n",
        "    split = 'train',\n",
        "    download = True,\n",
        "    transform = transforms.Compose([transforms.ToTensor(), \n",
        "                                    transforms.Resize(size)])\n",
        ")\n",
        "\n",
        "test = datasets.FGVCAircraft(\n",
        "    root = 'data',\n",
        "    split = 'test',\n",
        "    download = True,\n",
        "    transform = transforms.Compose([transforms.ToTensor(), \n",
        "                                    transforms.Resize(size)])\n",
        ")"
      ],
      "metadata": {
        "id": "jpGmzHJW8xgV"
      },
      "execution_count": 345,
      "outputs": []
    },
    {
      "cell_type": "code",
      "source": [
        "from torch.utils.data import DataLoader, Subset\n",
        "\n",
        "def create_dataloaders(train_data: torch.Tensor, test_data: torch.Tensor, bs: int = 64):\n",
        "    train_loader = DataLoader(train_data, batch_size=bs, shuffle=True)\n",
        "    test_loader = DataLoader(test_data, batch_size=bs, shuffle=True)\n",
        "    return train_loader, test_loader\n",
        "\n",
        "subset = False\n",
        "train_loader = None\n",
        "test_loader = None\n",
        "\n",
        "# TODO: train using all of training images\n",
        "# wanna wait until i feel a bit better about core model results\n",
        "if subset:\n",
        "    # train and test on small subset of data for now.\n",
        "    train_ = Subset(train, range(750))\n",
        "    train_loader, test_loader = create_dataloaders(train_, test, bs=64)\n",
        "\n",
        "else:\n",
        "    train_loader, test_loader = create_dataloaders(train, test, bs=64)\n",
        "\n",
        "len(train_loader) * 64"
      ],
      "metadata": {
        "id": "kDNVpkSVA6qo",
        "colab": {
          "base_uri": "https://localhost:8080/"
        },
        "outputId": "98b5f364-b8ea-49f6-912f-22f5b0f651b3"
      },
      "execution_count": 477,
      "outputs": [
        {
          "output_type": "execute_result",
          "data": {
            "text/plain": [
              "3392"
            ]
          },
          "metadata": {},
          "execution_count": 477
        }
      ]
    },
    {
      "cell_type": "markdown",
      "source": [
        "# Train"
      ],
      "metadata": {
        "id": "AuEGrNgADANa"
      }
    },
    {
      "cell_type": "code",
      "source": [
        "def kl_loss(mean: torch.Tensor, log_var: torch.Tensor):\n",
        "    # paper uses sum, but wasn't really capturing variance of imgs\n",
        "    # some things online suggested balacing issue between kl loss and other loss\n",
        "    \n",
        "    # using mean seemed to give \"better\" results. \n",
        "\n",
        "    # TODO: investigate the issue mentioned above more\n",
        "    return -0.5 * torch.mean(1 + log_var - mean.pow(2) - log_var.exp())"
      ],
      "metadata": {
        "id": "JNN9Cd30QW_U"
      },
      "execution_count": 350,
      "outputs": []
    },
    {
      "cell_type": "code",
      "source": [
        "def get_sample(mean: torch.Tensor, log_var: torch.Tensor):\n",
        "    e = torch.randn_like(mean)\n",
        "    var = torch.exp(log_var/2)\n",
        "    return mean + var*e"
      ],
      "metadata": {
        "id": "CkpTaCr1Row4"
      },
      "execution_count": 351,
      "outputs": []
    },
    {
      "cell_type": "code",
      "source": [
        "import torch.optim as optim\n",
        "from tqdm import tqdm\n",
        "\n",
        "device = 'cuda'\n",
        "\n",
        "kl_losses = []\n",
        "mse_losses = []\n",
        "vae = VAE(img_channels=3, z_dim=128, flat_size=64*23*23).to(device)"
      ],
      "metadata": {
        "id": "7NCICPS9iDfr"
      },
      "execution_count": 424,
      "outputs": []
    },
    {
      "cell_type": "code",
      "source": [
        "def train_model(model: nn.Module, train_loader: DataLoader, bs: int = 64, epochs: int = 10, device: str = 'cpu'):\n",
        "    model.train()\n",
        "    # TODO: Read Adam paper\n",
        "    opt = optim.Adam(vae.parameters(), betas=(0.5, 0.99), lr=0.0003)\n",
        "    for i in tqdm(range(epochs)):\n",
        "        for batch, (X, _) in enumerate(train_loader):\n",
        "            # train\n",
        "            opt.zero_grad()\n",
        "\n",
        "            X = X.to(device)\n",
        "            out, mean, log_var = model(X)\n",
        "\n",
        "            # TODO: investigate why vanishing loss\n",
        "            # TODO: read b-vae paper\n",
        "            # scale = i / 50\n",
        "            kl = kl_loss(mean, log_var)\n",
        "            # mse = nn.MSELoss()(out, X)\n",
        "            # scaling the mean error seems to improve results a lot\n",
        "            mse = 100*nn.MSELoss()(out, X)\n",
        "            loss = kl + mse\n",
        "            loss.backward()\n",
        "  \n",
        "            kl_losses.append(kl)\n",
        "            mse_losses.append(mse)\n",
        "\n",
        "            opt.step()"
      ],
      "metadata": {
        "id": "Q05ap0IgBhdr"
      },
      "execution_count": 422,
      "outputs": []
    },
    {
      "cell_type": "code",
      "source": [
        "train_model(vae, train_loader, epochs=50, device=device)"
      ],
      "metadata": {
        "colab": {
          "base_uri": "https://localhost:8080/"
        },
        "id": "Q-jY9aNYBh6T",
        "outputId": "f30c0c52-f217-422e-c1e0-dbbb041a2327"
      },
      "execution_count": 425,
      "outputs": [
        {
          "output_type": "stream",
          "name": "stderr",
          "text": [
            "100%|██████████| 50/50 [1:12:27<00:00, 86.96s/it]\n"
          ]
        }
      ]
    },
    {
      "cell_type": "code",
      "source": [
        "torch.save(vae.state_dict(), './model.pth')"
      ],
      "metadata": {
        "id": "ZQA9kP73cLrK"
      },
      "execution_count": 385,
      "outputs": []
    },
    {
      "cell_type": "code",
      "source": [
        "!du -h -d 0 ./model.pth"
      ],
      "metadata": {
        "colab": {
          "base_uri": "https://localhost:8080/"
        },
        "id": "rc5mQEUx9Pnq",
        "outputId": "faaeb0bb-9ad8-4ce0-b89a-f83e46e76b6d"
      },
      "execution_count": 386,
      "outputs": [
        {
          "output_type": "stream",
          "name": "stdout",
          "text": [
            "52M\t./model.pth\n"
          ]
        }
      ]
    },
    {
      "cell_type": "markdown",
      "source": [
        "## Model Losses"
      ],
      "metadata": {
        "id": "0n4Vg9dvxz6m"
      }
    },
    {
      "cell_type": "code",
      "source": [
        "losses = list(map(lambda x: x.cpu().detach().numpy(), kl_losses))\n",
        "plt.plot(losses)"
      ],
      "metadata": {
        "colab": {
          "base_uri": "https://localhost:8080/",
          "height": 282
        },
        "id": "gUvx66OCcEls",
        "outputId": "aa695313-f80b-438a-a731-84ab752c51a3"
      },
      "execution_count": 427,
      "outputs": [
        {
          "output_type": "execute_result",
          "data": {
            "text/plain": [
              "[<matplotlib.lines.Line2D at 0x7f58d04fcf50>]"
            ]
          },
          "metadata": {},
          "execution_count": 427
        },
        {
          "output_type": "display_data",
          "data": {
            "text/plain": [
              "<Figure size 432x288 with 1 Axes>"
            ],
            "image/png": "[encoded data removed]"
          },
          "metadata": {
            "needs_background": "light"
          }
        }
      ]
    },
    {
      "cell_type": "markdown",
      "source": [
        "# Test"
      ],
      "metadata": {
        "id": "posDj5_SDEr7"
      }
    },
    {
      "cell_type": "markdown",
      "source": [
        "## Model Outputs"
      ],
      "metadata": {
        "id": "fcsp2iM-xs_k"
      }
    },
    {
      "cell_type": "code",
      "source": [
        "from PIL import Image\n",
        "from random import randint\n",
        "\n",
        "def to_image(inp, channels=3, size=(64,64), resize=True):\n",
        "    ts = [transforms.ToPILImage(), transforms.Resize((256, 256))]\n",
        "    \n",
        "    t = transforms.ToPILImage() if not resize else transforms.Compose(ts)\n",
        "    return t(inp.view(channels, size[0], size[1]))\n",
        "\n",
        "\n",
        "'''\n",
        "NOTE TO SELF:\n",
        "\n",
        "* Make sure are using trained model for testing so you don't waste 5 hrs of your\n",
        "  life again wondering why model is spitting out random noise and realize you're\n",
        "  an idiot\n",
        "'''\n",
        "\n",
        "# data info\n",
        "data = test\n",
        "img_num = randint(0, len(data))\n",
        "reference = data[img_num][0]\n",
        "channels = reference.shape[0]\n",
        "size = (reference.shape[1],reference.shape[2])\n",
        "\n",
        "print(img_num)\n",
        "\n",
        "# decoded image\n",
        "vae.eval()\n",
        "out, mu, log_sigma = vae(reference.view(1, channels, size[0], size[1]).to('cuda'))\n",
        "img = to_image(out, size=size, resize=False)\n",
        "display(img)\n",
        "\n",
        "# true image\n",
        "img = to_image(reference, size=size, resize=False)\n",
        "display(img)"
      ],
      "metadata": {
        "colab": {
          "base_uri": "https://localhost:8080/",
          "height": 162
        },
        "id": "xvWCA7DQZJWh",
        "outputId": "3f824586-68cc-4d82-8f36-1d6ea0a6cdf1"
      },
      "execution_count": 761,
      "outputs": [
        {
          "output_type": "stream",
          "name": "stdout",
          "text": [
            "170\n"
          ]
        },
        {
          "output_type": "display_data",
          "data": {
            "text/plain": [
              "<PIL.Image.Image image mode=RGB size=64x64 at 0x7F58D02E9210>"
            ],
            "image/png": "[encoded data removed]"
          },
          "metadata": {}
        },
        {
          "output_type": "display_data",
          "data": {
            "text/plain": [
              "<PIL.Image.Image image mode=RGB size=64x64 at 0x7F58D02E9D10>"
            ],
            "image/png": "[encoded data removed]"
          },
          "metadata": {}
        }
      ]
    },
    {
      "cell_type": "code",
      "source": [
        "# z = get_sample(mu, log_sigma)\n",
        "z = torch.randn_like(mu)\n",
        "dec = vae.dec\n",
        "out = dec(z, 64*23*23)\n",
        "img = to_image(out, resize=False)\n",
        "img"
      ],
      "metadata": {
        "colab": {
          "base_uri": "https://localhost:8080/",
          "height": 81
        },
        "id": "mp6Q5EgYRC8T",
        "outputId": "9ff3b4d3-0de6-4060-af6f-a8cbc30e63df"
      },
      "execution_count": 779,
      "outputs": [
        {
          "output_type": "execute_result",
          "data": {
            "text/plain": [
              "<PIL.Image.Image image mode=RGB size=64x64 at 0x7F58D02F6C50>"
            ],
            "image/png": "[encoded data removed]"
          },
          "metadata": {},
          "execution_count": 779
        }
      ]
    },
    {
      "cell_type": "code",
      "source": [
        "import matplotlib.pyplot as plt\n",
        "plt.imshow(out[0][0].cpu().detach().numpy())"
      ],
      "metadata": {
        "colab": {
          "base_uri": "https://localhost:8080/",
          "height": 285
        },
        "id": "JKi6O0KfgzUQ",
        "outputId": "0de87110-d215-414c-927e-7cc390061cec"
      },
      "execution_count": 780,
      "outputs": [
        {
          "output_type": "execute_result",
          "data": {
            "text/plain": [
              "<matplotlib.image.AxesImage at 0x7f58d0287610>"
            ]
          },
          "metadata": {},
          "execution_count": 780
        },
        {
          "output_type": "display_data",
          "data": {
            "text/plain": [
              "<Figure size 432x288 with 1 Axes>"
            ],
            "image/png": "[encoded data removed]"
          },
          "metadata": {
            "needs_background": "light"
          }
        }
      ]
    }
  ]
}