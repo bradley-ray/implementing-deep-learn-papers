{
  "cells": [
    {
      "cell_type": "markdown",
      "metadata": {
        "id": "jRJSvkVfnOeK"
      },
      "source": [
        "# Variational Autoencoder\n",
        "* paper: [Auto-Encoding Variational Bayes](https://arxiv.org/abs/1312.6114)\n",
        "\n",
        "## Implementation Details\n",
        "* **Training Data**: `FGVC-Aircraft`\n",
        "* **Goal**: Generate Random New Image of Aircraft\n",
        "* **Encoder Layers**: *in progress*\n",
        "* **Decoder Layers**: *in progress*\n",
        "\n",
        "## Notes\n",
        "* currently images still very noisy and not very good\n",
        "    - will do more research and return to try to improve"
      ]
    },
    {
      "cell_type": "code",
      "execution_count": null,
      "metadata": {
        "id": "_WDuJyvIhFg9"
      },
      "outputs": [],
      "source": [
        "import torch\n",
        "import torch.nn as nn"
      ]
    },
    {
      "cell_type": "markdown",
      "metadata": {
        "id": "FlNq52FUDyrL"
      },
      "source": [
        "# Network"
      ]
    },
    {
      "cell_type": "code",
      "execution_count": null,
      "metadata": {
        "id": "dAKm5QnUuBhA"
      },
      "outputs": [],
      "source": [
        "from typing import List\n",
        "\n",
        "class DownsampleBlock(nn.Module):\n",
        "    def __init__(self, in_channels: int, out_channels: int, kernel_size: int=5, \n",
        "                 stride: int=2, padding: int=2):\n",
        "        super().__init__()\n",
        "        self.use_batchnorm = True\n",
        "        self.conv = nn.Conv2d(in_channels, out_channels, kernel_size, stride,\n",
        "                              padding)\n",
        "        self.bn = nn.BatchNorm2d(out_channels)\n",
        "        self.act = nn.LeakyReLU(.2)\n",
        "\n",
        "    def forward(self, X):\n",
        "        out = self.conv(X)\n",
        "        if self.use_batchnorm:\n",
        "            out = self.bn(out)\n",
        "        out = self.act(out)\n",
        "        return out\n",
        "\n",
        "class UpsampleBlock(nn.Module):\n",
        "    def __init__(self, in_channels: int, out_channels: int, kernel_size: int=5,\n",
        "                 stride: int=2, padding: int=2, out_padding: int=1):\n",
        "        super().__init__()\n",
        "        self.use_batchnorm = True\n",
        "        self.convT = nn.ConvTranspose2d(in_channels, out_channels, kernel_size,\n",
        "                                        stride, padding, out_padding)\n",
        "        self.bn = nn.BatchNorm2d(out_channels)\n",
        "        self.act = nn.LeakyReLU(.2)\n",
        "\n",
        "    def forward(self, X):\n",
        "        out = self.convT(X)\n",
        "        if self.use_batchnorm:\n",
        "            out = self.bn(out)\n",
        "        out = self.act(out)\n",
        "        return out\n",
        "\n",
        "class Decoder(nn.Module):\n",
        "    def __init__(self, channel_sizes: List[int], img_size: int=64, \n",
        "                 z_dim: int=512):\n",
        "        super().__init__()\n",
        "        num_samples = len(channel_sizes)-1\n",
        "        self.in_dim = img_size//(2**num_samples)\n",
        "        self.in_depth = channel_sizes[0]\n",
        "        flat_size = self.in_depth * self.in_dim * self.in_dim\n",
        "        up_layers = []\n",
        "        for i in range(num_samples):\n",
        "            up_layers.append(UpsampleBlock(channel_sizes[i],\n",
        "                                               channel_sizes[i+1]))\n",
        "        # Tanh on output layer\n",
        "        up_layers[-1].act = nn.Tanh()\n",
        "        self.upsample = nn.Sequential(*up_layers)\n",
        "        self.fc = nn.Sequential(\n",
        "            nn.Linear(z_dim, flat_size),\n",
        "            nn.LeakyReLU(0.2),\n",
        "        )\n",
        "\n",
        "    def forward(self, z):\n",
        "        out = self.fc(z)\n",
        "        out = out.view(-1, self.in_depth, self.in_dim, self.in_dim)\n",
        "        out= self.upsample(out)\n",
        "        return out\n",
        "\n",
        "class Encoder(nn.Module):\n",
        "    def __init__(self, channel_sizes: List[int], img_size: int=64, \n",
        "                 z_dim: int=512):\n",
        "        super().__init__()\n",
        "        num_samples = len(channel_sizes)-1\n",
        "        self.out_dim = img_size//(2**num_samples)\n",
        "        self.out_depth = channel_sizes[-1]\n",
        "        flat_size = self.out_depth * self.out_dim * self.out_dim\n",
        "        down_layers = []\n",
        "        for i in range(num_samples):\n",
        "            down_layers.append(DownsampleBlock(channel_sizes[i],\n",
        "                                               channel_sizes[i+1]))\n",
        "        self.downsample = nn.Sequential(*down_layers)\n",
        "        self.mean = nn.Linear(flat_size, z_dim)\n",
        "        # TODO: need to experiment with this more\n",
        "        # seems to sort of help with image noise by limiting variance\n",
        "        self.logvar = nn.Sequential(\n",
        "            nn.Linear(flat_size, z_dim),\n",
        "            nn.Tanh()\n",
        "        )\n",
        "    \n",
        "    def forward(self, X):\n",
        "        out = self.downsample(X)\n",
        "        out = torch.flatten(out, 1, 3)\n",
        "        mean = self.mean(out)\n",
        "        logvar = self.logvar(out)\n",
        "        return mean, logvar\n",
        "\n",
        "class VAE(nn.Module):\n",
        "    def __init__(self, channel_sizes: List[int], img_size: int=64,\n",
        "                 z_dim: int=512, device: str='cuda'):\n",
        "        super().__init__()\n",
        "        self.device = device\n",
        "        self.enc = Encoder(channel_sizes, img_size, z_dim)\n",
        "        self.dec = Decoder(channel_sizes[::-1], img_size)\n",
        "\n",
        "    def sample(self, mean, logvar):\n",
        "        var = torch.exp(logvar/2)\n",
        "        return mean + var * torch.randn_like(logvar).to(self.device)\n",
        "\n",
        "    def forward(self, X):\n",
        "        mean, logvar = self.enc(X)\n",
        "        sample = self.sample(mean, logvar)\n",
        "        out = self.dec(sample)\n",
        "        return out, mean, logvar\n",
        "\n",
        "    def train_model(self):\n",
        "        ..."
      ]
    },
    {
      "cell_type": "markdown",
      "metadata": {
        "id": "DEERLyc2C2iT"
      },
      "source": [
        "# Getting Dataset"
      ]
    },
    {
      "cell_type": "code",
      "execution_count": null,
      "metadata": {
        "colab": {
          "base_uri": "https://localhost:8080/",
          "height": 105,
          "referenced_widgets": [
            "25493c3a11cc4ee9bb5846d62e3ccef2",
            "5fa36b5e3dd74df18b0fa481f38d9d1d",
            "cbf768fb440d4b24b5d5822b5e723c65",
            "104df80af9ab483cb9617c6d4aa53e15",
            "c45968b53f60424e9b840c1b2431c04c",
            "b52140cf280b45fa9ff421eeeb6f9be2",
            "1d1449b58d2946abb928a93ab93bb111",
            "4f566b511dd34452918eaaa4f2d4b23f",
            "b22a0c2889d44c98a18ad81b193ef744",
            "685e8b02f8124ead8a83512d2987f2c3",
            "0b8ca1f70ac14bc99fa282b136781ba2"
          ]
        },
        "id": "jpGmzHJW8xgV",
        "outputId": "9bfa3ac1-2157-469c-90f6-69498b8d48c9"
      },
      "outputs": [
        {
          "name": "stdout",
          "output_type": "stream",
          "text": [
            "Downloading https://www.robots.ox.ac.uk/~vgg/data/fgvc-aircraft/archives/fgvc-aircraft-2013b.tar.gz to data/fgvc-aircraft-2013b.tar.gz\n"
          ]
        },
        {
          "data": {
            "application/vnd.jupyter.widget-view+json": {
              "model_id": "25493c3a11cc4ee9bb5846d62e3ccef2",
              "version_major": 2,
              "version_minor": 0
            },
            "text/plain": [
              "  0%|          | 0/2753340328 [00:00<?, ?it/s]"
            ]
          },
          "metadata": {},
          "output_type": "display_data"
        },
        {
          "name": "stdout",
          "output_type": "stream",
          "text": [
            "Extracting data/fgvc-aircraft-2013b.tar.gz to data\n"
          ]
        }
      ],
      "source": [
        "from torchvision import datasets\n",
        "import torchvision.transforms as transforms\n",
        "size = (64, 64)\n",
        "train = datasets.FGVCAircraft(\n",
        "    root = 'data',\n",
        "    split = 'trainval',\n",
        "    download = True,\n",
        "    transform = transforms.Compose([transforms.ToTensor(), \n",
        "                                    transforms.Resize(size)])\n",
        ")\n",
        "\n",
        "test = datasets.FGVCAircraft(\n",
        "    root = 'data',\n",
        "    split = 'test',\n",
        "    download = True,\n",
        "    transform = transforms.Compose([transforms.ToTensor(), \n",
        "                                    transforms.Resize(size)])\n",
        ")"
      ]
    },
    {
      "cell_type": "code",
      "execution_count": null,
      "metadata": {
        "colab": {
          "base_uri": "https://localhost:8080/"
        },
        "id": "kDNVpkSVA6qo",
        "outputId": "cf2b44ac-7312-4c63-bcba-78d4507d0fa0"
      },
      "outputs": [
        {
          "data": {
            "text/plain": [
              "768"
            ]
          },
          "execution_count": 6,
          "metadata": {},
          "output_type": "execute_result"
        }
      ],
      "source": [
        "from torch.utils.data import DataLoader, Subset\n",
        "\n",
        "def create_dataloaders(train_data: torch.Tensor, test_data: torch.Tensor, bs: int = 64):\n",
        "    train_loader = DataLoader(train_data, batch_size=bs, shuffle=True)\n",
        "    test_loader = DataLoader(test_data, batch_size=bs, shuffle=True)\n",
        "    return train_loader, test_loader\n",
        "\n",
        "subset = True\n",
        "train_loader = None\n",
        "test_loader = None\n",
        "\n",
        "# TODO: train using all of training images\n",
        "# wanna wait until i feel a bit better about core model results\n",
        "if subset:\n",
        "    # train and test on small subset of data for now.\n",
        "    train_ = Subset(train, range(750))\n",
        "    train_loader, test_loader = create_dataloaders(train_, test, bs=64)\n",
        "\n",
        "else:\n",
        "    train_loader, test_loader = create_dataloaders(train, test, bs=64)\n",
        "\n",
        "len(train_loader) * 64"
      ]
    },
    {
      "cell_type": "markdown",
      "metadata": {
        "id": "AuEGrNgADANa"
      },
      "source": [
        "# Train"
      ]
    },
    {
      "cell_type": "code",
      "execution_count": null,
      "metadata": {
        "id": "JNN9Cd30QW_U"
      },
      "outputs": [],
      "source": [
        "def kl_loss(mean: torch.Tensor, log_var: torch.Tensor):\n",
        "    # paper uses sum, but wasn't really capturing variance of imgs\n",
        "    # some things online suggested balacing issue between kl loss and other loss\n",
        "    \n",
        "    # using mean seemed to give \"better\" results. \n",
        "\n",
        "    # TODO: investigate the issue mentioned above more\n",
        "    return -0.5 * torch.mean(1 + log_var - mean.pow(2) - log_var.exp())"
      ]
    },
    {
      "cell_type": "code",
      "execution_count": null,
      "metadata": {
        "id": "CkpTaCr1Row4"
      },
      "outputs": [],
      "source": [
        "def get_sample(mean: torch.Tensor, log_var: torch.Tensor):\n",
        "    e = torch.randn_like(mean)\n",
        "    var = torch.exp(log_var/2)\n",
        "    return mean + var*e"
      ]
    },
    {
      "cell_type": "code",
      "execution_count": null,
      "metadata": {
        "id": "7NCICPS9iDfr"
      },
      "outputs": [],
      "source": [
        "import torch.optim as optim\n",
        "from tqdm import tqdm\n",
        "\n",
        "device = 'cuda'\n",
        "\n",
        "kl_losses = []\n",
        "mse_losses = []\n",
        "channel_sizes = [3, 32, 64, 64]\n",
        "vae = VAE(channel_sizes).to(device)"
      ]
    },
    {
      "cell_type": "code",
      "execution_count": null,
      "metadata": {
        "id": "Q05ap0IgBhdr"
      },
      "outputs": [],
      "source": [
        "def train_model(model: nn.Module, train_loader: DataLoader, bs: int = 64, epochs: int = 10, device: str = 'cpu'):\n",
        "    model.train()\n",
        "    # TODO: Read Adam paper\n",
        "    opt = optim.Adam(vae.parameters(), betas=(0.2, 0.999), lr=0.0003)\n",
        "    for i in tqdm(range(epochs)):\n",
        "        for batch, (X, _) in enumerate(train_loader):\n",
        "            # train\n",
        "            opt.zero_grad()\n",
        "\n",
        "            X = X.to(device)\n",
        "            out, mean, log_var = model(X)\n",
        "\n",
        "            # TODO: investigate why vanishing loss\n",
        "            # TODO: read b-vae paper\n",
        "            # scale = i / 50\n",
        "            kl = kl_loss(mean, log_var)\n",
        "            # scaling the mean error seems to improve results a lot\n",
        "            mse = 100*nn.MSELoss()(out, X)\n",
        "            # mse = nn.MSELoss()(out, X)\n",
        "            loss = kl + mse\n",
        "            loss.backward()\n",
        "  \n",
        "            kl_losses.append(kl)\n",
        "            mse_losses.append(mse)\n",
        "\n",
        "            opt.step()"
      ]
    },
    {
      "cell_type": "code",
      "execution_count": null,
      "metadata": {
        "colab": {
          "background_save": true,
          "base_uri": "https://localhost:8080/"
        },
        "id": "Q-jY9aNYBh6T",
        "outputId": "2c0c2829-d255-40d4-8bf6-8acb9aa1d720"
      },
      "outputs": [
        {
          "name": "stderr",
          "output_type": "stream",
          "text": [
            "100%|██████████| 50/50 [14:38<00:00, 17.56s/it]\n"
          ]
        }
      ],
      "source": [
        "train_model(vae, train_loader, epochs=50, device=device)"
      ]
    },
    {
      "cell_type": "code",
      "execution_count": null,
      "metadata": {
        "id": "ZQA9kP73cLrK"
      },
      "outputs": [],
      "source": [
        "torch.save(vae.state_dict(), './model.pth')"
      ]
    },
    {
      "cell_type": "code",
      "execution_count": null,
      "metadata": {
        "colab": {
          "base_uri": "https://localhost:8080/"
        },
        "id": "rc5mQEUx9Pnq",
        "outputId": "4451083a-6cd4-4dee-ea05-ff3809bd3803"
      },
      "outputs": [
        {
          "name": "stdout",
          "output_type": "stream",
          "text": [
            "52M\t./model.pth\n"
          ]
        }
      ],
      "source": [
        "!du -h -d 0 ./model.pth"
      ]
    },
    {
      "cell_type": "markdown",
      "metadata": {
        "id": "0n4Vg9dvxz6m"
      },
      "source": [
        "## Model Losses"
      ]
    },
    {
      "cell_type": "code",
      "execution_count": null,
      "metadata": {
        "colab": {
          "base_uri": "https://localhost:8080/",
          "height": 252
        },
        "id": "gUvx66OCcEls",
        "outputId": "2556a01e-1ed4-4ac2-a6a4-260440b921df"
      },
      "outputs": [
        {
          "data": {
            "text/plain": [
              "[<matplotlib.lines.Line2D at 0x7f197244dc50>]"
            ]
          },
          "execution_count": 178,
          "metadata": {},
          "output_type": "execute_result"
        },
        {
          "data": {
            "image/png": "[encoded data removed]",
            "text/plain": [
              "<Figure size 432x288 with 1 Axes>"
            ]
          },
          "metadata": {},
          "output_type": "display_data"
        }
      ],
      "source": [
        "import matplotlib.pyplot as plt\n",
        "losses = list(map(lambda x: x.cpu().detach().numpy(), kl_losses))\n",
        "plt.plot(losses)"
      ]
    },
    {
      "cell_type": "markdown",
      "metadata": {
        "id": "posDj5_SDEr7"
      },
      "source": [
        "# Test"
      ]
    },
    {
      "cell_type": "markdown",
      "metadata": {
        "id": "fcsp2iM-xs_k"
      },
      "source": [
        "## Model Outputs"
      ]
    },
    {
      "cell_type": "code",
      "execution_count": 222,
      "metadata": {
        "colab": {
          "base_uri": "https://localhost:8080/",
          "height": 163
        },
        "id": "xvWCA7DQZJWh",
        "outputId": "19dfd33a-f9ed-43ae-ca02-63b301cb139d"
      },
      "outputs": [
        {
          "output_type": "stream",
          "name": "stdout",
          "text": [
            "695\n"
          ]
        },
        {
          "output_type": "display_data",
          "data": {
            "text/plain": [
              "<PIL.Image.Image image mode=RGB size=64x64 at 0x7F1960DDC050>"
            ],
            "image/png": "[encoded data removed]"
          },
          "metadata": {}
        },
        {
          "output_type": "display_data",
          "data": {
            "text/plain": [
              "<PIL.Image.Image image mode=RGB size=64x64 at 0x7F1960D97F10>"
            ],
            "image/png": "[encoded data removed]"
          },
          "metadata": {}
        }
      ],
      "source": [
        "from PIL import Image\n",
        "from random import randint\n",
        "\n",
        "def to_image(inp, channels=3, size=(64,64), resize=True):\n",
        "    ts = [transforms.ToPILImage(), transforms.Resize((256, 256))]\n",
        "    \n",
        "    t = transforms.ToPILImage() if not resize else transforms.Compose(ts)\n",
        "    return t(inp.view(channels, size[0], size[1]))\n",
        "\n",
        "\n",
        "'''\n",
        "NOTE TO SELF:\n",
        "\n",
        "* Make sure are using trained model for testing so you don't waste 5 hrs of your\n",
        "  life again wondering why model is spitting out random noise and realize you're\n",
        "  an idiot\n",
        "'''\n",
        "\n",
        "# data info\n",
        "data = test\n",
        "img_num = randint(0, len(data))\n",
        "reference = data[img_num][0]\n",
        "channels = reference.shape[0]\n",
        "size = (reference.shape[1],reference.shape[2])\n",
        "\n",
        "print(img_num)\n",
        "# 769\n",
        "\n",
        "# decoded image\n",
        "vae.eval()\n",
        "out, mu, log_sigma = vae(reference.view(1, channels, size[0], size[1]).to('cuda'))\n",
        "img = to_image(out, size=size, resize=False)\n",
        "display(img)\n",
        "\n",
        "# true image\n",
        "img = to_image(reference, size=size, resize=False)\n",
        "display(img)"
      ]
    },
    {
      "cell_type": "code",
      "execution_count": 234,
      "metadata": {
        "colab": {
          "base_uri": "https://localhost:8080/",
          "height": 81
        },
        "id": "mp6Q5EgYRC8T",
        "outputId": "d0e63592-3c7e-4a4c-e017-7c076c6c9926"
      },
      "outputs": [
        {
          "output_type": "execute_result",
          "data": {
            "text/plain": [
              "<PIL.Image.Image image mode=RGB size=64x64 at 0x7F1960D27490>"
            ],
            "image/png": "[encoded data removed]"
          },
          "metadata": {},
          "execution_count": 234
        }
      ],
      "source": [
        "# z = get_sample(mu, log_sigma)\n",
        "z = torch.randn_like(mu)\n",
        "dec = vae.dec\n",
        "out = dec(z)\n",
        "img = to_image(out, resize=False)\n",
        "img"
      ]
    },
    {
      "cell_type": "code",
      "execution_count": 235,
      "metadata": {
        "colab": {
          "base_uri": "https://localhost:8080/",
          "height": 286
        },
        "id": "JKi6O0KfgzUQ",
        "outputId": "ba1557c5-c049-4bbb-e4a7-50233da2ea3d"
      },
      "outputs": [
        {
          "output_type": "execute_result",
          "data": {
            "text/plain": [
              "<matplotlib.image.AxesImage at 0x7f1960d50f50>"
            ]
          },
          "metadata": {},
          "execution_count": 235
        },
        {
          "output_type": "display_data",
          "data": {
            "text/plain": [
              "<Figure size 432x288 with 1 Axes>"
            ],
            "image/png": "[encoded data removed]"
          },
          "metadata": {
            "needs_background": "light"
          }
        }
      ],
      "source": [
        "import matplotlib.pyplot as plt\n",
        "plt.imshow(out[0][0].cpu().detach().numpy())"
      ]
    }
  ],
  "metadata": {
    "accelerator": "GPU",
    "colab": {
      "collapsed_sections": [
        "jRJSvkVfnOeK"
      ],
      "provenance": [],
      "authorship_tag": "ABX9TyPWBY8XfXrWcAOo79fdFLs7"
    },
    "gpuClass": "standard",
    "kernelspec": {
      "display_name": "Python 3",
      "name": "python3"
    },
    "language_info": {
      "name": "python"
    },
    "widgets": {
      "application/vnd.jupyter.widget-state+json": {
        "0b8ca1f70ac14bc99fa282b136781ba2": {
          "model_module": "@jupyter-widgets/controls",
          "model_module_version": "1.5.0",
          "model_name": "DescriptionStyleModel",
          "state": {
            "_model_module": "@jupyter-widgets/controls",
            "_model_module_version": "1.5.0",
            "_model_name": "DescriptionStyleModel",
            "_view_count": null,
            "_view_module": "@jupyter-widgets/base",
            "_view_module_version": "1.2.0",
            "_view_name": "StyleView",
            "description_width": ""
          }
        },
        "104df80af9ab483cb9617c6d4aa53e15": {
          "model_module": "@jupyter-widgets/controls",
          "model_module_version": "1.5.0",
          "model_name": "HTMLModel",
          "state": {
            "_dom_classes": [],
            "_model_module": "@jupyter-widgets/controls",
            "_model_module_version": "1.5.0",
            "_model_name": "HTMLModel",
            "_view_count": null,
            "_view_module": "@jupyter-widgets/controls",
            "_view_module_version": "1.5.0",
            "_view_name": "HTMLView",
            "description": "",
            "description_tooltip": null,
            "layout": "IPY_MODEL_685e8b02f8124ead8a83512d2987f2c3",
            "placeholder": "​",
            "style": "IPY_MODEL_0b8ca1f70ac14bc99fa282b136781ba2",
            "value": " 2753340328/2753340328 [00:23&lt;00:00, 117752327.74it/s]"
          }
        },
        "1d1449b58d2946abb928a93ab93bb111": {
          "model_module": "@jupyter-widgets/controls",
          "model_module_version": "1.5.0",
          "model_name": "DescriptionStyleModel",
          "state": {
            "_model_module": "@jupyter-widgets/controls",
            "_model_module_version": "1.5.0",
            "_model_name": "DescriptionStyleModel",
            "_view_count": null,
            "_view_module": "@jupyter-widgets/base",
            "_view_module_version": "1.2.0",
            "_view_name": "StyleView",
            "description_width": ""
          }
        },
        "25493c3a11cc4ee9bb5846d62e3ccef2": {
          "model_module": "@jupyter-widgets/controls",
          "model_module_version": "1.5.0",
          "model_name": "HBoxModel",
          "state": {
            "_dom_classes": [],
            "_model_module": "@jupyter-widgets/controls",
            "_model_module_version": "1.5.0",
            "_model_name": "HBoxModel",
            "_view_count": null,
            "_view_module": "@jupyter-widgets/controls",
            "_view_module_version": "1.5.0",
            "_view_name": "HBoxView",
            "box_style": "",
            "children": [
              "IPY_MODEL_5fa36b5e3dd74df18b0fa481f38d9d1d",
              "IPY_MODEL_cbf768fb440d4b24b5d5822b5e723c65",
              "IPY_MODEL_104df80af9ab483cb9617c6d4aa53e15"
            ],
            "layout": "IPY_MODEL_c45968b53f60424e9b840c1b2431c04c"
          }
        },
        "4f566b511dd34452918eaaa4f2d4b23f": {
          "model_module": "@jupyter-widgets/base",
          "model_module_version": "1.2.0",
          "model_name": "LayoutModel",
          "state": {
            "_model_module": "@jupyter-widgets/base",
            "_model_module_version": "1.2.0",
            "_model_name": "LayoutModel",
            "_view_count": null,
            "_view_module": "@jupyter-widgets/base",
            "_view_module_version": "1.2.0",
            "_view_name": "LayoutView",
            "align_content": null,
            "align_items": null,
            "align_self": null,
            "border": null,
            "bottom": null,
            "display": null,
            "flex": null,
            "flex_flow": null,
            "grid_area": null,
            "grid_auto_columns": null,
            "grid_auto_flow": null,
            "grid_auto_rows": null,
            "grid_column": null,
            "grid_gap": null,
            "grid_row": null,
            "grid_template_areas": null,
            "grid_template_columns": null,
            "grid_template_rows": null,
            "height": null,
            "justify_content": null,
            "justify_items": null,
            "left": null,
            "margin": null,
            "max_height": null,
            "max_width": null,
            "min_height": null,
            "min_width": null,
            "object_fit": null,
            "object_position": null,
            "order": null,
            "overflow": null,
            "overflow_x": null,
            "overflow_y": null,
            "padding": null,
            "right": null,
            "top": null,
            "visibility": null,
            "width": null
          }
        },
        "5fa36b5e3dd74df18b0fa481f38d9d1d": {
          "model_module": "@jupyter-widgets/controls",
          "model_module_version": "1.5.0",
          "model_name": "HTMLModel",
          "state": {
            "_dom_classes": [],
            "_model_module": "@jupyter-widgets/controls",
            "_model_module_version": "1.5.0",
            "_model_name": "HTMLModel",
            "_view_count": null,
            "_view_module": "@jupyter-widgets/controls",
            "_view_module_version": "1.5.0",
            "_view_name": "HTMLView",
            "description": "",
            "description_tooltip": null,
            "layout": "IPY_MODEL_b52140cf280b45fa9ff421eeeb6f9be2",
            "placeholder": "​",
            "style": "IPY_MODEL_1d1449b58d2946abb928a93ab93bb111",
            "value": "100%"
          }
        },
        "685e8b02f8124ead8a83512d2987f2c3": {
          "model_module": "@jupyter-widgets/base",
          "model_module_version": "1.2.0",
          "model_name": "LayoutModel",
          "state": {
            "_model_module": "@jupyter-widgets/base",
            "_model_module_version": "1.2.0",
            "_model_name": "LayoutModel",
            "_view_count": null,
            "_view_module": "@jupyter-widgets/base",
            "_view_module_version": "1.2.0",
            "_view_name": "LayoutView",
            "align_content": null,
            "align_items": null,
            "align_self": null,
            "border": null,
            "bottom": null,
            "display": null,
            "flex": null,
            "flex_flow": null,
            "grid_area": null,
            "grid_auto_columns": null,
            "grid_auto_flow": null,
            "grid_auto_rows": null,
            "grid_column": null,
            "grid_gap": null,
            "grid_row": null,
            "grid_template_areas": null,
            "grid_template_columns": null,
            "grid_template_rows": null,
            "height": null,
            "justify_content": null,
            "justify_items": null,
            "left": null,
            "margin": null,
            "max_height": null,
            "max_width": null,
            "min_height": null,
            "min_width": null,
            "object_fit": null,
            "object_position": null,
            "order": null,
            "overflow": null,
            "overflow_x": null,
            "overflow_y": null,
            "padding": null,
            "right": null,
            "top": null,
            "visibility": null,
            "width": null
          }
        },
        "b22a0c2889d44c98a18ad81b193ef744": {
          "model_module": "@jupyter-widgets/controls",
          "model_module_version": "1.5.0",
          "model_name": "ProgressStyleModel",
          "state": {
            "_model_module": "@jupyter-widgets/controls",
            "_model_module_version": "1.5.0",
            "_model_name": "ProgressStyleModel",
            "_view_count": null,
            "_view_module": "@jupyter-widgets/base",
            "_view_module_version": "1.2.0",
            "_view_name": "StyleView",
            "bar_color": null,
            "description_width": ""
          }
        },
        "b52140cf280b45fa9ff421eeeb6f9be2": {
          "model_module": "@jupyter-widgets/base",
          "model_module_version": "1.2.0",
          "model_name": "LayoutModel",
          "state": {
            "_model_module": "@jupyter-widgets/base",
            "_model_module_version": "1.2.0",
            "_model_name": "LayoutModel",
            "_view_count": null,
            "_view_module": "@jupyter-widgets/base",
            "_view_module_version": "1.2.0",
            "_view_name": "LayoutView",
            "align_content": null,
            "align_items": null,
            "align_self": null,
            "border": null,
            "bottom": null,
            "display": null,
            "flex": null,
            "flex_flow": null,
            "grid_area": null,
            "grid_auto_columns": null,
            "grid_auto_flow": null,
            "grid_auto_rows": null,
            "grid_column": null,
            "grid_gap": null,
            "grid_row": null,
            "grid_template_areas": null,
            "grid_template_columns": null,
            "grid_template_rows": null,
            "height": null,
            "justify_content": null,
            "justify_items": null,
            "left": null,
            "margin": null,
            "max_height": null,
            "max_width": null,
            "min_height": null,
            "min_width": null,
            "object_fit": null,
            "object_position": null,
            "order": null,
            "overflow": null,
            "overflow_x": null,
            "overflow_y": null,
            "padding": null,
            "right": null,
            "top": null,
            "visibility": null,
            "width": null
          }
        },
        "c45968b53f60424e9b840c1b2431c04c": {
          "model_module": "@jupyter-widgets/base",
          "model_module_version": "1.2.0",
          "model_name": "LayoutModel",
          "state": {
            "_model_module": "@jupyter-widgets/base",
            "_model_module_version": "1.2.0",
            "_model_name": "LayoutModel",
            "_view_count": null,
            "_view_module": "@jupyter-widgets/base",
            "_view_module_version": "1.2.0",
            "_view_name": "LayoutView",
            "align_content": null,
            "align_items": null,
            "align_self": null,
            "border": null,
            "bottom": null,
            "display": null,
            "flex": null,
            "flex_flow": null,
            "grid_area": null,
            "grid_auto_columns": null,
            "grid_auto_flow": null,
            "grid_auto_rows": null,
            "grid_column": null,
            "grid_gap": null,
            "grid_row": null,
            "grid_template_areas": null,
            "grid_template_columns": null,
            "grid_template_rows": null,
            "height": null,
            "justify_content": null,
            "justify_items": null,
            "left": null,
            "margin": null,
            "max_height": null,
            "max_width": null,
            "min_height": null,
            "min_width": null,
            "object_fit": null,
            "object_position": null,
            "order": null,
            "overflow": null,
            "overflow_x": null,
            "overflow_y": null,
            "padding": null,
            "right": null,
            "top": null,
            "visibility": null,
            "width": null
          }
        },
        "cbf768fb440d4b24b5d5822b5e723c65": {
          "model_module": "@jupyter-widgets/controls",
          "model_module_version": "1.5.0",
          "model_name": "FloatProgressModel",
          "state": {
            "_dom_classes": [],
            "_model_module": "@jupyter-widgets/controls",
            "_model_module_version": "1.5.0",
            "_model_name": "FloatProgressModel",
            "_view_count": null,
            "_view_module": "@jupyter-widgets/controls",
            "_view_module_version": "1.5.0",
            "_view_name": "ProgressView",
            "bar_style": "success",
            "description": "",
            "description_tooltip": null,
            "layout": "IPY_MODEL_4f566b511dd34452918eaaa4f2d4b23f",
            "max": 2753340328,
            "min": 0,
            "orientation": "horizontal",
            "style": "IPY_MODEL_b22a0c2889d44c98a18ad81b193ef744",
            "value": 2753340328
          }
        }
      }
    }
  },
  "nbformat": 4,
  "nbformat_minor": 0
}