{
  "nbformat": 4,
  "nbformat_minor": 0,
  "metadata": {
    "colab": {
      "provenance": [],
      "collapsed_sections": [],
      "authorship_tag": "ABX9TyOFnK6lxyuif4B9Df7CPUxl"
    },
    "kernelspec": {
      "name": "python3",
      "display_name": "Python 3"
    },
    "language_info": {
      "name": "python"
    },
    "accelerator": "GPU",
    "gpuClass": "standard"
  },
  "cells": [
    {
      "cell_type": "markdown",
      "source": [
        "# Variational Autoencoder\n",
        "* paper: [Auto-Encoding Variational Bayes](https://arxiv.org/abs/1312.6114)\n",
        "\n",
        "## Implementation Details\n",
        "* **Training Data**: `FGVC-Aircraft`\n",
        "* **Goal**: Generate Random New Image of Aircraft\n",
        "* **Encoder Layers**: *in progress*\n",
        "* **Decoder Layers**: *in progress*"
      ],
      "metadata": {
        "id": "jRJSvkVfnOeK"
      }
    },
    {
      "cell_type": "code",
      "source": [
        "import torch"
      ],
      "metadata": {
        "id": "_WDuJyvIhFg9"
      },
      "execution_count": null,
      "outputs": []
    },
    {
      "cell_type": "markdown",
      "source": [
        "# Network"
      ],
      "metadata": {
        "id": "FlNq52FUDyrL"
      }
    },
    {
      "cell_type": "code",
      "source": [
        "import torch.nn as nn\n",
        "\n",
        "# TODO: right now sizes hardcoded, need paramters to control dimensions instead\n",
        "# TODO: experiment in training with different variations of current model\n",
        "\n",
        "class Encoder(nn.Module):\n",
        "    def __init__(self, img_channels, latent_dim):\n",
        "        super().__init__()\n",
        "        self.f = nn.Sequential(\n",
        "            nn.Conv2d(img_channels, 32, 4, 2),\n",
        "            nn.LeakyReLU(),\n",
        "            nn.Conv2d(32, 64, 3, 2),\n",
        "            nn.BatchNorm2d(64),\n",
        "            nn.LeakyReLU(),\n",
        "            nn.Conv2d(64, 64, 3, 2),\n",
        "            nn.BatchNorm2d(64),\n",
        "            nn.LeakyReLU(),\n",
        "        )\n",
        "        self.mu = nn.Linear(64*7*7, latent_dim)\n",
        "        self.log_sigma = nn.Linear(64*7*7, latent_dim)\n",
        "\n",
        "    def forward(self, X):\n",
        "        f = self.f(X)\n",
        "        mean = self.mu(f.view(-1, 64*7*7))\n",
        "        log_var = self.log_sigma(f.view(-1, 64*7*7))\n",
        "        return mean, log_var\n",
        "\n",
        "class Decoder(nn.Module):\n",
        "    def __init__(self, img_channels, latent_dim):\n",
        "        super().__init__()\n",
        "        self.start = nn.Sequential(\n",
        "            nn.Linear(latent_dim, 64*7*7),\n",
        "            nn.BatchNorm1d(64*7*7),\n",
        "            nn.ReLU(),\n",
        "        )\n",
        "        self.f = nn.Sequential(\n",
        "            nn.ConvTranspose2d(64, 64, 3, 2),\n",
        "            nn.BatchNorm2d(64),\n",
        "            nn.LeakyReLU(),\n",
        "            nn.ConvTranspose2d(64, 32, 3, 2),\n",
        "            nn.BatchNorm2d(32),\n",
        "            nn.LeakyReLU(),\n",
        "            nn.ConvTranspose2d(32, img_channels, 4, 2),\n",
        "            nn.LeakyReLU(),\n",
        "        )\n",
        "    \n",
        "    def forward(self, z):\n",
        "        start = self.start(z)\n",
        "        out = self.f(start.view(-1, 64, 7, 7))\n",
        "        return out\n",
        "\n",
        "\n",
        "class VAE(nn.Module):\n",
        "    def __init__(self, img_channels):\n",
        "        super().__init__()\n",
        "        self.enc = Encoder(img_channels)\n",
        "        self.dec = Decoder(img_channels)\n",
        "\n",
        "    def forward(self, X):\n",
        "        mu, log_sig = self.enc(X)\n",
        "        z = get_sample(mu, log_sig)\n",
        "        out = self.dec(z)\n",
        "        return out, mu, log_sig"
      ],
      "metadata": {
        "id": "0UEvpo3v8nVM"
      },
      "execution_count": 171,
      "outputs": []
    },
    {
      "cell_type": "markdown",
      "source": [
        "# Getting Dataset"
      ],
      "metadata": {
        "id": "DEERLyc2C2iT"
      }
    },
    {
      "cell_type": "code",
      "source": [
        "from torchvision import datasets\n",
        "import torchvision.transforms as transforms\n",
        "\n",
        "train = datasets.FGVCAircraft(\n",
        "    root = 'data',\n",
        "    split = 'train',\n",
        "    download = True,\n",
        "    transform = transforms.Compose([transforms.ToTensor(), \n",
        "                                    transforms.Resize((64, 64))])\n",
        ")\n",
        "\n",
        "test = datasets.FGVCAircraft(\n",
        "    root = 'data',\n",
        "    split = 'test',\n",
        "    download = True,\n",
        "    transform = transforms.Compose([transforms.ToTensor(), \n",
        "                                    transforms.Resize((64, 64))])\n",
        ")"
      ],
      "metadata": {
        "id": "jpGmzHJW8xgV"
      },
      "execution_count": null,
      "outputs": []
    },
    {
      "cell_type": "code",
      "source": [
        "import matplotlib.pyplot as plt\n",
        "\n",
        "plt.imshow(test[1500][0][0])"
      ],
      "metadata": {
        "colab": {
          "base_uri": "https://localhost:8080/",
          "height": 285
        },
        "id": "kxVYW9WD-I7r",
        "outputId": "0dd6ec95-2814-48e7-b8b7-10658f76d03e"
      },
      "execution_count": null,
      "outputs": [
        {
          "output_type": "execute_result",
          "data": {
            "text/plain": [
              "<matplotlib.image.AxesImage at 0x7f65ad628350>"
            ]
          },
          "metadata": {},
          "execution_count": 35
        },
        {
          "output_type": "display_data",
          "data": {
            "text/plain": [
              "<Figure size 432x288 with 1 Axes>"
            ],
            "image/png": "[encoded data removed]"
          },
          "metadata": {
            "needs_background": "light"
          }
        }
      ]
    },
    {
      "cell_type": "code",
      "source": [
        "from torch.utils.data import DataLoader, Subset\n",
        "\n",
        "def create_dataloaders(train_data: torch.Tensor, test_data: torch.Tensor, bs: int = 64):\n",
        "    train_loader = DataLoader(train_data, batch_size=bs, shuffle=True)\n",
        "    test_loader = DataLoader(test_data, batch_size=bs, shuffle=True)\n",
        "    return train_loader, test_loader\n",
        "\n",
        "subset = True\n",
        "train_loader = None\n",
        "test_loader = None\n",
        "\n",
        "# TODO: train using all of training images\n",
        "# wanna wait until i feel a bit better about core model results\n",
        "if subset:\n",
        "    # train and test on small subset of data for now.\n",
        "    train_ = Subset(train, range(750))\n",
        "    test_ = Subset(test, range(25))\n",
        "    train_loader, test_loader = create_dataloaders(train_, test_, bs=256)\n",
        "\n",
        "else:\n",
        "    train_loader, test_loader = create_dataloaders(train, test, bs=256)\n",
        "\n",
        "len(train_loader) * 256"
      ],
      "metadata": {
        "id": "kDNVpkSVA6qo",
        "colab": {
          "base_uri": "https://localhost:8080/"
        },
        "outputId": "416c7e2a-4f30-40af-aa3c-2a75f5aa54e9"
      },
      "execution_count": 318,
      "outputs": [
        {
          "output_type": "execute_result",
          "data": {
            "text/plain": [
              "768"
            ]
          },
          "metadata": {},
          "execution_count": 318
        }
      ]
    },
    {
      "cell_type": "markdown",
      "source": [
        "# Train"
      ],
      "metadata": {
        "id": "AuEGrNgADANa"
      }
    },
    {
      "cell_type": "code",
      "source": [
        "def kl_loss(mean: torch.Tensor, log_var: torch.Tensor):\n",
        "    # paper uses sum, but wasn't really capturing variance of imgs\n",
        "    # some things online suggested balacing issue between kl loss and other loss\n",
        "    \n",
        "    # using mean seemed to give \"better\" results. \n",
        "\n",
        "    # TODO: investigate the issue mentioned above more\n",
        "    return -0.5 * torch.mean(1 + log_var - mean.pow(2) - log_var.exp())"
      ],
      "metadata": {
        "id": "JNN9Cd30QW_U"
      },
      "execution_count": 231,
      "outputs": []
    },
    {
      "cell_type": "code",
      "source": [
        "def get_sample(mean: torch.Tensor, log_var: torch.Tensor):\n",
        "    e = torch.randn_like(mean)\n",
        "    var = torch.exp(log_var/2)\n",
        "    return mean + var*e"
      ],
      "metadata": {
        "id": "CkpTaCr1Row4"
      },
      "execution_count": null,
      "outputs": []
    },
    {
      "cell_type": "code",
      "source": [
        "import torch.optim as optim\n",
        "from tqdm import tqdm\n",
        "\n",
        "kl_losses = []\n",
        "mse_losses = []\n",
        "vae = VAE(3).to('cuda')"
      ],
      "metadata": {
        "id": "7NCICPS9iDfr"
      },
      "execution_count": 314,
      "outputs": []
    },
    {
      "cell_type": "code",
      "source": [
        "def train_model(model: nn.Module, train_loader: DataLoader, bs: int = 64, epochs: int = 10):\n",
        "    model.train()\n",
        "    opt = optim.Adam(vae.parameters(), lr=0.01)\n",
        "    for i in tqdm(range(epochs)):\n",
        "        for batch, (X, _) in enumerate(train_loader):\n",
        "            # train\n",
        "            opt.zero_grad()\n",
        "\n",
        "            X = X.to('cuda')\n",
        "\n",
        "            out, mean, log_var = model(X)\n",
        "\n",
        "            kl = kl_loss(mean, log_var)\n",
        "            mse = nn.MSELoss()(out, X)\n",
        "            loss = kl + mse\n",
        "            loss.backward()\n",
        "\n",
        "            kl_losses.append(kl)\n",
        "            mse_losses.append(mse)\n",
        "\n",
        "            opt.step()"
      ],
      "metadata": {
        "id": "Q05ap0IgBhdr"
      },
      "execution_count": 262,
      "outputs": []
    },
    {
      "cell_type": "code",
      "source": [
        "train_model(vae, train_loader, epochs=100)"
      ],
      "metadata": {
        "colab": {
          "base_uri": "https://localhost:8080/"
        },
        "id": "Q-jY9aNYBh6T",
        "outputId": "8563cd42-6325-4db7-93b4-c93591067f94"
      },
      "execution_count": 264,
      "outputs": [
        {
          "output_type": "stream",
          "name": "stderr",
          "text": [
            "100%|██████████| 100/100 [18:04<00:00, 10.85s/it]\n"
          ]
        }
      ]
    },
    {
      "cell_type": "code",
      "source": [
        "torch.save(vae.state_dict(), './model.pth')"
      ],
      "metadata": {
        "id": "ZQA9kP73cLrK"
      },
      "execution_count": 310,
      "outputs": []
    },
    {
      "cell_type": "markdown",
      "source": [
        "# Test"
      ],
      "metadata": {
        "id": "posDj5_SDEr7"
      }
    },
    {
      "cell_type": "code",
      "source": [
        "losses = list(map(lambda x: x.cpu().detach().numpy(), mse_losses))\n",
        "plt.plot(losses)"
      ],
      "metadata": {
        "colab": {
          "base_uri": "https://localhost:8080/",
          "height": 282
        },
        "id": "gUvx66OCcEls",
        "outputId": "bb432767-1027-4499-ee29-58b926a205da"
      },
      "execution_count": 261,
      "outputs": [
        {
          "output_type": "execute_result",
          "data": {
            "text/plain": [
              "[<matplotlib.lines.Line2D at 0x7f65aa8df590>]"
            ]
          },
          "metadata": {},
          "execution_count": 261
        },
        {
          "output_type": "display_data",
          "data": {
            "text/plain": [
              "<Figure size 432x288 with 1 Axes>"
            ],
            "image/png": "[encoded data removed]"
          },
          "metadata": {
            "needs_background": "light"
          }
        }
      ]
    },
    {
      "cell_type": "code",
      "source": [
        "print(losses)"
      ],
      "metadata": {
        "colab": {
          "base_uri": "https://localhost:8080/"
        },
        "id": "VRQrAzALd4hj",
        "outputId": "2a30cf3c-ec8f-4767-ae2b-ab7b3829c37a"
      },
      "execution_count": 186,
      "outputs": [
        {
          "output_type": "stream",
          "name": "stdout",
          "text": [
            "[array(2050.0422, dtype=float32), array(10886.859, dtype=float32), array(2351.061, dtype=float32), array(3235.768, dtype=float32), array(5184.0557, dtype=float32), array(3658.082, dtype=float32), array(1873.9304, dtype=float32), array(1717.0044, dtype=float32), array(2182.9092, dtype=float32), array(1910.099, dtype=float32), array(1267.7935, dtype=float32), array(11312.117, dtype=float32), array(1828.7319, dtype=float32), array(2577.3323, dtype=float32), array(5194.2104, dtype=float32), array(3722.2412, dtype=float32), array(1567.4365, dtype=float32), array(1294.2703, dtype=float32), array(2007.8766, dtype=float32), array(1947.3328, dtype=float32), array(1206.4349, dtype=float32), array(10225.418, dtype=float32), array(1552.7634, dtype=float32), array(2020.9473, dtype=float32), array(4647.601, dtype=float32), array(3462.2998, dtype=float32), array(1424.3655, dtype=float32), array(968.7798, dtype=float32), array(1621.1908, dtype=float32), array(1806.5702, dtype=float32), array(1259.5983, dtype=float32), array(7982.4385, dtype=float32), array(1385.4861, dtype=float32), array(1143.4924, dtype=float32), array(3367.0337, dtype=float32), array(2904.7488, dtype=float32), array(1271.3193, dtype=float32), array(633.4016, dtype=float32), array(1038.948, dtype=float32), array(1325.2119, dtype=float32), array(1024.436, dtype=float32), array(566.8043, dtype=float32), array(404.7426, dtype=float32), array(554.36566, dtype=float32), array(681.23804, dtype=float32), array(560.2141, dtype=float32), array(329.57532, dtype=float32), array(226.04553, dtype=float32), array(294.2991, dtype=float32), array(378.24823, dtype=float32), array(343.93683, dtype=float32), array(228.91971, dtype=float32), array(146.88196, dtype=float32), array(149.24942, dtype=float32), array(191.38066, dtype=float32), array(202.06178, dtype=float32), array(164.32968, dtype=float32), array(117.481445, dtype=float32), array(99.73673, dtype=float32), array(109.32263, dtype=float32), array(117.9698, dtype=float32), array(107.92408, dtype=float32), array(87.56041, dtype=float32), array(74.334785, dtype=float32), array(72.596924, dtype=float32), array(72.84212, dtype=float32), array(67.2514, dtype=float32), array(58.303947, dtype=float32), array(52.438046, dtype=float32), array(50.957283, dtype=float32), array(49.78808, dtype=float32), array(45.882557, dtype=float32), array(40.754284, dtype=float32), array(37.550476, dtype=float32), array(36.67808, dtype=float32), array(35.79957, dtype=float32), array(33.32876, dtype=float32), array(30.208378, dtype=float32), array(28.097172, dtype=float32), array(27.14701, dtype=float32), array(26.26025, dtype=float32), array(24.784966, dtype=float32), array(23.152227, dtype=float32), array(21.965061, dtype=float32), array(21.154438, dtype=float32), array(20.279362, dtype=float32), array(19.245766, dtype=float32), array(18.349958, dtype=float32), array(17.743076, dtype=float32), array(17.20691, dtype=float32), array(16.50284, dtype=float32), array(15.705059, dtype=float32), array(15.058217, dtype=float32), array(14.625637, dtype=float32), array(14.240866, dtype=float32), array(13.767985, dtype=float32), array(13.255144, dtype=float32), array(12.808134, dtype=float32), array(12.44191, dtype=float32), array(12.111449, dtype=float32), array(11.794453, dtype=float32), array(11.484108, dtype=float32), array(11.163309, dtype=float32), array(10.835831, dtype=float32), array(10.542196, dtype=float32), array(10.306819, dtype=float32), array(10.098503, dtype=float32), array(9.872332, dtype=float32), array(9.627663, dtype=float32), array(9.399155, dtype=float32), array(9.203873, dtype=float32), array(9.022588, dtype=float32), array(8.832649, dtype=float32), array(8.6394825, dtype=float32), array(8.463549, dtype=float32), array(8.30732, dtype=float32), array(8.153758, dtype=float32), array(7.9950786, dtype=float32), array(7.8418055, dtype=float32), array(7.7017083, dtype=float32), array(7.567864, dtype=float32), array(7.4322796, dtype=float32), array(7.2974544, dtype=float32), array(7.1695843, dtype=float32), array(7.0496755, dtype=float32), array(6.934104, dtype=float32), array(6.819524, dtype=float32), array(6.705672, dtype=float32), array(6.5949345, dtype=float32), array(6.4892254, dtype=float32)]\n"
          ]
        }
      ]
    },
    {
      "cell_type": "code",
      "source": [
        "from PIL import Image\n",
        "\n",
        "def to_image(inp):\n",
        "    t = transforms.ToPILImage()\n",
        "    return t(inp.view(3, 64, 64))\n",
        "\n",
        "\n",
        "img_num = 200\n",
        "\n",
        "'''\n",
        "NOTE TO SELF:\n",
        "\n",
        "* Make sure are using trained model for testing so you don't waste 5 hrs of your\n",
        "  life again wondering why model is spitting out random noise and realize you're\n",
        "  an idiot\n",
        "'''\n",
        "\n",
        "vae.eval()\n",
        "out, mu, log_sigma = vae(train_[img_num][0].view(1, 3, 64, 64).to('cuda'))\n",
        "\n",
        "img = to_image(out)\n",
        "img"
      ],
      "metadata": {
        "colab": {
          "base_uri": "https://localhost:8080/",
          "height": 81
        },
        "id": "xvWCA7DQZJWh",
        "outputId": "ff5cd3af-e4a9-4729-8951-f83da61b60ae"
      },
      "execution_count": 306,
      "outputs": [
        {
          "output_type": "execute_result",
          "data": {
            "text/plain": [
              "<PIL.Image.Image image mode=RGB size=64x64 at 0x7F65AA7D7890>"
            ],
            "image/png": "[encoded data removed]"
          },
          "metadata": {},
          "execution_count": 306
        }
      ]
    },
    {
      "cell_type": "code",
      "source": [
        "to_image(train[img_num][0])"
      ],
      "metadata": {
        "colab": {
          "base_uri": "https://localhost:8080/",
          "height": 81
        },
        "id": "LKAnyARfbPFv",
        "outputId": "f1c67c19-4095-48d5-d65f-3e9db5775dd1"
      },
      "execution_count": 307,
      "outputs": [
        {
          "output_type": "execute_result",
          "data": {
            "text/plain": [
              "<PIL.Image.Image image mode=RGB size=64x64 at 0x7F65AA7D7F90>"
            ],
            "image/png": "[encoded data removed]"
          },
          "metadata": {},
          "execution_count": 307
        }
      ]
    },
    {
      "cell_type": "code",
      "source": [
        "z = get_sample(mu, log_sigma)\n",
        "dec = vae.dec\n",
        "out = dec(z)\n",
        "img = to_image(out)\n",
        "img"
      ],
      "metadata": {
        "colab": {
          "base_uri": "https://localhost:8080/",
          "height": 81
        },
        "id": "mp6Q5EgYRC8T",
        "outputId": "d8b79cd3-338c-4252-cf80-910d5f2cfddf"
      },
      "execution_count": 277,
      "outputs": [
        {
          "output_type": "execute_result",
          "data": {
            "text/plain": [
              "<PIL.Image.Image image mode=RGB size=64x64 at 0x7F65AA815F50>"
            ],
            "image/png": "[encoded data removed]"
          },
          "metadata": {},
          "execution_count": 277
        }
      ]
    },
    {
      "cell_type": "code",
      "source": [
        "plt.imshow(out[0][0].cpu().detach().numpy())"
      ],
      "metadata": {
        "colab": {
          "base_uri": "https://localhost:8080/",
          "height": 285
        },
        "id": "JKi6O0KfgzUQ",
        "outputId": "348cda4d-fdc3-4637-8229-8d871b17aff7"
      },
      "execution_count": 267,
      "outputs": [
        {
          "output_type": "execute_result",
          "data": {
            "text/plain": [
              "<matplotlib.image.AxesImage at 0x7f65aabc7610>"
            ]
          },
          "metadata": {},
          "execution_count": 267
        },
        {
          "output_type": "display_data",
          "data": {
            "text/plain": [
              "<Figure size 432x288 with 1 Axes>"
            ],
            "image/png": "[encoded data removed]"
          },
          "metadata": {
            "needs_background": "light"
          }
        }
      ]
    }
  ]
}